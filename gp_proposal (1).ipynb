{
 "cells": [
  {
   "cell_type": "markdown",
   "id": "d424319e-757e-4f56-a3b9-364681888e70",
   "metadata": {},
   "source": [
    "## Group 9 Project Proposal"
   ]
  },
  {
   "cell_type": "markdown",
   "id": "82addf28-65a9-40ba-a845-8dc2ba503930",
   "metadata": {},
   "source": [
    "Sheldon Xu, Kate Samonkraisorakit, Emma Wolfe, Adrian Hasjim, Benjamin Nguyen"
   ]
  },
  {
   "cell_type": "markdown",
   "id": "37a931cd-ba17-46fd-95ae-da81f4ca6efd",
   "metadata": {
    "tags": []
   },
   "source": [
    "#### Predicting Crime Type in the Greater LA Region \n",
    "A deep-dive into the types of crime occurring in LA neighborhoods, and using victim characteristics to predict crime type.\n"
   ]
  },
  {
   "cell_type": "markdown",
   "id": "63bad948-0e49-4755-a865-0b86b921bb15",
   "metadata": {},
   "source": [
    "#### **Introduction**\n",
    "\n",
    "If you have ever been to Los Angeles, you may know that the region is grappling with increasing crime. The metropolitan area has seen a steady rise in property crime, for individuals of all ages. Crimes are no longer occurring solely at night, daytime crimes are also on the rise. Investigating recent crime data is crucial in determining potential trends and  to help create safer neighborhoods in the future. We have retrieved this data straight from the LAPD to use for analysis. \n",
    "\n",
    "In this analysis, we pose the question: **What crime type is more likely to occur to a victim of a certain age at a certain time?** By understanding the trends between victim traits and the crimes committed to them, we can better warn citizens and keep LA neighborhoods safe. "
   ]
  },
  {
   "cell_type": "markdown",
   "id": "b5fffe83-e178-4b4d-978d-ddf8e7b463de",
   "metadata": {},
   "source": [
    "#### **Preliminary exploratory data analysis**\n",
    "\n",
    "**Demonstrate that the dataset can be read from the web into Python**\n",
    "**Clean and wrangle your data into a tidy format**\n",
    "\n",
    "Using only training data, summarize the data in at least one table (this is exploratory data analysis).\n",
    "An example of a useful table could be one that reports the number of observations in each class, \n",
    "the means of the predictor variables you plan to use in your analysis and how many rows have missing data. \n",
    "Using only training data, visualize the data with at least one plot relevant to the analysis you plan to do\n",
    "(this is exploratory data analysis). An example of a useful visualization could be one that compares the \n",
    "distributions of each of the predictor variables you plan to use in your analysis.\n"
   ]
  },
  {
   "cell_type": "code",
   "execution_count": 36,
   "id": "5a273456-2ae7-45cf-93e3-3d6bbf1a9e07",
   "metadata": {
    "tags": []
   },
   "outputs": [
    {
     "data": {
      "text/html": [
       "<div>\n",
       "<style scoped>\n",
       "    .dataframe tbody tr th:only-of-type {\n",
       "        vertical-align: middle;\n",
       "    }\n",
       "\n",
       "    .dataframe tbody tr th {\n",
       "        vertical-align: top;\n",
       "    }\n",
       "\n",
       "    .dataframe thead th {\n",
       "        text-align: right;\n",
       "    }\n",
       "</style>\n",
       "<table border=\"1\" class=\"dataframe\">\n",
       "  <thead>\n",
       "    <tr style=\"text-align: right;\">\n",
       "      <th></th>\n",
       "      <th>Unnamed:_0</th>\n",
       "      <th>AREA_NAME</th>\n",
       "      <th>TIME_OCC</th>\n",
       "      <th>Crm_Cd</th>\n",
       "      <th>Crm_Cd_Desc</th>\n",
       "      <th>Vict_Age</th>\n",
       "      <th>Vict_Sex</th>\n",
       "      <th>Vict_Descent</th>\n",
       "    </tr>\n",
       "  </thead>\n",
       "  <tbody>\n",
       "    <tr>\n",
       "      <th>0</th>\n",
       "      <td>0</td>\n",
       "      <td>Southwest</td>\n",
       "      <td>2230</td>\n",
       "      <td>624</td>\n",
       "      <td>BATTERY - SIMPLE ASSAULT</td>\n",
       "      <td>36</td>\n",
       "      <td>F</td>\n",
       "      <td>B</td>\n",
       "    </tr>\n",
       "    <tr>\n",
       "      <th>1</th>\n",
       "      <td>1</td>\n",
       "      <td>Central</td>\n",
       "      <td>330</td>\n",
       "      <td>624</td>\n",
       "      <td>BATTERY - SIMPLE ASSAULT</td>\n",
       "      <td>25</td>\n",
       "      <td>M</td>\n",
       "      <td>H</td>\n",
       "    </tr>\n",
       "    <tr>\n",
       "      <th>2</th>\n",
       "      <td>2</td>\n",
       "      <td>77th Street</td>\n",
       "      <td>1230</td>\n",
       "      <td>745</td>\n",
       "      <td>VANDALISM - MISDEAMEANOR ($399 OR UNDER)</td>\n",
       "      <td>62</td>\n",
       "      <td>M</td>\n",
       "      <td>B</td>\n",
       "    </tr>\n",
       "    <tr>\n",
       "      <th>3</th>\n",
       "      <td>3</td>\n",
       "      <td>N Hollywood</td>\n",
       "      <td>1730</td>\n",
       "      <td>745</td>\n",
       "      <td>VANDALISM - MISDEAMEANOR ($399 OR UNDER)</td>\n",
       "      <td>76</td>\n",
       "      <td>F</td>\n",
       "      <td>W</td>\n",
       "    </tr>\n",
       "    <tr>\n",
       "      <th>5</th>\n",
       "      <td>5</td>\n",
       "      <td>Central</td>\n",
       "      <td>30</td>\n",
       "      <td>121</td>\n",
       "      <td>RAPE, FORCIBLE</td>\n",
       "      <td>25</td>\n",
       "      <td>F</td>\n",
       "      <td>H</td>\n",
       "    </tr>\n",
       "    <tr>\n",
       "      <th>...</th>\n",
       "      <td>...</td>\n",
       "      <td>...</td>\n",
       "      <td>...</td>\n",
       "      <td>...</td>\n",
       "      <td>...</td>\n",
       "      <td>...</td>\n",
       "      <td>...</td>\n",
       "      <td>...</td>\n",
       "    </tr>\n",
       "    <tr>\n",
       "      <th>276574</th>\n",
       "      <td>276574</td>\n",
       "      <td>Hollywood</td>\n",
       "      <td>813</td>\n",
       "      <td>624</td>\n",
       "      <td>BATTERY - SIMPLE ASSAULT</td>\n",
       "      <td>33</td>\n",
       "      <td>M</td>\n",
       "      <td>B</td>\n",
       "    </tr>\n",
       "    <tr>\n",
       "      <th>276575</th>\n",
       "      <td>276575</td>\n",
       "      <td>Rampart</td>\n",
       "      <td>1730</td>\n",
       "      <td>662</td>\n",
       "      <td>BUNCO, GRAND THEFT</td>\n",
       "      <td>39</td>\n",
       "      <td>M</td>\n",
       "      <td>W</td>\n",
       "    </tr>\n",
       "    <tr>\n",
       "      <th>276576</th>\n",
       "      <td>276576</td>\n",
       "      <td>West Valley</td>\n",
       "      <td>900</td>\n",
       "      <td>354</td>\n",
       "      <td>THEFT OF IDENTITY</td>\n",
       "      <td>38</td>\n",
       "      <td>M</td>\n",
       "      <td>H</td>\n",
       "    </tr>\n",
       "    <tr>\n",
       "      <th>276580</th>\n",
       "      <td>276580</td>\n",
       "      <td>Olympic</td>\n",
       "      <td>1930</td>\n",
       "      <td>888</td>\n",
       "      <td>TRESPASSING</td>\n",
       "      <td>29</td>\n",
       "      <td>M</td>\n",
       "      <td>H</td>\n",
       "    </tr>\n",
       "    <tr>\n",
       "      <th>276582</th>\n",
       "      <td>276582</td>\n",
       "      <td>Harbor</td>\n",
       "      <td>2210</td>\n",
       "      <td>434</td>\n",
       "      <td>FALSE IMPRISONMENT</td>\n",
       "      <td>41</td>\n",
       "      <td>F</td>\n",
       "      <td>B</td>\n",
       "    </tr>\n",
       "  </tbody>\n",
       "</table>\n",
       "<p>206525 rows × 8 columns</p>\n",
       "</div>"
      ],
      "text/plain": [
       "        Unnamed:_0    AREA_NAME  TIME_OCC  Crm_Cd  \\\n",
       "0                0    Southwest      2230     624   \n",
       "1                1      Central       330     624   \n",
       "2                2  77th Street      1230     745   \n",
       "3                3  N Hollywood      1730     745   \n",
       "5                5      Central        30     121   \n",
       "...            ...          ...       ...     ...   \n",
       "276574      276574    Hollywood       813     624   \n",
       "276575      276575      Rampart      1730     662   \n",
       "276576      276576  West Valley       900     354   \n",
       "276580      276580      Olympic      1930     888   \n",
       "276582      276582       Harbor      2210     434   \n",
       "\n",
       "                                     Crm_Cd_Desc  Vict_Age Vict_Sex  \\\n",
       "0                       BATTERY - SIMPLE ASSAULT        36        F   \n",
       "1                       BATTERY - SIMPLE ASSAULT        25        M   \n",
       "2       VANDALISM - MISDEAMEANOR ($399 OR UNDER)        62        M   \n",
       "3       VANDALISM - MISDEAMEANOR ($399 OR UNDER)        76        F   \n",
       "5                                 RAPE, FORCIBLE        25        F   \n",
       "...                                          ...       ...      ...   \n",
       "276574                  BATTERY - SIMPLE ASSAULT        33        M   \n",
       "276575                        BUNCO, GRAND THEFT        39        M   \n",
       "276576                         THEFT OF IDENTITY        38        M   \n",
       "276580                               TRESPASSING        29        M   \n",
       "276582                        FALSE IMPRISONMENT        41        F   \n",
       "\n",
       "       Vict_Descent  \n",
       "0                 B  \n",
       "1                 H  \n",
       "2                 B  \n",
       "3                 W  \n",
       "5                 H  \n",
       "...             ...  \n",
       "276574            B  \n",
       "276575            W  \n",
       "276576            H  \n",
       "276580            H  \n",
       "276582            B  \n",
       "\n",
       "[206525 rows x 8 columns]"
      ]
     },
     "execution_count": 36,
     "metadata": {},
     "output_type": "execute_result"
    }
   ],
   "source": [
    "import pandas as pd\n",
    "\n",
    "\n",
    "#loading the data from github (already tidy since we dropped the columns we do not need to make the file smaller)\n",
    "url = \"https://raw.githubusercontent.com/emmaw20/toy_ds_project/main/sample_crime_data.csv?token=GHSAT0AAAAAACJX4VM2AFZUCQJK5Q2CNDUEZKC2G4Q\" \n",
    "\n",
    "crime_data = pd.read_csv(url)\n",
    "\n",
    "#replacing spaces with \"_\" \n",
    "crime_data.columns = crime_data.columns.str.replace(' ', '_')\n",
    "\n",
    "\n",
    "crime_data = crime_data.drop_duplicates()\n",
    "crime_data = crime_data.dropna()\n",
    "crime_data = crime_data[crime_data[\"Vict_Age\"] != 0]\n",
    "crime_data = crime_data[crime_data[\"Vict_Sex\"] != \"X\"]\n",
    "crime_data = crime_data[crime_data[\"Vict_Sex\"] != \"H\"]\n",
    " \n",
    "crime_data"
   ]
  },
  {
   "cell_type": "code",
   "execution_count": 37,
   "id": "7e125a8b-9775-4b4d-a03d-2ca64309e0a0",
   "metadata": {
    "tags": []
   },
   "outputs": [
    {
     "data": {
      "text/plain": [
       "0         2230\n",
       "1          330\n",
       "2         1230\n",
       "3         1730\n",
       "5           30\n",
       "          ... \n",
       "276574     813\n",
       "276575    1730\n",
       "276576     900\n",
       "276580    1930\n",
       "276582    2210\n",
       "Name: TIME_OCC, Length: 206525, dtype: int64"
      ]
     },
     "execution_count": 37,
     "metadata": {},
     "output_type": "execute_result"
    }
   ],
   "source": [
    "crime_data[\"TIME_OCC\"]"
   ]
  },
  {
   "cell_type": "code",
   "execution_count": 38,
   "id": "d4698883-6997-488b-9c56-7ed4682b808b",
   "metadata": {
    "tags": []
   },
   "outputs": [],
   "source": [
    "#creating training and testing data \n",
    "from sklearn.model_selection import train_test_split\n",
    "\n",
    "#dividing the data into training and test set \n",
    "crime_train, crime_test = train_test_split(\n",
    "    crime_data, train_size=0.75\n",
    ")\n"
   ]
  },
  {
   "cell_type": "code",
   "execution_count": 39,
   "id": "4e16ab5c-143a-4fb8-b273-f9053ef93b96",
   "metadata": {
    "tags": []
   },
   "outputs": [],
   "source": [
    "X_train = crime_train[[\"TIME_OCC\"]]\n",
    "y_train = crime_train[\"Vict_Age\"]\n",
    "\n",
    "X_test = crime_test[[\"TIME_OCC\"]]\n",
    "y_test = crime_test[\"Vict_Age\"]"
   ]
  },
  {
   "cell_type": "code",
   "execution_count": 40,
   "id": "ba160bba-e45e-4809-96fd-b7a71e6a0079",
   "metadata": {
    "tags": []
   },
   "outputs": [
    {
     "data": {
      "text/plain": [
       "M    81029\n",
       "F    73864\n",
       "Name: Vict_Sex, dtype: int64"
      ]
     },
     "execution_count": 40,
     "metadata": {},
     "output_type": "execute_result"
    }
   ],
   "source": [
    "#exploratory data analysis with the training data\n",
    "crime_train[\"Vict_Sex\"].value_counts()                                    "
   ]
  },
  {
   "cell_type": "code",
   "execution_count": 41,
   "id": "d234f7d0-913e-4c75-a665-bca5223605e3",
   "metadata": {
    "tags": []
   },
   "outputs": [
    {
     "data": {
      "text/plain": [
       "77th Street    10267\n",
       "Central         9290\n",
       "Pacific         8960\n",
       "Southwest       8744\n",
       "Southeast       8345\n",
       "Hollywood       8075\n",
       "Wilshire        7974\n",
       "N Hollywood     7857\n",
       "West LA         7742\n",
       "Olympic         7290\n",
       "Van Nuys        7221\n",
       "Topanga         7213\n",
       "Rampart         6909\n",
       "Newton          6855\n",
       "Mission         6536\n",
       "Harbor          6486\n",
       "Northeast       6237\n",
       "West Valley     6055\n",
       "Devonshire      5794\n",
       "Hollenbeck      5552\n",
       "Foothill        5491\n",
       "Name: AREA_NAME, dtype: int64"
      ]
     },
     "execution_count": 41,
     "metadata": {},
     "output_type": "execute_result"
    }
   ],
   "source": [
    "crime_train[\"AREA_NAME\"].value_counts() "
   ]
  },
  {
   "cell_type": "code",
   "execution_count": 42,
   "id": "93e1a94c-0e38-43c5-b3ca-607b1690f101",
   "metadata": {
    "tags": []
   },
   "outputs": [
    {
     "data": {
      "text/plain": [
       "BATTERY - SIMPLE ASSAULT                                   16512\n",
       "BURGLARY FROM VEHICLE                                      12975\n",
       "ASSAULT WITH DEADLY WEAPON, AGGRAVATED ASSAULT             11813\n",
       "INTIMATE PARTNER - SIMPLE ASSAULT                          11178\n",
       "VANDALISM - FELONY ($400 & OVER, ALL CHURCH VANDALISMS)     9911\n",
       "                                                           ...  \n",
       "INCEST (SEXUAL ACTS BETWEEN BLOOD RELATIVES)                   1\n",
       "BRIBERY                                                        1\n",
       "LYNCHING                                                       1\n",
       "WEAPONS POSSESSION/BOMBING                                     1\n",
       "GRAND THEFT / INSURANCE FRAUD                                  1\n",
       "Name: Crm_Cd_Desc, Length: 127, dtype: int64"
      ]
     },
     "execution_count": 42,
     "metadata": {},
     "output_type": "execute_result"
    }
   ],
   "source": [
    "crime_train[\"Crm_Cd_Desc\"].value_counts(ascending=False) "
   ]
  },
  {
   "cell_type": "code",
   "execution_count": 43,
   "id": "935e4685-0131-4ca7-8862-655abe81e493",
   "metadata": {
    "tags": []
   },
   "outputs": [
    {
     "data": {
      "text/plain": [
       "30    4859\n",
       "29    4555\n",
       "28    4514\n",
       "35    4427\n",
       "31    4395\n",
       "      ... \n",
       "94      27\n",
       "95      21\n",
       "96      18\n",
       "98      17\n",
       "97      16\n",
       "Name: Vict_Age, Length: 98, dtype: int64"
      ]
     },
     "execution_count": 43,
     "metadata": {},
     "output_type": "execute_result"
    }
   ],
   "source": [
    "crime_train[\"Vict_Age\"].value_counts(ascending=False) "
   ]
  },
  {
   "cell_type": "code",
   "execution_count": 44,
   "id": "ced77fa4-f38d-4a5d-817b-3ebd8789cef8",
   "metadata": {
    "tags": []
   },
   "outputs": [
    {
     "data": {
      "text/html": [
       "\n",
       "<div id=\"altair-viz-17e316ac1e214ce8a30bdc616b911e92\"></div>\n",
       "<script type=\"text/javascript\">\n",
       "  var VEGA_DEBUG = (typeof VEGA_DEBUG == \"undefined\") ? {} : VEGA_DEBUG;\n",
       "  (function(spec, embedOpt){\n",
       "    let outputDiv = document.currentScript.previousElementSibling;\n",
       "    if (outputDiv.id !== \"altair-viz-17e316ac1e214ce8a30bdc616b911e92\") {\n",
       "      outputDiv = document.getElementById(\"altair-viz-17e316ac1e214ce8a30bdc616b911e92\");\n",
       "    }\n",
       "    const paths = {\n",
       "      \"vega\": \"https://cdn.jsdelivr.net/npm//vega@5?noext\",\n",
       "      \"vega-lib\": \"https://cdn.jsdelivr.net/npm//vega-lib?noext\",\n",
       "      \"vega-lite\": \"https://cdn.jsdelivr.net/npm//vega-lite@4.17.0?noext\",\n",
       "      \"vega-embed\": \"https://cdn.jsdelivr.net/npm//vega-embed@6?noext\",\n",
       "    };\n",
       "\n",
       "    function maybeLoadScript(lib, version) {\n",
       "      var key = `${lib.replace(\"-\", \"\")}_version`;\n",
       "      return (VEGA_DEBUG[key] == version) ?\n",
       "        Promise.resolve(paths[lib]) :\n",
       "        new Promise(function(resolve, reject) {\n",
       "          var s = document.createElement('script');\n",
       "          document.getElementsByTagName(\"head\")[0].appendChild(s);\n",
       "          s.async = true;\n",
       "          s.onload = () => {\n",
       "            VEGA_DEBUG[key] = version;\n",
       "            return resolve(paths[lib]);\n",
       "          };\n",
       "          s.onerror = () => reject(`Error loading script: ${paths[lib]}`);\n",
       "          s.src = paths[lib];\n",
       "        });\n",
       "    }\n",
       "\n",
       "    function showError(err) {\n",
       "      outputDiv.innerHTML = `<div class=\"error\" style=\"color:red;\">${err}</div>`;\n",
       "      throw err;\n",
       "    }\n",
       "\n",
       "    function displayChart(vegaEmbed) {\n",
       "      vegaEmbed(outputDiv, spec, embedOpt)\n",
       "        .catch(err => showError(`Javascript Error: ${err.message}<br>This usually means there's a typo in your chart specification. See the javascript console for the full traceback.`));\n",
       "    }\n",
       "\n",
       "    if(typeof define === \"function\" && define.amd) {\n",
       "      requirejs.config({paths});\n",
       "      require([\"vega-embed\"], displayChart, err => showError(`Error loading script: ${err.message}`));\n",
       "    } else {\n",
       "      maybeLoadScript(\"vega\", \"5\")\n",
       "        .then(() => maybeLoadScript(\"vega-lite\", \"4.17.0\"))\n",
       "        .then(() => maybeLoadScript(\"vega-embed\", \"6\"))\n",
       "        .catch(showError)\n",
       "        .then(() => displayChart(vegaEmbed));\n",
       "    }\n",
       "  })({\"config\": {\"view\": {\"continuousWidth\": 400, \"continuousHeight\": 300}}, \"data\": {\"name\": \"data-7b07a8e7d23c2e1519bbf5586a764a23\"}, \"mark\": {\"type\": \"point\", \"opacity\": 0.5}, \"encoding\": {\"color\": {\"field\": \"Vict_Descent\", \"title\": \"Victim Descent (ethnicity)\", \"type\": \"nominal\"}, \"shape\": {\"field\": \"Vict_Sex\", \"title\": \"Sex of Victim (male or female)\", \"type\": \"nominal\"}, \"x\": {\"field\": \"TIME_OCC\", \"title\": \"Time Crime Occurred, in military hours\", \"type\": \"temporal\"}, \"y\": {\"field\": \"Vict_Age\", \"title\": \"Age of Victim, in years\", \"type\": \"quantitative\"}}, \"title\": \"Age of Victim versus Time of Crime\", \"$schema\": \"https://vega.github.io/schema/vega-lite/v4.17.0.json\", \"datasets\": {\"data-7b07a8e7d23c2e1519bbf5586a764a23\": [{\"Unnamed:_0\": 156160, \"AREA_NAME\": \"Pacific\", \"TIME_OCC\": 1816, \"Crm_Cd\": 440, \"Crm_Cd_Desc\": \"THEFT PLAIN - PETTY ($950 & UNDER)\", \"Vict_Age\": 33, \"Vict_Sex\": \"M\", \"Vict_Descent\": \"W\"}, {\"Unnamed:_0\": 174087, \"AREA_NAME\": \"Mission\", \"TIME_OCC\": 1600, \"Crm_Cd\": 310, \"Crm_Cd_Desc\": \"BURGLARY\", \"Vict_Age\": 44, \"Vict_Sex\": \"M\", \"Vict_Descent\": \"H\"}, {\"Unnamed:_0\": 49108, \"AREA_NAME\": \"Central\", \"TIME_OCC\": 855, \"Crm_Cd\": 210, \"Crm_Cd_Desc\": \"ROBBERY\", \"Vict_Age\": 51, \"Vict_Sex\": \"M\", \"Vict_Descent\": \"W\"}, {\"Unnamed:_0\": 108730, \"AREA_NAME\": \"Wilshire\", \"TIME_OCC\": 1600, \"Crm_Cd\": 330, \"Crm_Cd_Desc\": \"BURGLARY FROM VEHICLE\", \"Vict_Age\": 34, \"Vict_Sex\": \"F\", \"Vict_Descent\": \"B\"}, {\"Unnamed:_0\": 109086, \"AREA_NAME\": \"Van Nuys\", \"TIME_OCC\": 800, \"Crm_Cd\": 900, \"Crm_Cd_Desc\": \"VIOLATION OF COURT ORDER\", \"Vict_Age\": 67, \"Vict_Sex\": \"F\", \"Vict_Descent\": \"H\"}, {\"Unnamed:_0\": 30092, \"AREA_NAME\": \"Foothill\", \"TIME_OCC\": 1400, \"Crm_Cd\": 330, \"Crm_Cd_Desc\": \"BURGLARY FROM VEHICLE\", \"Vict_Age\": 35, \"Vict_Sex\": \"M\", \"Vict_Descent\": \"H\"}, {\"Unnamed:_0\": 14196, \"AREA_NAME\": \"N Hollywood\", \"TIME_OCC\": 1400, \"Crm_Cd\": 440, \"Crm_Cd_Desc\": \"THEFT PLAIN - PETTY ($950 & UNDER)\", \"Vict_Age\": 63, \"Vict_Sex\": \"F\", \"Vict_Descent\": \"B\"}, {\"Unnamed:_0\": 221996, \"AREA_NAME\": \"Wilshire\", \"TIME_OCC\": 2207, \"Crm_Cd\": 330, \"Crm_Cd_Desc\": \"BURGLARY FROM VEHICLE\", \"Vict_Age\": 28, \"Vict_Sex\": \"M\", \"Vict_Descent\": \"H\"}, {\"Unnamed:_0\": 200771, \"AREA_NAME\": \"N Hollywood\", \"TIME_OCC\": 2300, \"Crm_Cd\": 330, \"Crm_Cd_Desc\": \"BURGLARY FROM VEHICLE\", \"Vict_Age\": 65, \"Vict_Sex\": \"M\", \"Vict_Descent\": \"W\"}, {\"Unnamed:_0\": 138220, \"AREA_NAME\": \"Hollenbeck\", \"TIME_OCC\": 1300, \"Crm_Cd\": 662, \"Crm_Cd_Desc\": \"BUNCO, GRAND THEFT\", \"Vict_Age\": 25, \"Vict_Sex\": \"M\", \"Vict_Descent\": \"W\"}, {\"Unnamed:_0\": 10119, \"AREA_NAME\": \"Northeast\", \"TIME_OCC\": 1510, \"Crm_Cd\": 745, \"Crm_Cd_Desc\": \"VANDALISM - MISDEAMEANOR ($399 OR UNDER)\", \"Vict_Age\": 12, \"Vict_Sex\": \"M\", \"Vict_Descent\": \"H\"}, {\"Unnamed:_0\": 230662, \"AREA_NAME\": \"Southeast\", \"TIME_OCC\": 1400, \"Crm_Cd\": 626, \"Crm_Cd_Desc\": \"INTIMATE PARTNER - SIMPLE ASSAULT\", \"Vict_Age\": 33, \"Vict_Sex\": \"M\", \"Vict_Descent\": \"H\"}, {\"Unnamed:_0\": 133178, \"AREA_NAME\": \"Devonshire\", \"TIME_OCC\": 500, \"Crm_Cd\": 330, \"Crm_Cd_Desc\": \"BURGLARY FROM VEHICLE\", \"Vict_Age\": 28, \"Vict_Sex\": \"M\", \"Vict_Descent\": \"H\"}, {\"Unnamed:_0\": 23080, \"AREA_NAME\": \"Newton\", \"TIME_OCC\": 1700, \"Crm_Cd\": 330, \"Crm_Cd_Desc\": \"BURGLARY FROM VEHICLE\", \"Vict_Age\": 23, \"Vict_Sex\": \"M\", \"Vict_Descent\": \"O\"}, {\"Unnamed:_0\": 120246, \"AREA_NAME\": \"77th Street\", \"TIME_OCC\": 2155, \"Crm_Cd\": 740, \"Crm_Cd_Desc\": \"VANDALISM - FELONY ($400 & OVER, ALL CHURCH VANDALISMS)\", \"Vict_Age\": 24, \"Vict_Sex\": \"F\", \"Vict_Descent\": \"B\"}, {\"Unnamed:_0\": 117127, \"AREA_NAME\": \"West LA\", \"TIME_OCC\": 2130, \"Crm_Cd\": 330, \"Crm_Cd_Desc\": \"BURGLARY FROM VEHICLE\", \"Vict_Age\": 25, \"Vict_Sex\": \"F\", \"Vict_Descent\": \"W\"}, {\"Unnamed:_0\": 184361, \"AREA_NAME\": \"Newton\", \"TIME_OCC\": 30, \"Crm_Cd\": 745, \"Crm_Cd_Desc\": \"VANDALISM - MISDEAMEANOR ($399 OR UNDER)\", \"Vict_Age\": 25, \"Vict_Sex\": \"F\", \"Vict_Descent\": \"H\"}, {\"Unnamed:_0\": 153277, \"AREA_NAME\": \"Newton\", \"TIME_OCC\": 1450, \"Crm_Cd\": 745, \"Crm_Cd_Desc\": \"VANDALISM - MISDEAMEANOR ($399 OR UNDER)\", \"Vict_Age\": 70, \"Vict_Sex\": \"F\", \"Vict_Descent\": \"B\"}, {\"Unnamed:_0\": 36110, \"AREA_NAME\": \"Pacific\", \"TIME_OCC\": 1545, \"Crm_Cd\": 740, \"Crm_Cd_Desc\": \"VANDALISM - FELONY ($400 & OVER, ALL CHURCH VANDALISMS)\", \"Vict_Age\": 43, \"Vict_Sex\": \"M\", \"Vict_Descent\": \"W\"}, {\"Unnamed:_0\": 238429, \"AREA_NAME\": \"West LA\", \"TIME_OCC\": 850, \"Crm_Cd\": 956, \"Crm_Cd_Desc\": \"LETTERS, LEWD  -  TELEPHONE CALLS, LEWD\", \"Vict_Age\": 32, \"Vict_Sex\": \"F\", \"Vict_Descent\": \"W\"}, {\"Unnamed:_0\": 95532, \"AREA_NAME\": \"77th Street\", \"TIME_OCC\": 1100, \"Crm_Cd\": 310, \"Crm_Cd_Desc\": \"BURGLARY\", \"Vict_Age\": 33, \"Vict_Sex\": \"F\", \"Vict_Descent\": \"B\"}, {\"Unnamed:_0\": 226343, \"AREA_NAME\": \"Devonshire\", \"TIME_OCC\": 2000, \"Crm_Cd\": 626, \"Crm_Cd_Desc\": \"INTIMATE PARTNER - SIMPLE ASSAULT\", \"Vict_Age\": 28, \"Vict_Sex\": \"F\", \"Vict_Descent\": \"B\"}, {\"Unnamed:_0\": 210073, \"AREA_NAME\": \"Devonshire\", \"TIME_OCC\": 915, \"Crm_Cd\": 440, \"Crm_Cd_Desc\": \"THEFT PLAIN - PETTY ($950 & UNDER)\", \"Vict_Age\": 53, \"Vict_Sex\": \"F\", \"Vict_Descent\": \"O\"}, {\"Unnamed:_0\": 163880, \"AREA_NAME\": \"Southeast\", \"TIME_OCC\": 2110, \"Crm_Cd\": 210, \"Crm_Cd_Desc\": \"ROBBERY\", \"Vict_Age\": 17, \"Vict_Sex\": \"M\", \"Vict_Descent\": \"H\"}, {\"Unnamed:_0\": 189617, \"AREA_NAME\": \"Newton\", \"TIME_OCC\": 1730, \"Crm_Cd\": 230, \"Crm_Cd_Desc\": \"ASSAULT WITH DEADLY WEAPON, AGGRAVATED ASSAULT\", \"Vict_Age\": 32, \"Vict_Sex\": \"M\", \"Vict_Descent\": \"B\"}, {\"Unnamed:_0\": 212899, \"AREA_NAME\": \"Harbor\", \"TIME_OCC\": 2130, \"Crm_Cd\": 310, \"Crm_Cd_Desc\": \"BURGLARY\", \"Vict_Age\": 40, \"Vict_Sex\": \"M\", \"Vict_Descent\": \"H\"}, {\"Unnamed:_0\": 115465, \"AREA_NAME\": \"Van Nuys\", \"TIME_OCC\": 1900, \"Crm_Cd\": 310, \"Crm_Cd_Desc\": \"BURGLARY\", \"Vict_Age\": 37, \"Vict_Sex\": \"M\", \"Vict_Descent\": \"H\"}, {\"Unnamed:_0\": 103784, \"AREA_NAME\": \"N Hollywood\", \"TIME_OCC\": 2100, \"Crm_Cd\": 740, \"Crm_Cd_Desc\": \"VANDALISM - FELONY ($400 & OVER, ALL CHURCH VANDALISMS)\", \"Vict_Age\": 35, \"Vict_Sex\": \"M\", \"Vict_Descent\": \"W\"}, {\"Unnamed:_0\": 166689, \"AREA_NAME\": \"N Hollywood\", \"TIME_OCC\": 2200, \"Crm_Cd\": 330, \"Crm_Cd_Desc\": \"BURGLARY FROM VEHICLE\", \"Vict_Age\": 33, \"Vict_Sex\": \"M\", \"Vict_Descent\": \"O\"}, {\"Unnamed:_0\": 20119, \"AREA_NAME\": \"Topanga\", \"TIME_OCC\": 1700, \"Crm_Cd\": 740, \"Crm_Cd_Desc\": \"VANDALISM - FELONY ($400 & OVER, ALL CHURCH VANDALISMS)\", \"Vict_Age\": 35, \"Vict_Sex\": \"M\", \"Vict_Descent\": \"X\"}, {\"Unnamed:_0\": 200492, \"AREA_NAME\": \"N Hollywood\", \"TIME_OCC\": 1800, \"Crm_Cd\": 330, \"Crm_Cd_Desc\": \"BURGLARY FROM VEHICLE\", \"Vict_Age\": 36, \"Vict_Sex\": \"M\", \"Vict_Descent\": \"O\"}, {\"Unnamed:_0\": 209938, \"AREA_NAME\": \"Wilshire\", \"TIME_OCC\": 1830, \"Crm_Cd\": 625, \"Crm_Cd_Desc\": \"OTHER ASSAULT\", \"Vict_Age\": 35, \"Vict_Sex\": \"F\", \"Vict_Descent\": \"B\"}, {\"Unnamed:_0\": 178062, \"AREA_NAME\": \"Hollenbeck\", \"TIME_OCC\": 1430, \"Crm_Cd\": 440, \"Crm_Cd_Desc\": \"THEFT PLAIN - PETTY ($950 & UNDER)\", \"Vict_Age\": 38, \"Vict_Sex\": \"F\", \"Vict_Descent\": \"H\"}, {\"Unnamed:_0\": 42550, \"AREA_NAME\": \"Newton\", \"TIME_OCC\": 2045, \"Crm_Cd\": 230, \"Crm_Cd_Desc\": \"ASSAULT WITH DEADLY WEAPON, AGGRAVATED ASSAULT\", \"Vict_Age\": 24, \"Vict_Sex\": \"F\", \"Vict_Descent\": \"H\"}, {\"Unnamed:_0\": 254363, \"AREA_NAME\": \"Newton\", \"TIME_OCC\": 2145, \"Crm_Cd\": 626, \"Crm_Cd_Desc\": \"INTIMATE PARTNER - SIMPLE ASSAULT\", \"Vict_Age\": 56, \"Vict_Sex\": \"M\", \"Vict_Descent\": \"H\"}, {\"Unnamed:_0\": 20507, \"AREA_NAME\": \"Topanga\", \"TIME_OCC\": 1, \"Crm_Cd\": 354, \"Crm_Cd_Desc\": \"THEFT OF IDENTITY\", \"Vict_Age\": 40, \"Vict_Sex\": \"F\", \"Vict_Descent\": \"B\"}, {\"Unnamed:_0\": 257225, \"AREA_NAME\": \"Rampart\", \"TIME_OCC\": 1230, \"Crm_Cd\": 626, \"Crm_Cd_Desc\": \"INTIMATE PARTNER - SIMPLE ASSAULT\", \"Vict_Age\": 19, \"Vict_Sex\": \"F\", \"Vict_Descent\": \"H\"}, {\"Unnamed:_0\": 140905, \"AREA_NAME\": \"Southeast\", \"TIME_OCC\": 2245, \"Crm_Cd\": 626, \"Crm_Cd_Desc\": \"INTIMATE PARTNER - SIMPLE ASSAULT\", \"Vict_Age\": 47, \"Vict_Sex\": \"F\", \"Vict_Descent\": \"B\"}, {\"Unnamed:_0\": 89786, \"AREA_NAME\": \"Harbor\", \"TIME_OCC\": 1330, \"Crm_Cd\": 626, \"Crm_Cd_Desc\": \"INTIMATE PARTNER - SIMPLE ASSAULT\", \"Vict_Age\": 26, \"Vict_Sex\": \"F\", \"Vict_Descent\": \"B\"}, {\"Unnamed:_0\": 66093, \"AREA_NAME\": \"Devonshire\", \"TIME_OCC\": 1500, \"Crm_Cd\": 330, \"Crm_Cd_Desc\": \"BURGLARY FROM VEHICLE\", \"Vict_Age\": 31, \"Vict_Sex\": \"M\", \"Vict_Descent\": \"H\"}, {\"Unnamed:_0\": 184469, \"AREA_NAME\": \"77th Street\", \"TIME_OCC\": 2100, \"Crm_Cd\": 740, \"Crm_Cd_Desc\": \"VANDALISM - FELONY ($400 & OVER, ALL CHURCH VANDALISMS)\", \"Vict_Age\": 56, \"Vict_Sex\": \"M\", \"Vict_Descent\": \"B\"}, {\"Unnamed:_0\": 246921, \"AREA_NAME\": \"Foothill\", \"TIME_OCC\": 1500, \"Crm_Cd\": 341, \"Crm_Cd_Desc\": \"THEFT-GRAND ($950.01 & OVER)EXCPT,GUNS,FOWL,LIVESTK,PROD\", \"Vict_Age\": 78, \"Vict_Sex\": \"M\", \"Vict_Descent\": \"W\"}, {\"Unnamed:_0\": 257334, \"AREA_NAME\": \"Northeast\", \"TIME_OCC\": 1200, \"Crm_Cd\": 354, \"Crm_Cd_Desc\": \"THEFT OF IDENTITY\", \"Vict_Age\": 51, \"Vict_Sex\": \"F\", \"Vict_Descent\": \"W\"}, {\"Unnamed:_0\": 213504, \"AREA_NAME\": \"Southwest\", \"TIME_OCC\": 2111, \"Crm_Cd\": 956, \"Crm_Cd_Desc\": \"LETTERS, LEWD  -  TELEPHONE CALLS, LEWD\", \"Vict_Age\": 19, \"Vict_Sex\": \"M\", \"Vict_Descent\": \"B\"}, {\"Unnamed:_0\": 188452, \"AREA_NAME\": \"Mission\", \"TIME_OCC\": 800, \"Crm_Cd\": 626, \"Crm_Cd_Desc\": \"INTIMATE PARTNER - SIMPLE ASSAULT\", \"Vict_Age\": 19, \"Vict_Sex\": \"F\", \"Vict_Descent\": \"H\"}, {\"Unnamed:_0\": 244346, \"AREA_NAME\": \"Topanga\", \"TIME_OCC\": 800, \"Crm_Cd\": 740, \"Crm_Cd_Desc\": \"VANDALISM - FELONY ($400 & OVER, ALL CHURCH VANDALISMS)\", \"Vict_Age\": 79, \"Vict_Sex\": \"M\", \"Vict_Descent\": \"W\"}, {\"Unnamed:_0\": 191778, \"AREA_NAME\": \"Southeast\", \"TIME_OCC\": 1730, \"Crm_Cd\": 745, \"Crm_Cd_Desc\": \"VANDALISM - MISDEAMEANOR ($399 OR UNDER)\", \"Vict_Age\": 35, \"Vict_Sex\": \"F\", \"Vict_Descent\": \"H\"}, {\"Unnamed:_0\": 64501, \"AREA_NAME\": \"Newton\", \"TIME_OCC\": 2000, \"Crm_Cd\": 901, \"Crm_Cd_Desc\": \"VIOLATION OF RESTRAINING ORDER\", \"Vict_Age\": 52, \"Vict_Sex\": \"F\", \"Vict_Descent\": \"H\"}, {\"Unnamed:_0\": 974, \"AREA_NAME\": \"Central\", \"TIME_OCC\": 1055, \"Crm_Cd\": 956, \"Crm_Cd_Desc\": \"LETTERS, LEWD  -  TELEPHONE CALLS, LEWD\", \"Vict_Age\": 64, \"Vict_Sex\": \"F\", \"Vict_Descent\": \"O\"}, {\"Unnamed:_0\": 61495, \"AREA_NAME\": \"Hollywood\", \"TIME_OCC\": 935, \"Crm_Cd\": 354, \"Crm_Cd_Desc\": \"THEFT OF IDENTITY\", \"Vict_Age\": 30, \"Vict_Sex\": \"M\", \"Vict_Descent\": \"B\"}, {\"Unnamed:_0\": 149178, \"AREA_NAME\": \"Pacific\", \"TIME_OCC\": 2020, \"Crm_Cd\": 230, \"Crm_Cd_Desc\": \"ASSAULT WITH DEADLY WEAPON, AGGRAVATED ASSAULT\", \"Vict_Age\": 54, \"Vict_Sex\": \"M\", \"Vict_Descent\": \"O\"}, {\"Unnamed:_0\": 71107, \"AREA_NAME\": \"Newton\", \"TIME_OCC\": 1725, \"Crm_Cd\": 745, \"Crm_Cd_Desc\": \"VANDALISM - MISDEAMEANOR ($399 OR UNDER)\", \"Vict_Age\": 58, \"Vict_Sex\": \"F\", \"Vict_Descent\": \"B\"}, {\"Unnamed:_0\": 207118, \"AREA_NAME\": \"Southwest\", \"TIME_OCC\": 2300, \"Crm_Cd\": 420, \"Crm_Cd_Desc\": \"THEFT FROM MOTOR VEHICLE - PETTY ($950 & UNDER)\", \"Vict_Age\": 22, \"Vict_Sex\": \"M\", \"Vict_Descent\": \"A\"}, {\"Unnamed:_0\": 238440, \"AREA_NAME\": \"Foothill\", \"TIME_OCC\": 2240, \"Crm_Cd\": 740, \"Crm_Cd_Desc\": \"VANDALISM - FELONY ($400 & OVER, ALL CHURCH VANDALISMS)\", \"Vict_Age\": 28, \"Vict_Sex\": \"M\", \"Vict_Descent\": \"O\"}, {\"Unnamed:_0\": 143114, \"AREA_NAME\": \"Newton\", \"TIME_OCC\": 1, \"Crm_Cd\": 910, \"Crm_Cd_Desc\": \"KIDNAPPING\", \"Vict_Age\": 38, \"Vict_Sex\": \"F\", \"Vict_Descent\": \"H\"}, {\"Unnamed:_0\": 83677, \"AREA_NAME\": \"Devonshire\", \"TIME_OCC\": 1330, \"Crm_Cd\": 740, \"Crm_Cd_Desc\": \"VANDALISM - FELONY ($400 & OVER, ALL CHURCH VANDALISMS)\", \"Vict_Age\": 34, \"Vict_Sex\": \"F\", \"Vict_Descent\": \"H\"}, {\"Unnamed:_0\": 43120, \"AREA_NAME\": \"Mission\", \"TIME_OCC\": 900, \"Crm_Cd\": 626, \"Crm_Cd_Desc\": \"INTIMATE PARTNER - SIMPLE ASSAULT\", \"Vict_Age\": 33, \"Vict_Sex\": \"F\", \"Vict_Descent\": \"W\"}, {\"Unnamed:_0\": 159763, \"AREA_NAME\": \"Mission\", \"TIME_OCC\": 1450, \"Crm_Cd\": 230, \"Crm_Cd_Desc\": \"ASSAULT WITH DEADLY WEAPON, AGGRAVATED ASSAULT\", \"Vict_Age\": 54, \"Vict_Sex\": \"M\", \"Vict_Descent\": \"H\"}, {\"Unnamed:_0\": 219407, \"AREA_NAME\": \"Harbor\", \"TIME_OCC\": 800, \"Crm_Cd\": 354, \"Crm_Cd_Desc\": \"THEFT OF IDENTITY\", \"Vict_Age\": 44, \"Vict_Sex\": \"M\", \"Vict_Descent\": \"W\"}, {\"Unnamed:_0\": 15525, \"AREA_NAME\": \"Foothill\", \"TIME_OCC\": 1045, \"Crm_Cd\": 624, \"Crm_Cd_Desc\": \"BATTERY - SIMPLE ASSAULT\", \"Vict_Age\": 83, \"Vict_Sex\": \"M\", \"Vict_Descent\": \"H\"}, {\"Unnamed:_0\": 937, \"AREA_NAME\": \"Central\", \"TIME_OCC\": 2130, \"Crm_Cd\": 745, \"Crm_Cd_Desc\": \"VANDALISM - MISDEAMEANOR ($399 OR UNDER)\", \"Vict_Age\": 23, \"Vict_Sex\": \"M\", \"Vict_Descent\": \"B\"}, {\"Unnamed:_0\": 185210, \"AREA_NAME\": \"West Valley\", \"TIME_OCC\": 1930, \"Crm_Cd\": 745, \"Crm_Cd_Desc\": \"VANDALISM - MISDEAMEANOR ($399 OR UNDER)\", \"Vict_Age\": 89, \"Vict_Sex\": \"F\", \"Vict_Descent\": \"W\"}, {\"Unnamed:_0\": 97007, \"AREA_NAME\": \"77th Street\", \"TIME_OCC\": 815, \"Crm_Cd\": 210, \"Crm_Cd_Desc\": \"ROBBERY\", \"Vict_Age\": 51, \"Vict_Sex\": \"F\", \"Vict_Descent\": \"B\"}, {\"Unnamed:_0\": 71094, \"AREA_NAME\": \"Pacific\", \"TIME_OCC\": 1730, \"Crm_Cd\": 930, \"Crm_Cd_Desc\": \"CRIMINAL THREATS - NO WEAPON DISPLAYED\", \"Vict_Age\": 65, \"Vict_Sex\": \"M\", \"Vict_Descent\": \"H\"}, {\"Unnamed:_0\": 251618, \"AREA_NAME\": \"Topanga\", \"TIME_OCC\": 1850, \"Crm_Cd\": 624, \"Crm_Cd_Desc\": \"BATTERY - SIMPLE ASSAULT\", \"Vict_Age\": 69, \"Vict_Sex\": \"M\", \"Vict_Descent\": \"H\"}, {\"Unnamed:_0\": 207626, \"AREA_NAME\": \"77th Street\", \"TIME_OCC\": 1000, \"Crm_Cd\": 930, \"Crm_Cd_Desc\": \"CRIMINAL THREATS - NO WEAPON DISPLAYED\", \"Vict_Age\": 70, \"Vict_Sex\": \"M\", \"Vict_Descent\": \"B\"}, {\"Unnamed:_0\": 192263, \"AREA_NAME\": \"Olympic\", \"TIME_OCC\": 2130, \"Crm_Cd\": 761, \"Crm_Cd_Desc\": \"BRANDISH WEAPON\", \"Vict_Age\": 42, \"Vict_Sex\": \"M\", \"Vict_Descent\": \"H\"}, {\"Unnamed:_0\": 16406, \"AREA_NAME\": \"Devonshire\", \"TIME_OCC\": 1, \"Crm_Cd\": 740, \"Crm_Cd_Desc\": \"VANDALISM - FELONY ($400 & OVER, ALL CHURCH VANDALISMS)\", \"Vict_Age\": 37, \"Vict_Sex\": \"M\", \"Vict_Descent\": \"H\"}, {\"Unnamed:_0\": 120781, \"AREA_NAME\": \"Pacific\", \"TIME_OCC\": 1800, \"Crm_Cd\": 330, \"Crm_Cd_Desc\": \"BURGLARY FROM VEHICLE\", \"Vict_Age\": 32, \"Vict_Sex\": \"M\", \"Vict_Descent\": \"W\"}, {\"Unnamed:_0\": 250602, \"AREA_NAME\": \"Southeast\", \"TIME_OCC\": 1530, \"Crm_Cd\": 624, \"Crm_Cd_Desc\": \"BATTERY - SIMPLE ASSAULT\", \"Vict_Age\": 33, \"Vict_Sex\": \"F\", \"Vict_Descent\": \"B\"}, {\"Unnamed:_0\": 5588, \"AREA_NAME\": \"Hollywood\", \"TIME_OCC\": 1055, \"Crm_Cd\": 625, \"Crm_Cd_Desc\": \"OTHER ASSAULT\", \"Vict_Age\": 36, \"Vict_Sex\": \"F\", \"Vict_Descent\": \"H\"}, {\"Unnamed:_0\": 58899, \"AREA_NAME\": \"Northeast\", \"TIME_OCC\": 1400, \"Crm_Cd\": 666, \"Crm_Cd_Desc\": \"BUNCO, ATTEMPT\", \"Vict_Age\": 29, \"Vict_Sex\": \"M\", \"Vict_Descent\": \"H\"}, {\"Unnamed:_0\": 140669, \"AREA_NAME\": \"77th Street\", \"TIME_OCC\": 1700, \"Crm_Cd\": 626, \"Crm_Cd_Desc\": \"INTIMATE PARTNER - SIMPLE ASSAULT\", \"Vict_Age\": 30, \"Vict_Sex\": \"F\", \"Vict_Descent\": \"H\"}, {\"Unnamed:_0\": 97069, \"AREA_NAME\": \"Southwest\", \"TIME_OCC\": 900, \"Crm_Cd\": 330, \"Crm_Cd_Desc\": \"BURGLARY FROM VEHICLE\", \"Vict_Age\": 28, \"Vict_Sex\": \"F\", \"Vict_Descent\": \"A\"}, {\"Unnamed:_0\": 49769, \"AREA_NAME\": \"Southeast\", \"TIME_OCC\": 740, \"Crm_Cd\": 421, \"Crm_Cd_Desc\": \"THEFT FROM MOTOR VEHICLE - ATTEMPT\", \"Vict_Age\": 58, \"Vict_Sex\": \"M\", \"Vict_Descent\": \"H\"}, {\"Unnamed:_0\": 68481, \"AREA_NAME\": \"Van Nuys\", \"TIME_OCC\": 1, \"Crm_Cd\": 420, \"Crm_Cd_Desc\": \"THEFT FROM MOTOR VEHICLE - PETTY ($950 & UNDER)\", \"Vict_Age\": 35, \"Vict_Sex\": \"M\", \"Vict_Descent\": \"W\"}, {\"Unnamed:_0\": 57533, \"AREA_NAME\": \"Mission\", \"TIME_OCC\": 2200, \"Crm_Cd\": 330, \"Crm_Cd_Desc\": \"BURGLARY FROM VEHICLE\", \"Vict_Age\": 64, \"Vict_Sex\": \"M\", \"Vict_Descent\": \"H\"}, {\"Unnamed:_0\": 37173, \"AREA_NAME\": \"West LA\", \"TIME_OCC\": 1530, \"Crm_Cd\": 210, \"Crm_Cd_Desc\": \"ROBBERY\", \"Vict_Age\": 43, \"Vict_Sex\": \"M\", \"Vict_Descent\": \"O\"}, {\"Unnamed:_0\": 102002, \"AREA_NAME\": \"Topanga\", \"TIME_OCC\": 619, \"Crm_Cd\": 745, \"Crm_Cd_Desc\": \"VANDALISM - MISDEAMEANOR ($399 OR UNDER)\", \"Vict_Age\": 83, \"Vict_Sex\": \"M\", \"Vict_Descent\": \"W\"}, {\"Unnamed:_0\": 12169, \"AREA_NAME\": \"Newton\", \"TIME_OCC\": 1000, \"Crm_Cd\": 354, \"Crm_Cd_Desc\": \"THEFT OF IDENTITY\", \"Vict_Age\": 57, \"Vict_Sex\": \"F\", \"Vict_Descent\": \"H\"}, {\"Unnamed:_0\": 54583, \"AREA_NAME\": \"Southwest\", \"TIME_OCC\": 1300, \"Crm_Cd\": 745, \"Crm_Cd_Desc\": \"VANDALISM - MISDEAMEANOR ($399 OR UNDER)\", \"Vict_Age\": 52, \"Vict_Sex\": \"M\", \"Vict_Descent\": \"B\"}, {\"Unnamed:_0\": 41927, \"AREA_NAME\": \"Southwest\", \"TIME_OCC\": 1300, \"Crm_Cd\": 420, \"Crm_Cd_Desc\": \"THEFT FROM MOTOR VEHICLE - PETTY ($950 & UNDER)\", \"Vict_Age\": 29, \"Vict_Sex\": \"M\", \"Vict_Descent\": \"A\"}, {\"Unnamed:_0\": 240424, \"AREA_NAME\": \"Foothill\", \"TIME_OCC\": 2300, \"Crm_Cd\": 626, \"Crm_Cd_Desc\": \"INTIMATE PARTNER - SIMPLE ASSAULT\", \"Vict_Age\": 65, \"Vict_Sex\": \"M\", \"Vict_Descent\": \"H\"}, {\"Unnamed:_0\": 57733, \"AREA_NAME\": \"Pacific\", \"TIME_OCC\": 2230, \"Crm_Cd\": 740, \"Crm_Cd_Desc\": \"VANDALISM - FELONY ($400 & OVER, ALL CHURCH VANDALISMS)\", \"Vict_Age\": 23, \"Vict_Sex\": \"F\", \"Vict_Descent\": \"W\"}, {\"Unnamed:_0\": 250485, \"AREA_NAME\": \"Topanga\", \"TIME_OCC\": 855, \"Crm_Cd\": 354, \"Crm_Cd_Desc\": \"THEFT OF IDENTITY\", \"Vict_Age\": 61, \"Vict_Sex\": \"F\", \"Vict_Descent\": \"B\"}, {\"Unnamed:_0\": 121546, \"AREA_NAME\": \"Hollywood\", \"TIME_OCC\": 1410, \"Crm_Cd\": 480, \"Crm_Cd_Desc\": \"BIKE - STOLEN\", \"Vict_Age\": 42, \"Vict_Sex\": \"M\", \"Vict_Descent\": \"O\"}, {\"Unnamed:_0\": 84174, \"AREA_NAME\": \"Southwest\", \"TIME_OCC\": 2250, \"Crm_Cd\": 210, \"Crm_Cd_Desc\": \"ROBBERY\", \"Vict_Age\": 21, \"Vict_Sex\": \"M\", \"Vict_Descent\": \"H\"}, {\"Unnamed:_0\": 179493, \"AREA_NAME\": \"Harbor\", \"TIME_OCC\": 1615, \"Crm_Cd\": 745, \"Crm_Cd_Desc\": \"VANDALISM - MISDEAMEANOR ($399 OR UNDER)\", \"Vict_Age\": 38, \"Vict_Sex\": \"F\", \"Vict_Descent\": \"H\"}, {\"Unnamed:_0\": 157020, \"AREA_NAME\": \"Topanga\", \"TIME_OCC\": 1100, \"Crm_Cd\": 901, \"Crm_Cd_Desc\": \"VIOLATION OF RESTRAINING ORDER\", \"Vict_Age\": 56, \"Vict_Sex\": \"F\", \"Vict_Descent\": \"W\"}, {\"Unnamed:_0\": 228068, \"AREA_NAME\": \"Southwest\", \"TIME_OCC\": 1215, \"Crm_Cd\": 440, \"Crm_Cd_Desc\": \"THEFT PLAIN - PETTY ($950 & UNDER)\", \"Vict_Age\": 62, \"Vict_Sex\": \"M\", \"Vict_Descent\": \"O\"}, {\"Unnamed:_0\": 22603, \"AREA_NAME\": \"N Hollywood\", \"TIME_OCC\": 120, \"Crm_Cd\": 888, \"Crm_Cd_Desc\": \"TRESPASSING\", \"Vict_Age\": 22, \"Vict_Sex\": \"M\", \"Vict_Descent\": \"W\"}, {\"Unnamed:_0\": 34380, \"AREA_NAME\": \"Northeast\", \"TIME_OCC\": 1000, \"Crm_Cd\": 740, \"Crm_Cd_Desc\": \"VANDALISM - FELONY ($400 & OVER, ALL CHURCH VANDALISMS)\", \"Vict_Age\": 43, \"Vict_Sex\": \"M\", \"Vict_Descent\": \"W\"}, {\"Unnamed:_0\": 257487, \"AREA_NAME\": \"77th Street\", \"TIME_OCC\": 1400, \"Crm_Cd\": 310, \"Crm_Cd_Desc\": \"BURGLARY\", \"Vict_Age\": 39, \"Vict_Sex\": \"M\", \"Vict_Descent\": \"B\"}, {\"Unnamed:_0\": 179458, \"AREA_NAME\": \"Olympic\", \"TIME_OCC\": 1500, \"Crm_Cd\": 440, \"Crm_Cd_Desc\": \"THEFT PLAIN - PETTY ($950 & UNDER)\", \"Vict_Age\": 57, \"Vict_Sex\": \"M\", \"Vict_Descent\": \"B\"}, {\"Unnamed:_0\": 242005, \"AREA_NAME\": \"Pacific\", \"TIME_OCC\": 1811, \"Crm_Cd\": 440, \"Crm_Cd_Desc\": \"THEFT PLAIN - PETTY ($950 & UNDER)\", \"Vict_Age\": 52, \"Vict_Sex\": \"F\", \"Vict_Descent\": \"H\"}, {\"Unnamed:_0\": 210248, \"AREA_NAME\": \"West LA\", \"TIME_OCC\": 1340, \"Crm_Cd\": 888, \"Crm_Cd_Desc\": \"TRESPASSING\", \"Vict_Age\": 65, \"Vict_Sex\": \"F\", \"Vict_Descent\": \"A\"}, {\"Unnamed:_0\": 246955, \"AREA_NAME\": \"West LA\", \"TIME_OCC\": 1700, \"Crm_Cd\": 480, \"Crm_Cd_Desc\": \"BIKE - STOLEN\", \"Vict_Age\": 44, \"Vict_Sex\": \"M\", \"Vict_Descent\": \"W\"}, {\"Unnamed:_0\": 72892, \"AREA_NAME\": \"Hollenbeck\", \"TIME_OCC\": 702, \"Crm_Cd\": 440, \"Crm_Cd_Desc\": \"THEFT PLAIN - PETTY ($950 & UNDER)\", \"Vict_Age\": 30, \"Vict_Sex\": \"M\", \"Vict_Descent\": \"H\"}, {\"Unnamed:_0\": 253462, \"AREA_NAME\": \"Foothill\", \"TIME_OCC\": 1900, \"Crm_Cd\": 354, \"Crm_Cd_Desc\": \"THEFT OF IDENTITY\", \"Vict_Age\": 31, \"Vict_Sex\": \"M\", \"Vict_Descent\": \"F\"}, {\"Unnamed:_0\": 187573, \"AREA_NAME\": \"Pacific\", \"TIME_OCC\": 2245, \"Crm_Cd\": 341, \"Crm_Cd_Desc\": \"THEFT-GRAND ($950.01 & OVER)EXCPT,GUNS,FOWL,LIVESTK,PROD\", \"Vict_Age\": 48, \"Vict_Sex\": \"F\", \"Vict_Descent\": \"O\"}, {\"Unnamed:_0\": 255090, \"AREA_NAME\": \"Southwest\", \"TIME_OCC\": 1955, \"Crm_Cd\": 850, \"Crm_Cd_Desc\": \"INDECENT EXPOSURE\", \"Vict_Age\": 16, \"Vict_Sex\": \"M\", \"Vict_Descent\": \"H\"}, {\"Unnamed:_0\": 210004, \"AREA_NAME\": \"Newton\", \"TIME_OCC\": 1050, \"Crm_Cd\": 230, \"Crm_Cd_Desc\": \"ASSAULT WITH DEADLY WEAPON, AGGRAVATED ASSAULT\", \"Vict_Age\": 59, \"Vict_Sex\": \"M\", \"Vict_Descent\": \"B\"}, {\"Unnamed:_0\": 150783, \"AREA_NAME\": \"Hollywood\", \"TIME_OCC\": 2350, \"Crm_Cd\": 624, \"Crm_Cd_Desc\": \"BATTERY - SIMPLE ASSAULT\", \"Vict_Age\": 28, \"Vict_Sex\": \"F\", \"Vict_Descent\": \"W\"}, {\"Unnamed:_0\": 52009, \"AREA_NAME\": \"Hollywood\", \"TIME_OCC\": 2045, \"Crm_Cd\": 220, \"Crm_Cd_Desc\": \"ATTEMPTED ROBBERY\", \"Vict_Age\": 25, \"Vict_Sex\": \"M\", \"Vict_Descent\": \"O\"}, {\"Unnamed:_0\": 10615, \"AREA_NAME\": \"Central\", \"TIME_OCC\": 1300, \"Crm_Cd\": 624, \"Crm_Cd_Desc\": \"BATTERY - SIMPLE ASSAULT\", \"Vict_Age\": 30, \"Vict_Sex\": \"F\", \"Vict_Descent\": \"A\"}, {\"Unnamed:_0\": 164695, \"AREA_NAME\": \"Rampart\", \"TIME_OCC\": 1815, \"Crm_Cd\": 624, \"Crm_Cd_Desc\": \"BATTERY - SIMPLE ASSAULT\", \"Vict_Age\": 25, \"Vict_Sex\": \"F\", \"Vict_Descent\": \"H\"}, {\"Unnamed:_0\": 221564, \"AREA_NAME\": \"Topanga\", \"TIME_OCC\": 1645, \"Crm_Cd\": 624, \"Crm_Cd_Desc\": \"BATTERY - SIMPLE ASSAULT\", \"Vict_Age\": 53, \"Vict_Sex\": \"F\", \"Vict_Descent\": \"H\"}, {\"Unnamed:_0\": 239349, \"AREA_NAME\": \"Hollywood\", \"TIME_OCC\": 35, \"Crm_Cd\": 331, \"Crm_Cd_Desc\": \"THEFT FROM MOTOR VEHICLE - GRAND ($400 AND OVER)\", \"Vict_Age\": 54, \"Vict_Sex\": \"M\", \"Vict_Descent\": \"H\"}, {\"Unnamed:_0\": 31310, \"AREA_NAME\": \"Rampart\", \"TIME_OCC\": 1900, \"Crm_Cd\": 330, \"Crm_Cd_Desc\": \"BURGLARY FROM VEHICLE\", \"Vict_Age\": 36, \"Vict_Sex\": \"F\", \"Vict_Descent\": \"B\"}, {\"Unnamed:_0\": 214936, \"AREA_NAME\": \"Southwest\", \"TIME_OCC\": 2030, \"Crm_Cd\": 902, \"Crm_Cd_Desc\": \"VIOLATION OF TEMPORARY RESTRAINING ORDER\", \"Vict_Age\": 32, \"Vict_Sex\": \"F\", \"Vict_Descent\": \"B\"}, {\"Unnamed:_0\": 220472, \"AREA_NAME\": \"Pacific\", \"TIME_OCC\": 1602, \"Crm_Cd\": 310, \"Crm_Cd_Desc\": \"BURGLARY\", \"Vict_Age\": 58, \"Vict_Sex\": \"M\", \"Vict_Descent\": \"H\"}, {\"Unnamed:_0\": 182376, \"AREA_NAME\": \"Devonshire\", \"TIME_OCC\": 1900, \"Crm_Cd\": 626, \"Crm_Cd_Desc\": \"INTIMATE PARTNER - SIMPLE ASSAULT\", \"Vict_Age\": 35, \"Vict_Sex\": \"M\", \"Vict_Descent\": \"B\"}, {\"Unnamed:_0\": 196001, \"AREA_NAME\": \"West Valley\", \"TIME_OCC\": 700, \"Crm_Cd\": 812, \"Crm_Cd_Desc\": \"CRM AGNST CHLD (13 OR UNDER) (14-15 & SUSP 10 YRS OLDER)\", \"Vict_Age\": 5, \"Vict_Sex\": \"M\", \"Vict_Descent\": \"W\"}, {\"Unnamed:_0\": 97573, \"AREA_NAME\": \"77th Street\", \"TIME_OCC\": 1650, \"Crm_Cd\": 745, \"Crm_Cd_Desc\": \"VANDALISM - MISDEAMEANOR ($399 OR UNDER)\", \"Vict_Age\": 29, \"Vict_Sex\": \"F\", \"Vict_Descent\": \"B\"}, {\"Unnamed:_0\": 226145, \"AREA_NAME\": \"Newton\", \"TIME_OCC\": 830, \"Crm_Cd\": 624, \"Crm_Cd_Desc\": \"BATTERY - SIMPLE ASSAULT\", \"Vict_Age\": 53, \"Vict_Sex\": \"F\", \"Vict_Descent\": \"B\"}, {\"Unnamed:_0\": 58361, \"AREA_NAME\": \"Hollywood\", \"TIME_OCC\": 2045, \"Crm_Cd\": 624, \"Crm_Cd_Desc\": \"BATTERY - SIMPLE ASSAULT\", \"Vict_Age\": 43, \"Vict_Sex\": \"F\", \"Vict_Descent\": \"W\"}, {\"Unnamed:_0\": 173827, \"AREA_NAME\": \"Hollywood\", \"TIME_OCC\": 1305, \"Crm_Cd\": 237, \"Crm_Cd_Desc\": \"CHILD NEGLECT (SEE 300 W.I.C.)\", \"Vict_Age\": 8, \"Vict_Sex\": \"F\", \"Vict_Descent\": \"O\"}, {\"Unnamed:_0\": 155281, \"AREA_NAME\": \"77th Street\", \"TIME_OCC\": 1930, \"Crm_Cd\": 236, \"Crm_Cd_Desc\": \"INTIMATE PARTNER - AGGRAVATED ASSAULT\", \"Vict_Age\": 31, \"Vict_Sex\": \"F\", \"Vict_Descent\": \"H\"}, {\"Unnamed:_0\": 40140, \"AREA_NAME\": \"Harbor\", \"TIME_OCC\": 830, \"Crm_Cd\": 745, \"Crm_Cd_Desc\": \"VANDALISM - MISDEAMEANOR ($399 OR UNDER)\", \"Vict_Age\": 42, \"Vict_Sex\": \"M\", \"Vict_Descent\": \"H\"}, {\"Unnamed:_0\": 98119, \"AREA_NAME\": \"Devonshire\", \"TIME_OCC\": 1100, \"Crm_Cd\": 341, \"Crm_Cd_Desc\": \"THEFT-GRAND ($950.01 & OVER)EXCPT,GUNS,FOWL,LIVESTK,PROD\", \"Vict_Age\": 71, \"Vict_Sex\": \"M\", \"Vict_Descent\": \"W\"}, {\"Unnamed:_0\": 18001, \"AREA_NAME\": \"Mission\", \"TIME_OCC\": 1200, \"Crm_Cd\": 661, \"Crm_Cd_Desc\": \"UNAUTHORIZED COMPUTER ACCESS\", \"Vict_Age\": 46, \"Vict_Sex\": \"M\", \"Vict_Descent\": \"W\"}, {\"Unnamed:_0\": 200381, \"AREA_NAME\": \"Olympic\", \"TIME_OCC\": 1200, \"Crm_Cd\": 420, \"Crm_Cd_Desc\": \"THEFT FROM MOTOR VEHICLE - PETTY ($950 & UNDER)\", \"Vict_Age\": 27, \"Vict_Sex\": \"M\", \"Vict_Descent\": \"W\"}, {\"Unnamed:_0\": 28579, \"AREA_NAME\": \"Southwest\", \"TIME_OCC\": 1200, \"Crm_Cd\": 900, \"Crm_Cd_Desc\": \"VIOLATION OF COURT ORDER\", \"Vict_Age\": 21, \"Vict_Sex\": \"F\", \"Vict_Descent\": \"B\"}, {\"Unnamed:_0\": 25348, \"AREA_NAME\": \"Foothill\", \"TIME_OCC\": 1130, \"Crm_Cd\": 888, \"Crm_Cd_Desc\": \"TRESPASSING\", \"Vict_Age\": 21, \"Vict_Sex\": \"M\", \"Vict_Descent\": \"H\"}, {\"Unnamed:_0\": 8172, \"AREA_NAME\": \"Van Nuys\", \"TIME_OCC\": 220, \"Crm_Cd\": 440, \"Crm_Cd_Desc\": \"THEFT PLAIN - PETTY ($950 & UNDER)\", \"Vict_Age\": 31, \"Vict_Sex\": \"M\", \"Vict_Descent\": \"B\"}, {\"Unnamed:_0\": 43269, \"AREA_NAME\": \"Southwest\", \"TIME_OCC\": 2145, \"Crm_Cd\": 625, \"Crm_Cd_Desc\": \"OTHER ASSAULT\", \"Vict_Age\": 22, \"Vict_Sex\": \"F\", \"Vict_Descent\": \"H\"}, {\"Unnamed:_0\": 150398, \"AREA_NAME\": \"Foothill\", \"TIME_OCC\": 2130, \"Crm_Cd\": 745, \"Crm_Cd_Desc\": \"VANDALISM - MISDEAMEANOR ($399 OR UNDER)\", \"Vict_Age\": 43, \"Vict_Sex\": \"M\", \"Vict_Descent\": \"H\"}, {\"Unnamed:_0\": 138508, \"AREA_NAME\": \"West Valley\", \"TIME_OCC\": 2200, \"Crm_Cd\": 440, \"Crm_Cd_Desc\": \"THEFT PLAIN - PETTY ($950 & UNDER)\", \"Vict_Age\": 37, \"Vict_Sex\": \"M\", \"Vict_Descent\": \"B\"}, {\"Unnamed:_0\": 110553, \"AREA_NAME\": \"Pacific\", \"TIME_OCC\": 1650, \"Crm_Cd\": 330, \"Crm_Cd_Desc\": \"BURGLARY FROM VEHICLE\", \"Vict_Age\": 25, \"Vict_Sex\": \"M\", \"Vict_Descent\": \"O\"}, {\"Unnamed:_0\": 137535, \"AREA_NAME\": \"Central\", \"TIME_OCC\": 2000, \"Crm_Cd\": 330, \"Crm_Cd_Desc\": \"BURGLARY FROM VEHICLE\", \"Vict_Age\": 23, \"Vict_Sex\": \"M\", \"Vict_Descent\": \"W\"}, {\"Unnamed:_0\": 99925, \"AREA_NAME\": \"Pacific\", \"TIME_OCC\": 1200, \"Crm_Cd\": 740, \"Crm_Cd_Desc\": \"VANDALISM - FELONY ($400 & OVER, ALL CHURCH VANDALISMS)\", \"Vict_Age\": 43, \"Vict_Sex\": \"F\", \"Vict_Descent\": \"O\"}, {\"Unnamed:_0\": 128725, \"AREA_NAME\": \"Van Nuys\", \"TIME_OCC\": 600, \"Crm_Cd\": 648, \"Crm_Cd_Desc\": \"ARSON\", \"Vict_Age\": 54, \"Vict_Sex\": \"F\", \"Vict_Descent\": \"H\"}, {\"Unnamed:_0\": 89700, \"AREA_NAME\": \"Hollywood\", \"TIME_OCC\": 1530, \"Crm_Cd\": 230, \"Crm_Cd_Desc\": \"ASSAULT WITH DEADLY WEAPON, AGGRAVATED ASSAULT\", \"Vict_Age\": 43, \"Vict_Sex\": \"M\", \"Vict_Descent\": \"B\"}, {\"Unnamed:_0\": 58261, \"AREA_NAME\": \"Northeast\", \"TIME_OCC\": 100, \"Crm_Cd\": 330, \"Crm_Cd_Desc\": \"BURGLARY FROM VEHICLE\", \"Vict_Age\": 54, \"Vict_Sex\": \"M\", \"Vict_Descent\": \"H\"}, {\"Unnamed:_0\": 15114, \"AREA_NAME\": \"Foothill\", \"TIME_OCC\": 1000, \"Crm_Cd\": 624, \"Crm_Cd_Desc\": \"BATTERY - SIMPLE ASSAULT\", \"Vict_Age\": 39, \"Vict_Sex\": \"M\", \"Vict_Descent\": \"H\"}, {\"Unnamed:_0\": 91569, \"AREA_NAME\": \"West LA\", \"TIME_OCC\": 1, \"Crm_Cd\": 354, \"Crm_Cd_Desc\": \"THEFT OF IDENTITY\", \"Vict_Age\": 50, \"Vict_Sex\": \"M\", \"Vict_Descent\": \"O\"}, {\"Unnamed:_0\": 5778, \"AREA_NAME\": \"Hollywood\", \"TIME_OCC\": 30, \"Crm_Cd\": 330, \"Crm_Cd_Desc\": \"BURGLARY FROM VEHICLE\", \"Vict_Age\": 22, \"Vict_Sex\": \"F\", \"Vict_Descent\": \"B\"}, {\"Unnamed:_0\": 191999, \"AREA_NAME\": \"Central\", \"TIME_OCC\": 1015, \"Crm_Cd\": 230, \"Crm_Cd_Desc\": \"ASSAULT WITH DEADLY WEAPON, AGGRAVATED ASSAULT\", \"Vict_Age\": 46, \"Vict_Sex\": \"F\", \"Vict_Descent\": \"H\"}, {\"Unnamed:_0\": 57530, \"AREA_NAME\": \"Topanga\", \"TIME_OCC\": 1745, \"Crm_Cd\": 624, \"Crm_Cd_Desc\": \"BATTERY - SIMPLE ASSAULT\", \"Vict_Age\": 29, \"Vict_Sex\": \"M\", \"Vict_Descent\": \"B\"}, {\"Unnamed:_0\": 128640, \"AREA_NAME\": \"Topanga\", \"TIME_OCC\": 2300, \"Crm_Cd\": 420, \"Crm_Cd_Desc\": \"THEFT FROM MOTOR VEHICLE - PETTY ($950 & UNDER)\", \"Vict_Age\": 39, \"Vict_Sex\": \"F\", \"Vict_Descent\": \"W\"}, {\"Unnamed:_0\": 108163, \"AREA_NAME\": \"West Valley\", \"TIME_OCC\": 1430, \"Crm_Cd\": 740, \"Crm_Cd_Desc\": \"VANDALISM - FELONY ($400 & OVER, ALL CHURCH VANDALISMS)\", \"Vict_Age\": 35, \"Vict_Sex\": \"M\", \"Vict_Descent\": \"O\"}, {\"Unnamed:_0\": 8217, \"AREA_NAME\": \"Van Nuys\", \"TIME_OCC\": 1945, \"Crm_Cd\": 740, \"Crm_Cd_Desc\": \"VANDALISM - FELONY ($400 & OVER, ALL CHURCH VANDALISMS)\", \"Vict_Age\": 36, \"Vict_Sex\": \"F\", \"Vict_Descent\": \"H\"}, {\"Unnamed:_0\": 199761, \"AREA_NAME\": \"West LA\", \"TIME_OCC\": 1540, \"Crm_Cd\": 740, \"Crm_Cd_Desc\": \"VANDALISM - FELONY ($400 & OVER, ALL CHURCH VANDALISMS)\", \"Vict_Age\": 66, \"Vict_Sex\": \"M\", \"Vict_Descent\": \"O\"}, {\"Unnamed:_0\": 55617, \"AREA_NAME\": \"Rampart\", \"TIME_OCC\": 2100, \"Crm_Cd\": 624, \"Crm_Cd_Desc\": \"BATTERY - SIMPLE ASSAULT\", \"Vict_Age\": 23, \"Vict_Sex\": \"F\", \"Vict_Descent\": \"H\"}, {\"Unnamed:_0\": 245956, \"AREA_NAME\": \"Foothill\", \"TIME_OCC\": 52, \"Crm_Cd\": 440, \"Crm_Cd_Desc\": \"THEFT PLAIN - PETTY ($950 & UNDER)\", \"Vict_Age\": 64, \"Vict_Sex\": \"M\", \"Vict_Descent\": \"H\"}, {\"Unnamed:_0\": 196430, \"AREA_NAME\": \"Devonshire\", \"TIME_OCC\": 1800, \"Crm_Cd\": 740, \"Crm_Cd_Desc\": \"VANDALISM - FELONY ($400 & OVER, ALL CHURCH VANDALISMS)\", \"Vict_Age\": 18, \"Vict_Sex\": \"F\", \"Vict_Descent\": \"O\"}, {\"Unnamed:_0\": 86338, \"AREA_NAME\": \"Foothill\", \"TIME_OCC\": 2020, \"Crm_Cd\": 341, \"Crm_Cd_Desc\": \"THEFT-GRAND ($950.01 & OVER)EXCPT,GUNS,FOWL,LIVESTK,PROD\", \"Vict_Age\": 36, \"Vict_Sex\": \"M\", \"Vict_Descent\": \"H\"}, {\"Unnamed:_0\": 32361, \"AREA_NAME\": \"Wilshire\", \"TIME_OCC\": 511, \"Crm_Cd\": 310, \"Crm_Cd_Desc\": \"BURGLARY\", \"Vict_Age\": 36, \"Vict_Sex\": \"M\", \"Vict_Descent\": \"W\"}, {\"Unnamed:_0\": 257498, \"AREA_NAME\": \"Pacific\", \"TIME_OCC\": 2300, \"Crm_Cd\": 330, \"Crm_Cd_Desc\": \"BURGLARY FROM VEHICLE\", \"Vict_Age\": 62, \"Vict_Sex\": \"M\", \"Vict_Descent\": \"A\"}, {\"Unnamed:_0\": 226976, \"AREA_NAME\": \"Devonshire\", \"TIME_OCC\": 1605, \"Crm_Cd\": 354, \"Crm_Cd_Desc\": \"THEFT OF IDENTITY\", \"Vict_Age\": 32, \"Vict_Sex\": \"M\", \"Vict_Descent\": \"O\"}]}}, {\"mode\": \"vega-lite\"});\n",
       "</script>"
      ],
      "text/plain": [
       "alt.Chart(...)"
      ]
     },
     "execution_count": 44,
     "metadata": {},
     "output_type": "execute_result"
    }
   ],
   "source": [
    "#creating a sample plot \n",
    "import altair as alt\n",
    "\n",
    "sample_for_plotting = crime_data.sample(150)\n",
    "\n",
    "time_vs_age = alt.Chart(sample_for_plotting, title= \"Age of Victim versus Time of Crime\").mark_point(opacity=0.5).encode(\n",
    "    x=alt.X(\"TIME_OCC:T\", title=\"Time Crime Occurred, in military hours\"),\n",
    "    y=alt.Y(\"Vict_Age\", title=\"Age of Victim, in years\"),\n",
    "    shape=alt.Shape(\"Vict_Sex\", title=\"Sex of Victim (male or female)\"),\n",
    "    color=alt.Color(\"Vict_Descent\", title=\"Victim Descent (ethnicity)\")\n",
    ")\n",
    "time_vs_age\n",
    "#this can be retrofitted into predicting types of crime (ex. most common forms of crime) later on in our official analysis"
   ]
  },
  {
   "cell_type": "markdown",
   "id": "113b8858-9496-452c-ad2d-95c778c2a0cf",
   "metadata": {},
   "source": [
    "#### **Methods**\n",
    "\n",
    "**Explain how you will conduct either your data analysis and which variables/columns you will use.**\n",
    "\n",
    "\n",
    "We will be utilizing victim-related variables like age and time of the crime to predict what forms of crime may occur. This will formulate a basis for us to explore patterns of crime in the area, and to analyze whether these respective attributes lead to an increased likelihood of crimes occurring. We will also be incorporating the time a crime occurred to specify which times of day crimes tend to occur.\n",
    "To conduct our analysis, we will be selecting a number of columns that provide a comprehensive overview of LA’s crime. The columns that we will use include: \n",
    "\n",
    "* “AREA NAME”: Area in which the crime occurred\n",
    "* “TIME OCC”: Time of day in which crime occurred.\n",
    "* “Crm Cd”: The crime code associated with the incident.\n",
    "* “Crm Cd Desc”: The description of a crime.\n",
    "* “Vict Age”: The age of the victim.\n",
    "* “Vict Sex”: Gender of the victim assigned at birth.\n",
    "* “Vict Descent”: The ethnicity of the victim.\n"
   ]
  },
  {
   "cell_type": "markdown",
   "id": "26058440-bb7f-4645-b7bf-f517b24f6cbf",
   "metadata": {},
   "source": [
    "**Describe at least one way that you will visualize the results**\n",
    "\n",
    "The results can be visualized using a histogram where we have subplots \n",
    "for each ethnicity (using the facet function). Each type of crime would\n",
    "be present along the x-axis, and their respective frequencies of crime would \n",
    "be illustrated on the y-axis. The gender of victims can be depicted using different \n",
    "colors on the bars. A histogram would be best integrated into our analysis, as we could \n",
    "draw comparisons between the frequencies of forms of crime within various ethnic groups. \n"
   ]
  },
  {
   "cell_type": "markdown",
   "id": "4e5836d4-ef95-427c-a411-3a8cb51ae195",
   "metadata": {},
   "source": [
    "#### **Expected Outcomes and Significance**\n",
    "\n",
    "**What do you expect to find?**\n",
    "\n",
    "It is difficult to decipher what crime-type will be predicted given the victim-related variables by simply viewing the dataset since the data set is very extensive. We do expect to observe a higher crime rate at night (when it is dark), and the victims to skew female.\n",
    "\n",
    "**What impact could such findings have?**\n",
    "\n",
    "An impact the findings could have is deterring people from living in certain neighborhoods because of higher crime rates (certain on or general). It can also help with awareness of crimes during certain times of the day or to warn victims that fit a profile to be more careful in these areas (age, time of day, gender). \n",
    "\n",
    "**What future questions could this lead to?**\n",
    "\n",
    "Do neighborhoods that skew younger have a tendency to exhibit certain crime types?\n",
    "At which times of the day, do more violent forms of crime typically occur?\n",
    "Are certain ethnic groups statistically more susceptible to being victims of these crimes?\n"
   ]
  }
 ],
 "metadata": {
  "kernelspec": {
   "display_name": "Python 3 (ipykernel)",
   "language": "python",
   "name": "python3"
  },
  "language_info": {
   "codemirror_mode": {
    "name": "ipython",
    "version": 3
   },
   "file_extension": ".py",
   "mimetype": "text/x-python",
   "name": "python",
   "nbconvert_exporter": "python",
   "pygments_lexer": "ipython3",
   "version": "3.10.8"
  }
 },
 "nbformat": 4,
 "nbformat_minor": 5
}
