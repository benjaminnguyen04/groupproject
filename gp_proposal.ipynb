{
 "cells": [
  {
   "cell_type": "markdown",
   "id": "d424319e-757e-4f56-a3b9-364681888e70",
   "metadata": {},
   "source": [
    "## Group 9 Project Proposal"
   ]
  },
  {
   "cell_type": "markdown",
   "id": "37a931cd-ba17-46fd-95ae-da81f4ca6efd",
   "metadata": {
    "tags": []
   },
   "source": [
    "#### Predicting Crime Type in the Greater LA Region A deep-dive into the types of crime occurring in LA neighborhoods, and using victim characteristics to predict crime type\n"
   ]
  },
  {
   "cell_type": "markdown",
   "id": "63bad948-0e49-4755-a865-0b86b921bb15",
   "metadata": {},
   "source": [
    "#### **Introduction**\n",
    "\n",
    "If you have ever been to Los Angeles, you may know that the region is grappling with increasing crime. With increasing homelessness rates and a chronic housing shortage, the metropolitan area has seen a steady rise in property crime. Investigating recent crime data is crucial in determining potential trends and  to help create safer neighborhoods in the future. We have retrieved this data straight from the LAPD to use for analysis. \n",
    "\n",
    "In this analysis, we pose the question: **What crime type is more likely to occur to a victim of a certain age at a certain time?** By understanding the trends between victim traits and the crimes committed to them, we can better warn citizens and keep LA neighborhoods safe. "
   ]
  },
  {
   "cell_type": "markdown",
   "id": "b5fffe83-e178-4b4d-978d-ddf8e7b463de",
   "metadata": {},
   "source": [
    "#### **Preliminary exploratory data analysis**\n",
    "\n",
    "**Demonstrate that the dataset can be read from the web into Python**\n",
    "**Clean and wrangle your data into a tidy format**\n",
    "\n",
    "Using only training data, summarize the data in at least one table (this is exploratory data analysis).\n",
    "An example of a useful table could be one that reports the number of observations in each class, \n",
    "the means of the predictor variables you plan to use in your analysis and how many rows have missing data. \n",
    "Using only training data, visualize the data with at least one plot relevant to the analysis you plan to do\n",
    "(this is exploratory data analysis). An example of a useful visualization could be one that compares the \n",
    "distributions of each of the predictor variables you plan to use in your analysis.\n"
   ]
  },
  {
   "cell_type": "code",
   "execution_count": 1,
   "id": "5a273456-2ae7-45cf-93e3-3d6bbf1a9e07",
   "metadata": {
    "tags": []
   },
   "outputs": [
    {
     "data": {
      "text/html": [
       "<div>\n",
       "<style scoped>\n",
       "    .dataframe tbody tr th:only-of-type {\n",
       "        vertical-align: middle;\n",
       "    }\n",
       "\n",
       "    .dataframe tbody tr th {\n",
       "        vertical-align: top;\n",
       "    }\n",
       "\n",
       "    .dataframe thead th {\n",
       "        text-align: right;\n",
       "    }\n",
       "</style>\n",
       "<table border=\"1\" class=\"dataframe\">\n",
       "  <thead>\n",
       "    <tr style=\"text-align: right;\">\n",
       "      <th></th>\n",
       "      <th>Unnamed:_0</th>\n",
       "      <th>AREA_NAME</th>\n",
       "      <th>TIME_OCC</th>\n",
       "      <th>Crm_Cd</th>\n",
       "      <th>Crm_Cd_Desc</th>\n",
       "      <th>Vict_Age</th>\n",
       "      <th>Vict_Sex</th>\n",
       "      <th>Vict_Descent</th>\n",
       "    </tr>\n",
       "  </thead>\n",
       "  <tbody>\n",
       "    <tr>\n",
       "      <th>0</th>\n",
       "      <td>0</td>\n",
       "      <td>Southwest</td>\n",
       "      <td>2230</td>\n",
       "      <td>624</td>\n",
       "      <td>BATTERY - SIMPLE ASSAULT</td>\n",
       "      <td>36</td>\n",
       "      <td>F</td>\n",
       "      <td>B</td>\n",
       "    </tr>\n",
       "    <tr>\n",
       "      <th>1</th>\n",
       "      <td>1</td>\n",
       "      <td>Central</td>\n",
       "      <td>330</td>\n",
       "      <td>624</td>\n",
       "      <td>BATTERY - SIMPLE ASSAULT</td>\n",
       "      <td>25</td>\n",
       "      <td>M</td>\n",
       "      <td>H</td>\n",
       "    </tr>\n",
       "    <tr>\n",
       "      <th>2</th>\n",
       "      <td>2</td>\n",
       "      <td>77th Street</td>\n",
       "      <td>1230</td>\n",
       "      <td>745</td>\n",
       "      <td>VANDALISM - MISDEAMEANOR ($399 OR UNDER)</td>\n",
       "      <td>62</td>\n",
       "      <td>M</td>\n",
       "      <td>B</td>\n",
       "    </tr>\n",
       "    <tr>\n",
       "      <th>3</th>\n",
       "      <td>3</td>\n",
       "      <td>N Hollywood</td>\n",
       "      <td>1730</td>\n",
       "      <td>745</td>\n",
       "      <td>VANDALISM - MISDEAMEANOR ($399 OR UNDER)</td>\n",
       "      <td>76</td>\n",
       "      <td>F</td>\n",
       "      <td>W</td>\n",
       "    </tr>\n",
       "    <tr>\n",
       "      <th>5</th>\n",
       "      <td>5</td>\n",
       "      <td>Central</td>\n",
       "      <td>30</td>\n",
       "      <td>121</td>\n",
       "      <td>RAPE, FORCIBLE</td>\n",
       "      <td>25</td>\n",
       "      <td>F</td>\n",
       "      <td>H</td>\n",
       "    </tr>\n",
       "    <tr>\n",
       "      <th>...</th>\n",
       "      <td>...</td>\n",
       "      <td>...</td>\n",
       "      <td>...</td>\n",
       "      <td>...</td>\n",
       "      <td>...</td>\n",
       "      <td>...</td>\n",
       "      <td>...</td>\n",
       "      <td>...</td>\n",
       "    </tr>\n",
       "    <tr>\n",
       "      <th>276574</th>\n",
       "      <td>276574</td>\n",
       "      <td>Hollywood</td>\n",
       "      <td>813</td>\n",
       "      <td>624</td>\n",
       "      <td>BATTERY - SIMPLE ASSAULT</td>\n",
       "      <td>33</td>\n",
       "      <td>M</td>\n",
       "      <td>B</td>\n",
       "    </tr>\n",
       "    <tr>\n",
       "      <th>276575</th>\n",
       "      <td>276575</td>\n",
       "      <td>Rampart</td>\n",
       "      <td>1730</td>\n",
       "      <td>662</td>\n",
       "      <td>BUNCO, GRAND THEFT</td>\n",
       "      <td>39</td>\n",
       "      <td>M</td>\n",
       "      <td>W</td>\n",
       "    </tr>\n",
       "    <tr>\n",
       "      <th>276576</th>\n",
       "      <td>276576</td>\n",
       "      <td>West Valley</td>\n",
       "      <td>900</td>\n",
       "      <td>354</td>\n",
       "      <td>THEFT OF IDENTITY</td>\n",
       "      <td>38</td>\n",
       "      <td>M</td>\n",
       "      <td>H</td>\n",
       "    </tr>\n",
       "    <tr>\n",
       "      <th>276580</th>\n",
       "      <td>276580</td>\n",
       "      <td>Olympic</td>\n",
       "      <td>1930</td>\n",
       "      <td>888</td>\n",
       "      <td>TRESPASSING</td>\n",
       "      <td>29</td>\n",
       "      <td>M</td>\n",
       "      <td>H</td>\n",
       "    </tr>\n",
       "    <tr>\n",
       "      <th>276582</th>\n",
       "      <td>276582</td>\n",
       "      <td>Harbor</td>\n",
       "      <td>2210</td>\n",
       "      <td>434</td>\n",
       "      <td>FALSE IMPRISONMENT</td>\n",
       "      <td>41</td>\n",
       "      <td>F</td>\n",
       "      <td>B</td>\n",
       "    </tr>\n",
       "  </tbody>\n",
       "</table>\n",
       "<p>206549 rows × 8 columns</p>\n",
       "</div>"
      ],
      "text/plain": [
       "        Unnamed:_0    AREA_NAME  TIME_OCC  Crm_Cd  \\\n",
       "0                0    Southwest      2230     624   \n",
       "1                1      Central       330     624   \n",
       "2                2  77th Street      1230     745   \n",
       "3                3  N Hollywood      1730     745   \n",
       "5                5      Central        30     121   \n",
       "...            ...          ...       ...     ...   \n",
       "276574      276574    Hollywood       813     624   \n",
       "276575      276575      Rampart      1730     662   \n",
       "276576      276576  West Valley       900     354   \n",
       "276580      276580      Olympic      1930     888   \n",
       "276582      276582       Harbor      2210     434   \n",
       "\n",
       "                                     Crm_Cd_Desc  Vict_Age Vict_Sex  \\\n",
       "0                       BATTERY - SIMPLE ASSAULT        36        F   \n",
       "1                       BATTERY - SIMPLE ASSAULT        25        M   \n",
       "2       VANDALISM - MISDEAMEANOR ($399 OR UNDER)        62        M   \n",
       "3       VANDALISM - MISDEAMEANOR ($399 OR UNDER)        76        F   \n",
       "5                                 RAPE, FORCIBLE        25        F   \n",
       "...                                          ...       ...      ...   \n",
       "276574                  BATTERY - SIMPLE ASSAULT        33        M   \n",
       "276575                        BUNCO, GRAND THEFT        39        M   \n",
       "276576                         THEFT OF IDENTITY        38        M   \n",
       "276580                               TRESPASSING        29        M   \n",
       "276582                        FALSE IMPRISONMENT        41        F   \n",
       "\n",
       "       Vict_Descent  \n",
       "0                 B  \n",
       "1                 H  \n",
       "2                 B  \n",
       "3                 W  \n",
       "5                 H  \n",
       "...             ...  \n",
       "276574            B  \n",
       "276575            W  \n",
       "276576            H  \n",
       "276580            H  \n",
       "276582            B  \n",
       "\n",
       "[206549 rows x 8 columns]"
      ]
     },
     "execution_count": 1,
     "metadata": {},
     "output_type": "execute_result"
    }
   ],
   "source": [
    "import pandas as pd\n",
    "\n",
    "\n",
    "#loading the data from github (already tidy since we dropped the columns we do not need to make the file smaller)\n",
    "url = \"https://raw.githubusercontent.com/emmaw20/toy_ds_project/main/sample_crime_data.csv?token=GHSAT0AAAAAACJX4VM2AFZUCQJK5Q2CNDUEZKC2G4Q\" \n",
    "\n",
    "crime_data = pd.read_csv(url)\n",
    "\n",
    "#replacing spaces with \"_\" \n",
    "crime_data.columns = crime_data.columns.str.replace(' ', '_')\n",
    "\n",
    "\n",
    "crime_data = crime_data.drop_duplicates()\n",
    "crime_data = crime_data.dropna()\n",
    "crime_data = crime_data[crime_data[\"Vict_Age\"] != 0]\n",
    "crime_data = crime_data[crime_data[\"Vict_Sex\"] != \"X\"]\n",
    " \n",
    "crime_data"
   ]
  },
  {
   "cell_type": "code",
   "execution_count": 2,
   "id": "d4698883-6997-488b-9c56-7ed4682b808b",
   "metadata": {
    "tags": []
   },
   "outputs": [],
   "source": [
    "#creating training and testing data \n",
    "from sklearn.model_selection import train_test_split\n",
    "\n",
    "#dividing the data into training and test set \n",
    "crime_train, crime_test = train_test_split(\n",
    "    crime_data, train_size=0.75\n",
    ")\n"
   ]
  },
  {
   "cell_type": "code",
   "execution_count": 3,
   "id": "4e16ab5c-143a-4fb8-b273-f9053ef93b96",
   "metadata": {
    "tags": []
   },
   "outputs": [],
   "source": [
    "X_train = crime_train[[\"TIME_OCC\"]]\n",
    "y_train = crime_train[\"Vict_Age\"]\n",
    "\n",
    "X_test = crime_test[[\"TIME_OCC\"]]\n",
    "y_test = crime_test[\"Vict_Age\"]"
   ]
  },
  {
   "cell_type": "code",
   "execution_count": 4,
   "id": "ba160bba-e45e-4809-96fd-b7a71e6a0079",
   "metadata": {
    "tags": []
   },
   "outputs": [
    {
     "data": {
      "text/plain": [
       "M    81222\n",
       "F    73673\n",
       "H       16\n",
       "Name: Vict_Sex, dtype: int64"
      ]
     },
     "execution_count": 4,
     "metadata": {},
     "output_type": "execute_result"
    }
   ],
   "source": [
    "#exploratory data analysis with the training data\n",
    "crime_train[\"Vict_Sex\"].value_counts()                                    "
   ]
  },
  {
   "cell_type": "code",
   "execution_count": 5,
   "id": "d234f7d0-913e-4c75-a665-bca5223605e3",
   "metadata": {
    "tags": []
   },
   "outputs": [
    {
     "data": {
      "text/plain": [
       "77th Street    10373\n",
       "Central         9310\n",
       "Pacific         8926\n",
       "Southwest       8786\n",
       "Southeast       8304\n",
       "Hollywood       8104\n",
       "Wilshire        7963\n",
       "N Hollywood     7846\n",
       "West LA         7662\n",
       "Van Nuys        7275\n",
       "Olympic         7222\n",
       "Topanga         7220\n",
       "Rampart         6956\n",
       "Newton          6810\n",
       "Mission         6616\n",
       "Harbor          6460\n",
       "Northeast       6326\n",
       "West Valley     6046\n",
       "Devonshire      5690\n",
       "Hollenbeck      5517\n",
       "Foothill        5499\n",
       "Name: AREA_NAME, dtype: int64"
      ]
     },
     "execution_count": 5,
     "metadata": {},
     "output_type": "execute_result"
    }
   ],
   "source": [
    "crime_train[\"AREA_NAME\"].value_counts() "
   ]
  },
  {
   "cell_type": "code",
   "execution_count": 6,
   "id": "93e1a94c-0e38-43c5-b3ca-607b1690f101",
   "metadata": {
    "tags": []
   },
   "outputs": [
    {
     "data": {
      "text/plain": [
       "BATTERY - SIMPLE ASSAULT                                   16751\n",
       "BURGLARY FROM VEHICLE                                      13074\n",
       "ASSAULT WITH DEADLY WEAPON, AGGRAVATED ASSAULT             11767\n",
       "INTIMATE PARTNER - SIMPLE ASSAULT                          11300\n",
       "VANDALISM - FELONY ($400 & OVER, ALL CHURCH VANDALISMS)     9904\n",
       "                                                           ...  \n",
       "THEFT, COIN MACHINE - PETTY ($950 & UNDER)                     1\n",
       "TILL TAP - PETTY ($950 & UNDER)                                1\n",
       "LYNCHING - ATTEMPTED                                           1\n",
       "LYNCHING                                                       1\n",
       "DRUGS, TO A MINOR                                              1\n",
       "Name: Crm_Cd_Desc, Length: 125, dtype: int64"
      ]
     },
     "execution_count": 6,
     "metadata": {},
     "output_type": "execute_result"
    }
   ],
   "source": [
    "crime_train[\"Crm_Cd_Desc\"].value_counts(ascending=False) "
   ]
  },
  {
   "cell_type": "code",
   "execution_count": 7,
   "id": "935e4685-0131-4ca7-8862-655abe81e493",
   "metadata": {
    "tags": []
   },
   "outputs": [
    {
     "data": {
      "text/plain": [
       " 30    4861\n",
       " 29    4554\n",
       " 28    4519\n",
       " 35    4444\n",
       " 31    4408\n",
       "       ... \n",
       " 93      21\n",
       " 98      20\n",
       " 96      18\n",
       " 97      15\n",
       "-1        1\n",
       "Name: Vict_Age, Length: 99, dtype: int64"
      ]
     },
     "execution_count": 7,
     "metadata": {},
     "output_type": "execute_result"
    }
   ],
   "source": [
    "crime_train[\"Vict_Age\"].value_counts(ascending=False) "
   ]
  },
  {
   "cell_type": "code",
   "execution_count": 8,
   "id": "ced77fa4-f38d-4a5d-817b-3ebd8789cef8",
   "metadata": {
    "tags": []
   },
   "outputs": [
    {
     "data": {
      "text/html": [
       "\n",
       "<style>\n",
       "  #altair-viz-8c0d60975ce6479784423bce807fb060.vega-embed {\n",
       "    width: 100%;\n",
       "    display: flex;\n",
       "  }\n",
       "\n",
       "  #altair-viz-8c0d60975ce6479784423bce807fb060.vega-embed details,\n",
       "  #altair-viz-8c0d60975ce6479784423bce807fb060.vega-embed details summary {\n",
       "    position: relative;\n",
       "  }\n",
       "</style>\n",
       "<div id=\"altair-viz-8c0d60975ce6479784423bce807fb060\"></div>\n",
       "<script type=\"text/javascript\">\n",
       "  var VEGA_DEBUG = (typeof VEGA_DEBUG == \"undefined\") ? {} : VEGA_DEBUG;\n",
       "  (function(spec, embedOpt){\n",
       "    let outputDiv = document.currentScript.previousElementSibling;\n",
       "    if (outputDiv.id !== \"altair-viz-8c0d60975ce6479784423bce807fb060\") {\n",
       "      outputDiv = document.getElementById(\"altair-viz-8c0d60975ce6479784423bce807fb060\");\n",
       "    }\n",
       "    const paths = {\n",
       "      \"vega\": \"https://cdn.jsdelivr.net/npm/vega@5?noext\",\n",
       "      \"vega-lib\": \"https://cdn.jsdelivr.net/npm/vega-lib?noext\",\n",
       "      \"vega-lite\": \"https://cdn.jsdelivr.net/npm/vega-lite@5.15.1?noext\",\n",
       "      \"vega-embed\": \"https://cdn.jsdelivr.net/npm/vega-embed@6?noext\",\n",
       "    };\n",
       "\n",
       "    function maybeLoadScript(lib, version) {\n",
       "      var key = `${lib.replace(\"-\", \"\")}_version`;\n",
       "      return (VEGA_DEBUG[key] == version) ?\n",
       "        Promise.resolve(paths[lib]) :\n",
       "        new Promise(function(resolve, reject) {\n",
       "          var s = document.createElement('script');\n",
       "          document.getElementsByTagName(\"head\")[0].appendChild(s);\n",
       "          s.async = true;\n",
       "          s.onload = () => {\n",
       "            VEGA_DEBUG[key] = version;\n",
       "            return resolve(paths[lib]);\n",
       "          };\n",
       "          s.onerror = () => reject(`Error loading script: ${paths[lib]}`);\n",
       "          s.src = paths[lib];\n",
       "        });\n",
       "    }\n",
       "\n",
       "    function showError(err) {\n",
       "      outputDiv.innerHTML = `<div class=\"error\" style=\"color:red;\">${err}</div>`;\n",
       "      throw err;\n",
       "    }\n",
       "\n",
       "    function displayChart(vegaEmbed) {\n",
       "      vegaEmbed(outputDiv, spec, embedOpt)\n",
       "        .catch(err => showError(`Javascript Error: ${err.message}<br>This usually means there's a typo in your chart specification. See the javascript console for the full traceback.`));\n",
       "    }\n",
       "\n",
       "    if(typeof define === \"function\" && define.amd) {\n",
       "      requirejs.config({paths});\n",
       "      require([\"vega-embed\"], displayChart, err => showError(`Error loading script: ${err.message}`));\n",
       "    } else {\n",
       "      maybeLoadScript(\"vega\", \"5\")\n",
       "        .then(() => maybeLoadScript(\"vega-lite\", \"5.15.1\"))\n",
       "        .then(() => maybeLoadScript(\"vega-embed\", \"6\"))\n",
       "        .catch(showError)\n",
       "        .then(() => displayChart(vegaEmbed));\n",
       "    }\n",
       "  })({\"config\": {\"view\": {\"continuousWidth\": 300, \"continuousHeight\": 300}}, \"data\": {\"name\": \"data-e5df77770dc835b5f8ef81ed8b6b4e32\"}, \"mark\": {\"type\": \"point\", \"opacity\": 0.5}, \"encoding\": {\"color\": {\"field\": \"Vict_Descent\", \"title\": \"Victim Descent (ethnicity)\", \"type\": \"nominal\"}, \"shape\": {\"field\": \"Vict_Sex\", \"title\": \"Sex of Victim (male or female\", \"type\": \"nominal\"}, \"x\": {\"field\": \"TIME_OCC\", \"scale\": {\"zero\": false}, \"title\": \"Time Crime Occurred, in military hours\", \"type\": \"quantitative\"}, \"y\": {\"field\": \"Vict_Age\", \"scale\": {\"zero\": false}, \"title\": \"Age of Victim, in years\", \"type\": \"quantitative\"}}, \"title\": \"Age of Victim versus time of Crime\", \"$schema\": \"https://vega.github.io/schema/vega-lite/v5.15.1.json\", \"datasets\": {\"data-e5df77770dc835b5f8ef81ed8b6b4e32\": [{\"Unnamed:_0\": 218178, \"AREA_NAME\": \"Mission\", \"TIME_OCC\": 2230, \"Crm_Cd\": 354, \"Crm_Cd_Desc\": \"THEFT OF IDENTITY\", \"Vict_Age\": 32, \"Vict_Sex\": \"M\", \"Vict_Descent\": \"H\"}, {\"Unnamed:_0\": 147732, \"AREA_NAME\": \"77th Street\", \"TIME_OCC\": 1825, \"Crm_Cd\": 745, \"Crm_Cd_Desc\": \"VANDALISM - MISDEAMEANOR ($399 OR UNDER)\", \"Vict_Age\": 33, \"Vict_Sex\": \"F\", \"Vict_Descent\": \"B\"}, {\"Unnamed:_0\": 95239, \"AREA_NAME\": \"Central\", \"TIME_OCC\": 945, \"Crm_Cd\": 330, \"Crm_Cd_Desc\": \"BURGLARY FROM VEHICLE\", \"Vict_Age\": 60, \"Vict_Sex\": \"F\", \"Vict_Descent\": \"B\"}, {\"Unnamed:_0\": 9291, \"AREA_NAME\": \"West Valley\", \"TIME_OCC\": 5, \"Crm_Cd\": 354, \"Crm_Cd_Desc\": \"THEFT OF IDENTITY\", \"Vict_Age\": 59, \"Vict_Sex\": \"F\", \"Vict_Descent\": \"W\"}, {\"Unnamed:_0\": 183796, \"AREA_NAME\": \"Southeast\", \"TIME_OCC\": 830, \"Crm_Cd\": 624, \"Crm_Cd_Desc\": \"BATTERY - SIMPLE ASSAULT\", \"Vict_Age\": 33, \"Vict_Sex\": \"F\", \"Vict_Descent\": \"O\"}, {\"Unnamed:_0\": 108925, \"AREA_NAME\": \"Topanga\", \"TIME_OCC\": 1730, \"Crm_Cd\": 330, \"Crm_Cd_Desc\": \"BURGLARY FROM VEHICLE\", \"Vict_Age\": 37, \"Vict_Sex\": \"M\", \"Vict_Descent\": \"W\"}, {\"Unnamed:_0\": 227845, \"AREA_NAME\": \"Southwest\", \"TIME_OCC\": 1600, \"Crm_Cd\": 420, \"Crm_Cd_Desc\": \"THEFT FROM MOTOR VEHICLE - PETTY ($950 & UNDER)\", \"Vict_Age\": 30, \"Vict_Sex\": \"F\", \"Vict_Descent\": \"W\"}, {\"Unnamed:_0\": 196314, \"AREA_NAME\": \"Wilshire\", \"TIME_OCC\": 2100, \"Crm_Cd\": 740, \"Crm_Cd_Desc\": \"VANDALISM - FELONY ($400 & OVER, ALL CHURCH VANDALISMS)\", \"Vict_Age\": 22, \"Vict_Sex\": \"M\", \"Vict_Descent\": \"W\"}, {\"Unnamed:_0\": 231995, \"AREA_NAME\": \"Hollywood\", \"TIME_OCC\": 1100, \"Crm_Cd\": 354, \"Crm_Cd_Desc\": \"THEFT OF IDENTITY\", \"Vict_Age\": 40, \"Vict_Sex\": \"M\", \"Vict_Descent\": \"W\"}, {\"Unnamed:_0\": 24756, \"AREA_NAME\": \"Van Nuys\", \"TIME_OCC\": 1200, \"Crm_Cd\": 354, \"Crm_Cd_Desc\": \"THEFT OF IDENTITY\", \"Vict_Age\": 32, \"Vict_Sex\": \"F\", \"Vict_Descent\": \"H\"}, {\"Unnamed:_0\": 91433, \"AREA_NAME\": \"Hollywood\", \"TIME_OCC\": 100, \"Crm_Cd\": 440, \"Crm_Cd_Desc\": \"THEFT PLAIN - PETTY ($950 & UNDER)\", \"Vict_Age\": 47, \"Vict_Sex\": \"F\", \"Vict_Descent\": \"W\"}, {\"Unnamed:_0\": 208393, \"AREA_NAME\": \"Topanga\", \"TIME_OCC\": 1845, \"Crm_Cd\": 230, \"Crm_Cd_Desc\": \"ASSAULT WITH DEADLY WEAPON, AGGRAVATED ASSAULT\", \"Vict_Age\": 38, \"Vict_Sex\": \"F\", \"Vict_Descent\": \"B\"}, {\"Unnamed:_0\": 14144, \"AREA_NAME\": \"Topanga\", \"TIME_OCC\": 2000, \"Crm_Cd\": 440, \"Crm_Cd_Desc\": \"THEFT PLAIN - PETTY ($950 & UNDER)\", \"Vict_Age\": 37, \"Vict_Sex\": \"M\", \"Vict_Descent\": \"H\"}, {\"Unnamed:_0\": 103855, \"AREA_NAME\": \"Hollywood\", \"TIME_OCC\": 1300, \"Crm_Cd\": 626, \"Crm_Cd_Desc\": \"INTIMATE PARTNER - SIMPLE ASSAULT\", \"Vict_Age\": 19, \"Vict_Sex\": \"F\", \"Vict_Descent\": \"B\"}, {\"Unnamed:_0\": 41471, \"AREA_NAME\": \"Northeast\", \"TIME_OCC\": 1700, \"Crm_Cd\": 310, \"Crm_Cd_Desc\": \"BURGLARY\", \"Vict_Age\": 45, \"Vict_Sex\": \"M\", \"Vict_Descent\": \"A\"}, {\"Unnamed:_0\": 200444, \"AREA_NAME\": \"Wilshire\", \"TIME_OCC\": 500, \"Crm_Cd\": 626, \"Crm_Cd_Desc\": \"INTIMATE PARTNER - SIMPLE ASSAULT\", \"Vict_Age\": 45, \"Vict_Sex\": \"F\", \"Vict_Descent\": \"B\"}, {\"Unnamed:_0\": 182668, \"AREA_NAME\": \"Wilshire\", \"TIME_OCC\": 1600, \"Crm_Cd\": 320, \"Crm_Cd_Desc\": \"BURGLARY, ATTEMPTED\", \"Vict_Age\": 53, \"Vict_Sex\": \"M\", \"Vict_Descent\": \"W\"}, {\"Unnamed:_0\": 107479, \"AREA_NAME\": \"Devonshire\", \"TIME_OCC\": 835, \"Crm_Cd\": 440, \"Crm_Cd_Desc\": \"THEFT PLAIN - PETTY ($950 & UNDER)\", \"Vict_Age\": 32, \"Vict_Sex\": \"F\", \"Vict_Descent\": \"B\"}, {\"Unnamed:_0\": 27921, \"AREA_NAME\": \"Wilshire\", \"TIME_OCC\": 1900, \"Crm_Cd\": 320, \"Crm_Cd_Desc\": \"BURGLARY, ATTEMPTED\", \"Vict_Age\": 37, \"Vict_Sex\": \"M\", \"Vict_Descent\": \"W\"}, {\"Unnamed:_0\": 14941, \"AREA_NAME\": \"N Hollywood\", \"TIME_OCC\": 1130, \"Crm_Cd\": 330, \"Crm_Cd_Desc\": \"BURGLARY FROM VEHICLE\", \"Vict_Age\": 52, \"Vict_Sex\": \"F\", \"Vict_Descent\": \"H\"}, {\"Unnamed:_0\": 179683, \"AREA_NAME\": \"Northeast\", \"TIME_OCC\": 1055, \"Crm_Cd\": 440, \"Crm_Cd_Desc\": \"THEFT PLAIN - PETTY ($950 & UNDER)\", \"Vict_Age\": 38, \"Vict_Sex\": \"F\", \"Vict_Descent\": \"O\"}, {\"Unnamed:_0\": 225994, \"AREA_NAME\": \"Southwest\", \"TIME_OCC\": 2200, \"Crm_Cd\": 236, \"Crm_Cd_Desc\": \"INTIMATE PARTNER - AGGRAVATED ASSAULT\", \"Vict_Age\": 32, \"Vict_Sex\": \"F\", \"Vict_Descent\": \"B\"}, {\"Unnamed:_0\": 212120, \"AREA_NAME\": \"Van Nuys\", \"TIME_OCC\": 1230, \"Crm_Cd\": 900, \"Crm_Cd_Desc\": \"VIOLATION OF COURT ORDER\", \"Vict_Age\": 62, \"Vict_Sex\": \"M\", \"Vict_Descent\": \"H\"}, {\"Unnamed:_0\": 53434, \"AREA_NAME\": \"Wilshire\", \"TIME_OCC\": 1558, \"Crm_Cd\": 440, \"Crm_Cd_Desc\": \"THEFT PLAIN - PETTY ($950 & UNDER)\", \"Vict_Age\": 30, \"Vict_Sex\": \"F\", \"Vict_Descent\": \"H\"}, {\"Unnamed:_0\": 68524, \"AREA_NAME\": \"West Valley\", \"TIME_OCC\": 530, \"Crm_Cd\": 740, \"Crm_Cd_Desc\": \"VANDALISM - FELONY ($400 & OVER, ALL CHURCH VANDALISMS)\", \"Vict_Age\": 47, \"Vict_Sex\": \"F\", \"Vict_Descent\": \"H\"}, {\"Unnamed:_0\": 208974, \"AREA_NAME\": \"N Hollywood\", \"TIME_OCC\": 2040, \"Crm_Cd\": 230, \"Crm_Cd_Desc\": \"ASSAULT WITH DEADLY WEAPON, AGGRAVATED ASSAULT\", \"Vict_Age\": 30, \"Vict_Sex\": \"M\", \"Vict_Descent\": \"H\"}, {\"Unnamed:_0\": 167048, \"AREA_NAME\": \"Rampart\", \"TIME_OCC\": 1711, \"Crm_Cd\": 440, \"Crm_Cd_Desc\": \"THEFT PLAIN - PETTY ($950 & UNDER)\", \"Vict_Age\": 24, \"Vict_Sex\": \"M\", \"Vict_Descent\": \"H\"}, {\"Unnamed:_0\": 133800, \"AREA_NAME\": \"Harbor\", \"TIME_OCC\": 1640, \"Crm_Cd\": 740, \"Crm_Cd_Desc\": \"VANDALISM - FELONY ($400 & OVER, ALL CHURCH VANDALISMS)\", \"Vict_Age\": 29, \"Vict_Sex\": \"F\", \"Vict_Descent\": \"H\"}, {\"Unnamed:_0\": 148963, \"AREA_NAME\": \"Hollywood\", \"TIME_OCC\": 2125, \"Crm_Cd\": 341, \"Crm_Cd_Desc\": \"THEFT-GRAND ($950.01 & OVER)EXCPT,GUNS,FOWL,LIVESTK,PROD\", \"Vict_Age\": 25, \"Vict_Sex\": \"F\", \"Vict_Descent\": \"H\"}, {\"Unnamed:_0\": 19839, \"AREA_NAME\": \"Topanga\", \"TIME_OCC\": 1825, \"Crm_Cd\": 649, \"Crm_Cd_Desc\": \"DOCUMENT FORGERY / STOLEN FELONY\", \"Vict_Age\": 50, \"Vict_Sex\": \"M\", \"Vict_Descent\": \"W\"}, {\"Unnamed:_0\": 56575, \"AREA_NAME\": \"Newton\", \"TIME_OCC\": 845, \"Crm_Cd\": 626, \"Crm_Cd_Desc\": \"INTIMATE PARTNER - SIMPLE ASSAULT\", \"Vict_Age\": 36, \"Vict_Sex\": \"F\", \"Vict_Descent\": \"H\"}, {\"Unnamed:_0\": 176325, \"AREA_NAME\": \"Central\", \"TIME_OCC\": 1200, \"Crm_Cd\": 330, \"Crm_Cd_Desc\": \"BURGLARY FROM VEHICLE\", \"Vict_Age\": 36, \"Vict_Sex\": \"F\", \"Vict_Descent\": \"W\"}, {\"Unnamed:_0\": 88839, \"AREA_NAME\": \"Mission\", \"TIME_OCC\": 1220, \"Crm_Cd\": 626, \"Crm_Cd_Desc\": \"INTIMATE PARTNER - SIMPLE ASSAULT\", \"Vict_Age\": 37, \"Vict_Sex\": \"F\", \"Vict_Descent\": \"H\"}, {\"Unnamed:_0\": 81077, \"AREA_NAME\": \"Wilshire\", \"TIME_OCC\": 1400, \"Crm_Cd\": 330, \"Crm_Cd_Desc\": \"BURGLARY FROM VEHICLE\", \"Vict_Age\": 62, \"Vict_Sex\": \"F\", \"Vict_Descent\": \"W\"}, {\"Unnamed:_0\": 211542, \"AREA_NAME\": \"Harbor\", \"TIME_OCC\": 200, \"Crm_Cd\": 626, \"Crm_Cd_Desc\": \"INTIMATE PARTNER - SIMPLE ASSAULT\", \"Vict_Age\": 43, \"Vict_Sex\": \"M\", \"Vict_Descent\": \"H\"}, {\"Unnamed:_0\": 109014, \"AREA_NAME\": \"West LA\", \"TIME_OCC\": 1700, \"Crm_Cd\": 940, \"Crm_Cd_Desc\": \"EXTORTION\", \"Vict_Age\": 54, \"Vict_Sex\": \"M\", \"Vict_Descent\": \"W\"}, {\"Unnamed:_0\": 266226, \"AREA_NAME\": \"Harbor\", \"TIME_OCC\": 1, \"Crm_Cd\": 626, \"Crm_Cd_Desc\": \"INTIMATE PARTNER - SIMPLE ASSAULT\", \"Vict_Age\": 34, \"Vict_Sex\": \"F\", \"Vict_Descent\": \"B\"}, {\"Unnamed:_0\": 15969, \"AREA_NAME\": \"Devonshire\", \"TIME_OCC\": 1735, \"Crm_Cd\": 745, \"Crm_Cd_Desc\": \"VANDALISM - MISDEAMEANOR ($399 OR UNDER)\", \"Vict_Age\": 47, \"Vict_Sex\": \"M\", \"Vict_Descent\": \"H\"}, {\"Unnamed:_0\": 244445, \"AREA_NAME\": \"Rampart\", \"TIME_OCC\": 2310, \"Crm_Cd\": 624, \"Crm_Cd_Desc\": \"BATTERY - SIMPLE ASSAULT\", \"Vict_Age\": 49, \"Vict_Sex\": \"M\", \"Vict_Descent\": \"H\"}, {\"Unnamed:_0\": 118125, \"AREA_NAME\": \"Topanga\", \"TIME_OCC\": 1740, \"Crm_Cd\": 236, \"Crm_Cd_Desc\": \"INTIMATE PARTNER - AGGRAVATED ASSAULT\", \"Vict_Age\": 48, \"Vict_Sex\": \"M\", \"Vict_Descent\": \"W\"}, {\"Unnamed:_0\": 213083, \"AREA_NAME\": \"Hollenbeck\", \"TIME_OCC\": 1, \"Crm_Cd\": 210, \"Crm_Cd_Desc\": \"ROBBERY\", \"Vict_Age\": 56, \"Vict_Sex\": \"M\", \"Vict_Descent\": \"H\"}, {\"Unnamed:_0\": 107658, \"AREA_NAME\": \"Southeast\", \"TIME_OCC\": 1100, \"Crm_Cd\": 626, \"Crm_Cd_Desc\": \"INTIMATE PARTNER - SIMPLE ASSAULT\", \"Vict_Age\": 32, \"Vict_Sex\": \"F\", \"Vict_Descent\": \"B\"}, {\"Unnamed:_0\": 245536, \"AREA_NAME\": \"77th Street\", \"TIME_OCC\": 1030, \"Crm_Cd\": 740, \"Crm_Cd_Desc\": \"VANDALISM - FELONY ($400 & OVER, ALL CHURCH VANDALISMS)\", \"Vict_Age\": 46, \"Vict_Sex\": \"F\", \"Vict_Descent\": \"H\"}, {\"Unnamed:_0\": 113524, \"AREA_NAME\": \"Northeast\", \"TIME_OCC\": 710, \"Crm_Cd\": 624, \"Crm_Cd_Desc\": \"BATTERY - SIMPLE ASSAULT\", \"Vict_Age\": 23, \"Vict_Sex\": \"M\", \"Vict_Descent\": \"H\"}, {\"Unnamed:_0\": 235782, \"AREA_NAME\": \"Hollenbeck\", \"TIME_OCC\": 200, \"Crm_Cd\": 236, \"Crm_Cd_Desc\": \"INTIMATE PARTNER - AGGRAVATED ASSAULT\", \"Vict_Age\": 44, \"Vict_Sex\": \"F\", \"Vict_Descent\": \"H\"}, {\"Unnamed:_0\": 87397, \"AREA_NAME\": \"Hollenbeck\", \"TIME_OCC\": 1340, \"Crm_Cd\": 624, \"Crm_Cd_Desc\": \"BATTERY - SIMPLE ASSAULT\", \"Vict_Age\": 55, \"Vict_Sex\": \"M\", \"Vict_Descent\": \"H\"}, {\"Unnamed:_0\": 159155, \"AREA_NAME\": \"Hollywood\", \"TIME_OCC\": 1, \"Crm_Cd\": 331, \"Crm_Cd_Desc\": \"THEFT FROM MOTOR VEHICLE - GRAND ($400 AND OVER)\", \"Vict_Age\": 27, \"Vict_Sex\": \"F\", \"Vict_Descent\": \"W\"}, {\"Unnamed:_0\": 64188, \"AREA_NAME\": \"Southwest\", \"TIME_OCC\": 1430, \"Crm_Cd\": 210, \"Crm_Cd_Desc\": \"ROBBERY\", \"Vict_Age\": 24, \"Vict_Sex\": \"M\", \"Vict_Descent\": \"B\"}, {\"Unnamed:_0\": 113989, \"AREA_NAME\": \"77th Street\", \"TIME_OCC\": 1910, \"Crm_Cd\": 626, \"Crm_Cd_Desc\": \"INTIMATE PARTNER - SIMPLE ASSAULT\", \"Vict_Age\": 20, \"Vict_Sex\": \"F\", \"Vict_Descent\": \"H\"}, {\"Unnamed:_0\": 55660, \"AREA_NAME\": \"West Valley\", \"TIME_OCC\": 2100, \"Crm_Cd\": 902, \"Crm_Cd_Desc\": \"VIOLATION OF TEMPORARY RESTRAINING ORDER\", \"Vict_Age\": 31, \"Vict_Sex\": \"F\", \"Vict_Descent\": \"W\"}, {\"Unnamed:_0\": 46732, \"AREA_NAME\": \"Wilshire\", \"TIME_OCC\": 2350, \"Crm_Cd\": 210, \"Crm_Cd_Desc\": \"ROBBERY\", \"Vict_Age\": 61, \"Vict_Sex\": \"M\", \"Vict_Descent\": \"W\"}, {\"Unnamed:_0\": 149350, \"AREA_NAME\": \"77th Street\", \"TIME_OCC\": 2000, \"Crm_Cd\": 626, \"Crm_Cd_Desc\": \"INTIMATE PARTNER - SIMPLE ASSAULT\", \"Vict_Age\": 32, \"Vict_Sex\": \"F\", \"Vict_Descent\": \"B\"}, {\"Unnamed:_0\": 36978, \"AREA_NAME\": \"Hollywood\", \"TIME_OCC\": 755, \"Crm_Cd\": 220, \"Crm_Cd_Desc\": \"ATTEMPTED ROBBERY\", \"Vict_Age\": 50, \"Vict_Sex\": \"M\", \"Vict_Descent\": \"H\"}, {\"Unnamed:_0\": 77730, \"AREA_NAME\": \"Northeast\", \"TIME_OCC\": 2335, \"Crm_Cd\": 331, \"Crm_Cd_Desc\": \"THEFT FROM MOTOR VEHICLE - GRAND ($400 AND OVER)\", \"Vict_Age\": 24, \"Vict_Sex\": \"M\", \"Vict_Descent\": \"H\"}, {\"Unnamed:_0\": 24883, \"AREA_NAME\": \"West Valley\", \"TIME_OCC\": 520, \"Crm_Cd\": 210, \"Crm_Cd_Desc\": \"ROBBERY\", \"Vict_Age\": 27, \"Vict_Sex\": \"M\", \"Vict_Descent\": \"W\"}, {\"Unnamed:_0\": 97764, \"AREA_NAME\": \"N Hollywood\", \"TIME_OCC\": 1930, \"Crm_Cd\": 930, \"Crm_Cd_Desc\": \"CRIMINAL THREATS - NO WEAPON DISPLAYED\", \"Vict_Age\": 21, \"Vict_Sex\": \"M\", \"Vict_Descent\": \"H\"}, {\"Unnamed:_0\": 200303, \"AREA_NAME\": \"Van Nuys\", \"TIME_OCC\": 425, \"Crm_Cd\": 420, \"Crm_Cd_Desc\": \"THEFT FROM MOTOR VEHICLE - PETTY ($950 & UNDER)\", \"Vict_Age\": 23, \"Vict_Sex\": \"M\", \"Vict_Descent\": \"O\"}, {\"Unnamed:_0\": 131894, \"AREA_NAME\": \"Olympic\", \"TIME_OCC\": 2045, \"Crm_Cd\": 230, \"Crm_Cd_Desc\": \"ASSAULT WITH DEADLY WEAPON, AGGRAVATED ASSAULT\", \"Vict_Age\": 51, \"Vict_Sex\": \"M\", \"Vict_Descent\": \"W\"}, {\"Unnamed:_0\": 274178, \"AREA_NAME\": \"77th Street\", \"TIME_OCC\": 1920, \"Crm_Cd\": 624, \"Crm_Cd_Desc\": \"BATTERY - SIMPLE ASSAULT\", \"Vict_Age\": 38, \"Vict_Sex\": \"F\", \"Vict_Descent\": \"H\"}, {\"Unnamed:_0\": 120742, \"AREA_NAME\": \"Hollywood\", \"TIME_OCC\": 1900, \"Crm_Cd\": 330, \"Crm_Cd_Desc\": \"BURGLARY FROM VEHICLE\", \"Vict_Age\": 29, \"Vict_Sex\": \"M\", \"Vict_Descent\": \"W\"}, {\"Unnamed:_0\": 61043, \"AREA_NAME\": \"West Valley\", \"TIME_OCC\": 335, \"Crm_Cd\": 420, \"Crm_Cd_Desc\": \"THEFT FROM MOTOR VEHICLE - PETTY ($950 & UNDER)\", \"Vict_Age\": 33, \"Vict_Sex\": \"F\", \"Vict_Descent\": \"W\"}, {\"Unnamed:_0\": 241438, \"AREA_NAME\": \"Southwest\", \"TIME_OCC\": 2200, \"Crm_Cd\": 420, \"Crm_Cd_Desc\": \"THEFT FROM MOTOR VEHICLE - PETTY ($950 & UNDER)\", \"Vict_Age\": 23, \"Vict_Sex\": \"M\", \"Vict_Descent\": \"H\"}, {\"Unnamed:_0\": 231051, \"AREA_NAME\": \"Olympic\", \"TIME_OCC\": 1930, \"Crm_Cd\": 626, \"Crm_Cd_Desc\": \"INTIMATE PARTNER - SIMPLE ASSAULT\", \"Vict_Age\": 21, \"Vict_Sex\": \"F\", \"Vict_Descent\": \"H\"}, {\"Unnamed:_0\": 112313, \"AREA_NAME\": \"77th Street\", \"TIME_OCC\": 1520, \"Crm_Cd\": 210, \"Crm_Cd_Desc\": \"ROBBERY\", \"Vict_Age\": 32, \"Vict_Sex\": \"F\", \"Vict_Descent\": \"H\"}, {\"Unnamed:_0\": 6506, \"AREA_NAME\": \"Wilshire\", \"TIME_OCC\": 1840, \"Crm_Cd\": 210, \"Crm_Cd_Desc\": \"ROBBERY\", \"Vict_Age\": 17, \"Vict_Sex\": \"M\", \"Vict_Descent\": \"H\"}, {\"Unnamed:_0\": 182466, \"AREA_NAME\": \"Wilshire\", \"TIME_OCC\": 1200, \"Crm_Cd\": 440, \"Crm_Cd_Desc\": \"THEFT PLAIN - PETTY ($950 & UNDER)\", \"Vict_Age\": 48, \"Vict_Sex\": \"M\", \"Vict_Descent\": \"W\"}, {\"Unnamed:_0\": 209740, \"AREA_NAME\": \"Central\", \"TIME_OCC\": 1325, \"Crm_Cd\": 664, \"Crm_Cd_Desc\": \"BUNCO, PETTY THEFT\", \"Vict_Age\": 49, \"Vict_Sex\": \"M\", \"Vict_Descent\": \"H\"}, {\"Unnamed:_0\": 259236, \"AREA_NAME\": \"Pacific\", \"TIME_OCC\": 558, \"Crm_Cd\": 440, \"Crm_Cd_Desc\": \"THEFT PLAIN - PETTY ($950 & UNDER)\", \"Vict_Age\": 29, \"Vict_Sex\": \"M\", \"Vict_Descent\": \"O\"}, {\"Unnamed:_0\": 231982, \"AREA_NAME\": \"West LA\", \"TIME_OCC\": 2200, \"Crm_Cd\": 330, \"Crm_Cd_Desc\": \"BURGLARY FROM VEHICLE\", \"Vict_Age\": 32, \"Vict_Sex\": \"F\", \"Vict_Descent\": \"O\"}, {\"Unnamed:_0\": 247881, \"AREA_NAME\": \"Central\", \"TIME_OCC\": 1345, \"Crm_Cd\": 350, \"Crm_Cd_Desc\": \"THEFT, PERSON\", \"Vict_Age\": 41, \"Vict_Sex\": \"F\", \"Vict_Descent\": \"H\"}, {\"Unnamed:_0\": 148942, \"AREA_NAME\": \"Pacific\", \"TIME_OCC\": 910, \"Crm_Cd\": 624, \"Crm_Cd_Desc\": \"BATTERY - SIMPLE ASSAULT\", \"Vict_Age\": 42, \"Vict_Sex\": \"F\", \"Vict_Descent\": \"B\"}, {\"Unnamed:_0\": 306, \"AREA_NAME\": \"Central\", \"TIME_OCC\": 1430, \"Crm_Cd\": 624, \"Crm_Cd_Desc\": \"BATTERY - SIMPLE ASSAULT\", \"Vict_Age\": 17, \"Vict_Sex\": \"M\", \"Vict_Descent\": \"H\"}, {\"Unnamed:_0\": 234235, \"AREA_NAME\": \"Harbor\", \"TIME_OCC\": 1030, \"Crm_Cd\": 210, \"Crm_Cd_Desc\": \"ROBBERY\", \"Vict_Age\": 49, \"Vict_Sex\": \"F\", \"Vict_Descent\": \"O\"}, {\"Unnamed:_0\": 161693, \"AREA_NAME\": \"Wilshire\", \"TIME_OCC\": 2115, \"Crm_Cd\": 330, \"Crm_Cd_Desc\": \"BURGLARY FROM VEHICLE\", \"Vict_Age\": 26, \"Vict_Sex\": \"F\", \"Vict_Descent\": \"W\"}, {\"Unnamed:_0\": 113774, \"AREA_NAME\": \"Wilshire\", \"TIME_OCC\": 1930, \"Crm_Cd\": 625, \"Crm_Cd_Desc\": \"OTHER ASSAULT\", \"Vict_Age\": 45, \"Vict_Sex\": \"M\", \"Vict_Descent\": \"H\"}, {\"Unnamed:_0\": 219106, \"AREA_NAME\": \"Wilshire\", \"TIME_OCC\": 1030, \"Crm_Cd\": 624, \"Crm_Cd_Desc\": \"BATTERY - SIMPLE ASSAULT\", \"Vict_Age\": 50, \"Vict_Sex\": \"M\", \"Vict_Descent\": \"H\"}, {\"Unnamed:_0\": 51228, \"AREA_NAME\": \"Harbor\", \"TIME_OCC\": 1300, \"Crm_Cd\": 310, \"Crm_Cd_Desc\": \"BURGLARY\", \"Vict_Age\": 36, \"Vict_Sex\": \"F\", \"Vict_Descent\": \"B\"}, {\"Unnamed:_0\": 259110, \"AREA_NAME\": \"West LA\", \"TIME_OCC\": 1703, \"Crm_Cd\": 440, \"Crm_Cd_Desc\": \"THEFT PLAIN - PETTY ($950 & UNDER)\", \"Vict_Age\": 39, \"Vict_Sex\": \"F\", \"Vict_Descent\": \"J\"}, {\"Unnamed:_0\": 70866, \"AREA_NAME\": \"Pacific\", \"TIME_OCC\": 800, \"Crm_Cd\": 230, \"Crm_Cd_Desc\": \"ASSAULT WITH DEADLY WEAPON, AGGRAVATED ASSAULT\", \"Vict_Age\": 53, \"Vict_Sex\": \"M\", \"Vict_Descent\": \"W\"}, {\"Unnamed:_0\": 162879, \"AREA_NAME\": \"Pacific\", \"TIME_OCC\": 1100, \"Crm_Cd\": 330, \"Crm_Cd_Desc\": \"BURGLARY FROM VEHICLE\", \"Vict_Age\": 37, \"Vict_Sex\": \"F\", \"Vict_Descent\": \"O\"}, {\"Unnamed:_0\": 110200, \"AREA_NAME\": \"Hollenbeck\", \"TIME_OCC\": 300, \"Crm_Cd\": 626, \"Crm_Cd_Desc\": \"INTIMATE PARTNER - SIMPLE ASSAULT\", \"Vict_Age\": 25, \"Vict_Sex\": \"M\", \"Vict_Descent\": \"H\"}, {\"Unnamed:_0\": 238822, \"AREA_NAME\": \"Wilshire\", \"TIME_OCC\": 1045, \"Crm_Cd\": 330, \"Crm_Cd_Desc\": \"BURGLARY FROM VEHICLE\", \"Vict_Age\": 30, \"Vict_Sex\": \"F\", \"Vict_Descent\": \"I\"}, {\"Unnamed:_0\": 245779, \"AREA_NAME\": \"Pacific\", \"TIME_OCC\": 1453, \"Crm_Cd\": 440, \"Crm_Cd_Desc\": \"THEFT PLAIN - PETTY ($950 & UNDER)\", \"Vict_Age\": 58, \"Vict_Sex\": \"M\", \"Vict_Descent\": \"W\"}, {\"Unnamed:_0\": 228984, \"AREA_NAME\": \"Devonshire\", \"TIME_OCC\": 1610, \"Crm_Cd\": 230, \"Crm_Cd_Desc\": \"ASSAULT WITH DEADLY WEAPON, AGGRAVATED ASSAULT\", \"Vict_Age\": 23, \"Vict_Sex\": \"M\", \"Vict_Descent\": \"W\"}, {\"Unnamed:_0\": 189283, \"AREA_NAME\": \"Wilshire\", \"TIME_OCC\": 1230, \"Crm_Cd\": 624, \"Crm_Cd_Desc\": \"BATTERY - SIMPLE ASSAULT\", \"Vict_Age\": 58, \"Vict_Sex\": \"F\", \"Vict_Descent\": \"W\"}, {\"Unnamed:_0\": 203559, \"AREA_NAME\": \"Southeast\", \"TIME_OCC\": 900, \"Crm_Cd\": 901, \"Crm_Cd_Desc\": \"VIOLATION OF RESTRAINING ORDER\", \"Vict_Age\": 42, \"Vict_Sex\": \"F\", \"Vict_Descent\": \"H\"}, {\"Unnamed:_0\": 173245, \"AREA_NAME\": \"N Hollywood\", \"TIME_OCC\": 2310, \"Crm_Cd\": 230, \"Crm_Cd_Desc\": \"ASSAULT WITH DEADLY WEAPON, AGGRAVATED ASSAULT\", \"Vict_Age\": 38, \"Vict_Sex\": \"M\", \"Vict_Descent\": \"H\"}, {\"Unnamed:_0\": 237044, \"AREA_NAME\": \"Pacific\", \"TIME_OCC\": 2000, \"Crm_Cd\": 740, \"Crm_Cd_Desc\": \"VANDALISM - FELONY ($400 & OVER, ALL CHURCH VANDALISMS)\", \"Vict_Age\": 25, \"Vict_Sex\": \"M\", \"Vict_Descent\": \"W\"}, {\"Unnamed:_0\": 169944, \"AREA_NAME\": \"Southwest\", \"TIME_OCC\": 700, \"Crm_Cd\": 662, \"Crm_Cd_Desc\": \"BUNCO, GRAND THEFT\", \"Vict_Age\": 51, \"Vict_Sex\": \"F\", \"Vict_Descent\": \"H\"}, {\"Unnamed:_0\": 121686, \"AREA_NAME\": \"Olympic\", \"TIME_OCC\": 2150, \"Crm_Cd\": 230, \"Crm_Cd_Desc\": \"ASSAULT WITH DEADLY WEAPON, AGGRAVATED ASSAULT\", \"Vict_Age\": 26, \"Vict_Sex\": \"F\", \"Vict_Descent\": \"H\"}, {\"Unnamed:_0\": 48825, \"AREA_NAME\": \"Topanga\", \"TIME_OCC\": 208, \"Crm_Cd\": 740, \"Crm_Cd_Desc\": \"VANDALISM - FELONY ($400 & OVER, ALL CHURCH VANDALISMS)\", \"Vict_Age\": 35, \"Vict_Sex\": \"M\", \"Vict_Descent\": \"X\"}, {\"Unnamed:_0\": 161416, \"AREA_NAME\": \"Pacific\", \"TIME_OCC\": 1830, \"Crm_Cd\": 624, \"Crm_Cd_Desc\": \"BATTERY - SIMPLE ASSAULT\", \"Vict_Age\": 19, \"Vict_Sex\": \"M\", \"Vict_Descent\": \"W\"}, {\"Unnamed:_0\": 132821, \"AREA_NAME\": \"Devonshire\", \"TIME_OCC\": 1230, \"Crm_Cd\": 341, \"Crm_Cd_Desc\": \"THEFT-GRAND ($950.01 & OVER)EXCPT,GUNS,FOWL,LIVESTK,PROD\", \"Vict_Age\": 39, \"Vict_Sex\": \"F\", \"Vict_Descent\": \"W\"}, {\"Unnamed:_0\": 126924, \"AREA_NAME\": \"Hollywood\", \"TIME_OCC\": 1400, \"Crm_Cd\": 624, \"Crm_Cd_Desc\": \"BATTERY - SIMPLE ASSAULT\", \"Vict_Age\": 60, \"Vict_Sex\": \"M\", \"Vict_Descent\": \"W\"}, {\"Unnamed:_0\": 58465, \"AREA_NAME\": \"West Valley\", \"TIME_OCC\": 2200, \"Crm_Cd\": 740, \"Crm_Cd_Desc\": \"VANDALISM - FELONY ($400 & OVER, ALL CHURCH VANDALISMS)\", \"Vict_Age\": 50, \"Vict_Sex\": \"M\", \"Vict_Descent\": \"W\"}, {\"Unnamed:_0\": 45120, \"AREA_NAME\": \"77th Street\", \"TIME_OCC\": 1000, \"Crm_Cd\": 236, \"Crm_Cd_Desc\": \"INTIMATE PARTNER - AGGRAVATED ASSAULT\", \"Vict_Age\": 21, \"Vict_Sex\": \"F\", \"Vict_Descent\": \"B\"}, {\"Unnamed:_0\": 140086, \"AREA_NAME\": \"77th Street\", \"TIME_OCC\": 1915, \"Crm_Cd\": 330, \"Crm_Cd_Desc\": \"BURGLARY FROM VEHICLE\", \"Vict_Age\": 65, \"Vict_Sex\": \"F\", \"Vict_Descent\": \"B\"}, {\"Unnamed:_0\": 242551, \"AREA_NAME\": \"Olympic\", \"TIME_OCC\": 1600, \"Crm_Cd\": 440, \"Crm_Cd_Desc\": \"THEFT PLAIN - PETTY ($950 & UNDER)\", \"Vict_Age\": 42, \"Vict_Sex\": \"M\", \"Vict_Descent\": \"A\"}, {\"Unnamed:_0\": 113036, \"AREA_NAME\": \"77th Street\", \"TIME_OCC\": 1005, \"Crm_Cd\": 625, \"Crm_Cd_Desc\": \"OTHER ASSAULT\", \"Vict_Age\": 44, \"Vict_Sex\": \"F\", \"Vict_Descent\": \"B\"}, {\"Unnamed:_0\": 27099, \"AREA_NAME\": \"Newton\", \"TIME_OCC\": 1700, \"Crm_Cd\": 230, \"Crm_Cd_Desc\": \"ASSAULT WITH DEADLY WEAPON, AGGRAVATED ASSAULT\", \"Vict_Age\": 47, \"Vict_Sex\": \"M\", \"Vict_Descent\": \"H\"}, {\"Unnamed:_0\": 138232, \"AREA_NAME\": \"Devonshire\", \"TIME_OCC\": 515, \"Crm_Cd\": 330, \"Crm_Cd_Desc\": \"BURGLARY FROM VEHICLE\", \"Vict_Age\": 45, \"Vict_Sex\": \"M\", \"Vict_Descent\": \"O\"}, {\"Unnamed:_0\": 162327, \"AREA_NAME\": \"Van Nuys\", \"TIME_OCC\": 1320, \"Crm_Cd\": 442, \"Crm_Cd_Desc\": \"SHOPLIFTING - PETTY THEFT ($950 & UNDER)\", \"Vict_Age\": 41, \"Vict_Sex\": \"M\", \"Vict_Descent\": \"H\"}, {\"Unnamed:_0\": 91824, \"AREA_NAME\": \"Central\", \"TIME_OCC\": 1415, \"Crm_Cd\": 740, \"Crm_Cd_Desc\": \"VANDALISM - FELONY ($400 & OVER, ALL CHURCH VANDALISMS)\", \"Vict_Age\": 46, \"Vict_Sex\": \"F\", \"Vict_Descent\": \"H\"}, {\"Unnamed:_0\": 70428, \"AREA_NAME\": \"Newton\", \"TIME_OCC\": 145, \"Crm_Cd\": 626, \"Crm_Cd_Desc\": \"INTIMATE PARTNER - SIMPLE ASSAULT\", \"Vict_Age\": 21, \"Vict_Sex\": \"F\", \"Vict_Descent\": \"H\"}, {\"Unnamed:_0\": 273097, \"AREA_NAME\": \"Topanga\", \"TIME_OCC\": 1635, \"Crm_Cd\": 442, \"Crm_Cd_Desc\": \"SHOPLIFTING - PETTY THEFT ($950 & UNDER)\", \"Vict_Age\": 30, \"Vict_Sex\": \"M\", \"Vict_Descent\": \"X\"}, {\"Unnamed:_0\": 140416, \"AREA_NAME\": \"Mission\", \"TIME_OCC\": 1530, \"Crm_Cd\": 310, \"Crm_Cd_Desc\": \"BURGLARY\", \"Vict_Age\": 28, \"Vict_Sex\": \"F\", \"Vict_Descent\": \"B\"}, {\"Unnamed:_0\": 197634, \"AREA_NAME\": \"Topanga\", \"TIME_OCC\": 1500, \"Crm_Cd\": 310, \"Crm_Cd_Desc\": \"BURGLARY\", \"Vict_Age\": 67, \"Vict_Sex\": \"M\", \"Vict_Descent\": \"B\"}, {\"Unnamed:_0\": 267292, \"AREA_NAME\": \"West LA\", \"TIME_OCC\": 1000, \"Crm_Cd\": 331, \"Crm_Cd_Desc\": \"THEFT FROM MOTOR VEHICLE - GRAND ($400 AND OVER)\", \"Vict_Age\": 26, \"Vict_Sex\": \"M\", \"Vict_Descent\": \"W\"}, {\"Unnamed:_0\": 196300, \"AREA_NAME\": \"Central\", \"TIME_OCC\": 1500, \"Crm_Cd\": 624, \"Crm_Cd_Desc\": \"BATTERY - SIMPLE ASSAULT\", \"Vict_Age\": 23, \"Vict_Sex\": \"F\", \"Vict_Descent\": \"W\"}, {\"Unnamed:_0\": 31242, \"AREA_NAME\": \"Van Nuys\", \"TIME_OCC\": 1605, \"Crm_Cd\": 442, \"Crm_Cd_Desc\": \"SHOPLIFTING - PETTY THEFT ($950 & UNDER)\", \"Vict_Age\": 24, \"Vict_Sex\": \"M\", \"Vict_Descent\": \"H\"}, {\"Unnamed:_0\": 186233, \"AREA_NAME\": \"West LA\", \"TIME_OCC\": 1020, \"Crm_Cd\": 440, \"Crm_Cd_Desc\": \"THEFT PLAIN - PETTY ($950 & UNDER)\", \"Vict_Age\": 39, \"Vict_Sex\": \"M\", \"Vict_Descent\": \"W\"}, {\"Unnamed:_0\": 179075, \"AREA_NAME\": \"77th Street\", \"TIME_OCC\": 2330, \"Crm_Cd\": 626, \"Crm_Cd_Desc\": \"INTIMATE PARTNER - SIMPLE ASSAULT\", \"Vict_Age\": 39, \"Vict_Sex\": \"F\", \"Vict_Descent\": \"B\"}, {\"Unnamed:_0\": 154788, \"AREA_NAME\": \"Devonshire\", \"TIME_OCC\": 2000, \"Crm_Cd\": 812, \"Crm_Cd_Desc\": \"CRM AGNST CHLD (13 OR UNDER) (14-15 & SUSP 10 YRS OLDER)\", \"Vict_Age\": 5, \"Vict_Sex\": \"F\", \"Vict_Descent\": \"V\"}, {\"Unnamed:_0\": 54282, \"AREA_NAME\": \"Newton\", \"TIME_OCC\": 2330, \"Crm_Cd\": 230, \"Crm_Cd_Desc\": \"ASSAULT WITH DEADLY WEAPON, AGGRAVATED ASSAULT\", \"Vict_Age\": 34, \"Vict_Sex\": \"M\", \"Vict_Descent\": \"B\"}, {\"Unnamed:_0\": 69263, \"AREA_NAME\": \"Northeast\", \"TIME_OCC\": 1000, \"Crm_Cd\": 420, \"Crm_Cd_Desc\": \"THEFT FROM MOTOR VEHICLE - PETTY ($950 & UNDER)\", \"Vict_Age\": 27, \"Vict_Sex\": \"F\", \"Vict_Descent\": \"H\"}, {\"Unnamed:_0\": 263639, \"AREA_NAME\": \"Pacific\", \"TIME_OCC\": 1200, \"Crm_Cd\": 354, \"Crm_Cd_Desc\": \"THEFT OF IDENTITY\", \"Vict_Age\": 54, \"Vict_Sex\": \"M\", \"Vict_Descent\": \"W\"}, {\"Unnamed:_0\": 249667, \"AREA_NAME\": \"Southeast\", \"TIME_OCC\": 1000, \"Crm_Cd\": 236, \"Crm_Cd_Desc\": \"INTIMATE PARTNER - AGGRAVATED ASSAULT\", \"Vict_Age\": 23, \"Vict_Sex\": \"F\", \"Vict_Descent\": \"B\"}, {\"Unnamed:_0\": 232184, \"AREA_NAME\": \"Mission\", \"TIME_OCC\": 2244, \"Crm_Cd\": 442, \"Crm_Cd_Desc\": \"SHOPLIFTING - PETTY THEFT ($950 & UNDER)\", \"Vict_Age\": 18, \"Vict_Sex\": \"M\", \"Vict_Descent\": \"H\"}, {\"Unnamed:_0\": 96999, \"AREA_NAME\": \"Mission\", \"TIME_OCC\": 2130, \"Crm_Cd\": 812, \"Crm_Cd_Desc\": \"CRM AGNST CHLD (13 OR UNDER) (14-15 & SUSP 10 YRS OLDER)\", \"Vict_Age\": 10, \"Vict_Sex\": \"F\", \"Vict_Descent\": \"H\"}, {\"Unnamed:_0\": 242128, \"AREA_NAME\": \"Southeast\", \"TIME_OCC\": 150, \"Crm_Cd\": 230, \"Crm_Cd_Desc\": \"ASSAULT WITH DEADLY WEAPON, AGGRAVATED ASSAULT\", \"Vict_Age\": 31, \"Vict_Sex\": \"M\", \"Vict_Descent\": \"H\"}, {\"Unnamed:_0\": 192289, \"AREA_NAME\": \"Central\", \"TIME_OCC\": 1730, \"Crm_Cd\": 624, \"Crm_Cd_Desc\": \"BATTERY - SIMPLE ASSAULT\", \"Vict_Age\": 58, \"Vict_Sex\": \"F\", \"Vict_Descent\": \"B\"}, {\"Unnamed:_0\": 140477, \"AREA_NAME\": \"Pacific\", \"TIME_OCC\": 1330, \"Crm_Cd\": 310, \"Crm_Cd_Desc\": \"BURGLARY\", \"Vict_Age\": 72, \"Vict_Sex\": \"F\", \"Vict_Descent\": \"O\"}, {\"Unnamed:_0\": 138936, \"AREA_NAME\": \"Northeast\", \"TIME_OCC\": 715, \"Crm_Cd\": 440, \"Crm_Cd_Desc\": \"THEFT PLAIN - PETTY ($950 & UNDER)\", \"Vict_Age\": 20, \"Vict_Sex\": \"M\", \"Vict_Descent\": \"W\"}, {\"Unnamed:_0\": 205626, \"AREA_NAME\": \"Wilshire\", \"TIME_OCC\": 1900, \"Crm_Cd\": 740, \"Crm_Cd_Desc\": \"VANDALISM - FELONY ($400 & OVER, ALL CHURCH VANDALISMS)\", \"Vict_Age\": 25, \"Vict_Sex\": \"F\", \"Vict_Descent\": \"W\"}, {\"Unnamed:_0\": 240275, \"AREA_NAME\": \"Harbor\", \"TIME_OCC\": 2135, \"Crm_Cd\": 230, \"Crm_Cd_Desc\": \"ASSAULT WITH DEADLY WEAPON, AGGRAVATED ASSAULT\", \"Vict_Age\": 28, \"Vict_Sex\": \"M\", \"Vict_Descent\": \"B\"}, {\"Unnamed:_0\": 245592, \"AREA_NAME\": \"Rampart\", \"TIME_OCC\": 30, \"Crm_Cd\": 330, \"Crm_Cd_Desc\": \"BURGLARY FROM VEHICLE\", \"Vict_Age\": 29, \"Vict_Sex\": \"F\", \"Vict_Descent\": \"W\"}, {\"Unnamed:_0\": 174412, \"AREA_NAME\": \"77th Street\", \"TIME_OCC\": 1200, \"Crm_Cd\": 922, \"Crm_Cd_Desc\": \"CHILD STEALING\", \"Vict_Age\": 43, \"Vict_Sex\": \"F\", \"Vict_Descent\": \"B\"}, {\"Unnamed:_0\": 145418, \"AREA_NAME\": \"Devonshire\", \"TIME_OCC\": 1900, \"Crm_Cd\": 626, \"Crm_Cd_Desc\": \"INTIMATE PARTNER - SIMPLE ASSAULT\", \"Vict_Age\": 30, \"Vict_Sex\": \"F\", \"Vict_Descent\": \"W\"}, {\"Unnamed:_0\": 103677, \"AREA_NAME\": \"Van Nuys\", \"TIME_OCC\": 1800, \"Crm_Cd\": 740, \"Crm_Cd_Desc\": \"VANDALISM - FELONY ($400 & OVER, ALL CHURCH VANDALISMS)\", \"Vict_Age\": 30, \"Vict_Sex\": \"F\", \"Vict_Descent\": \"W\"}, {\"Unnamed:_0\": 271161, \"AREA_NAME\": \"N Hollywood\", \"TIME_OCC\": 2100, \"Crm_Cd\": 310, \"Crm_Cd_Desc\": \"BURGLARY\", \"Vict_Age\": 59, \"Vict_Sex\": \"F\", \"Vict_Descent\": \"W\"}, {\"Unnamed:_0\": 171812, \"AREA_NAME\": \"Southeast\", \"TIME_OCC\": 1845, \"Crm_Cd\": 230, \"Crm_Cd_Desc\": \"ASSAULT WITH DEADLY WEAPON, AGGRAVATED ASSAULT\", \"Vict_Age\": 29, \"Vict_Sex\": \"F\", \"Vict_Descent\": \"B\"}, {\"Unnamed:_0\": 20647, \"AREA_NAME\": \"Foothill\", \"TIME_OCC\": 1930, \"Crm_Cd\": 745, \"Crm_Cd_Desc\": \"VANDALISM - MISDEAMEANOR ($399 OR UNDER)\", \"Vict_Age\": 65, \"Vict_Sex\": \"F\", \"Vict_Descent\": \"B\"}, {\"Unnamed:_0\": 255164, \"AREA_NAME\": \"Hollywood\", \"TIME_OCC\": 1730, \"Crm_Cd\": 331, \"Crm_Cd_Desc\": \"THEFT FROM MOTOR VEHICLE - GRAND ($400 AND OVER)\", \"Vict_Age\": 26, \"Vict_Sex\": \"M\", \"Vict_Descent\": \"W\"}, {\"Unnamed:_0\": 211315, \"AREA_NAME\": \"Southwest\", \"TIME_OCC\": 2000, \"Crm_Cd\": 480, \"Crm_Cd_Desc\": \"BIKE - STOLEN\", \"Vict_Age\": 77, \"Vict_Sex\": \"M\", \"Vict_Descent\": \"B\"}, {\"Unnamed:_0\": 16482, \"AREA_NAME\": \"Devonshire\", \"TIME_OCC\": 2241, \"Crm_Cd\": 624, \"Crm_Cd_Desc\": \"BATTERY - SIMPLE ASSAULT\", \"Vict_Age\": 34, \"Vict_Sex\": \"M\", \"Vict_Descent\": \"W\"}, {\"Unnamed:_0\": 25557, \"AREA_NAME\": \"Foothill\", \"TIME_OCC\": 800, \"Crm_Cd\": 354, \"Crm_Cd_Desc\": \"THEFT OF IDENTITY\", \"Vict_Age\": 63, \"Vict_Sex\": \"M\", \"Vict_Descent\": \"A\"}, {\"Unnamed:_0\": 144926, \"AREA_NAME\": \"Central\", \"TIME_OCC\": 1700, \"Crm_Cd\": 341, \"Crm_Cd_Desc\": \"THEFT-GRAND ($950.01 & OVER)EXCPT,GUNS,FOWL,LIVESTK,PROD\", \"Vict_Age\": 29, \"Vict_Sex\": \"F\", \"Vict_Descent\": \"H\"}, {\"Unnamed:_0\": 187628, \"AREA_NAME\": \"West LA\", \"TIME_OCC\": 1730, \"Crm_Cd\": 330, \"Crm_Cd_Desc\": \"BURGLARY FROM VEHICLE\", \"Vict_Age\": 59, \"Vict_Sex\": \"F\", \"Vict_Descent\": \"W\"}, {\"Unnamed:_0\": 99954, \"AREA_NAME\": \"Southwest\", \"TIME_OCC\": 1230, \"Crm_Cd\": 440, \"Crm_Cd_Desc\": \"THEFT PLAIN - PETTY ($950 & UNDER)\", \"Vict_Age\": 21, \"Vict_Sex\": \"M\", \"Vict_Descent\": \"H\"}, {\"Unnamed:_0\": 163624, \"AREA_NAME\": \"Harbor\", \"TIME_OCC\": 1, \"Crm_Cd\": 310, \"Crm_Cd_Desc\": \"BURGLARY\", \"Vict_Age\": 37, \"Vict_Sex\": \"F\", \"Vict_Descent\": \"H\"}, {\"Unnamed:_0\": 8031, \"AREA_NAME\": \"Van Nuys\", \"TIME_OCC\": 620, \"Crm_Cd\": 626, \"Crm_Cd_Desc\": \"INTIMATE PARTNER - SIMPLE ASSAULT\", \"Vict_Age\": 24, \"Vict_Sex\": \"F\", \"Vict_Descent\": \"H\"}, {\"Unnamed:_0\": 130345, \"AREA_NAME\": \"Hollywood\", \"TIME_OCC\": 900, \"Crm_Cd\": 354, \"Crm_Cd_Desc\": \"THEFT OF IDENTITY\", \"Vict_Age\": 36, \"Vict_Sex\": \"F\", \"Vict_Descent\": \"O\"}, {\"Unnamed:_0\": 104627, \"AREA_NAME\": \"West LA\", \"TIME_OCC\": 1100, \"Crm_Cd\": 354, \"Crm_Cd_Desc\": \"THEFT OF IDENTITY\", \"Vict_Age\": 42, \"Vict_Sex\": \"F\", \"Vict_Descent\": \"W\"}, {\"Unnamed:_0\": 5237, \"AREA_NAME\": \"Hollywood\", \"TIME_OCC\": 1740, \"Crm_Cd\": 626, \"Crm_Cd_Desc\": \"INTIMATE PARTNER - SIMPLE ASSAULT\", \"Vict_Age\": 51, \"Vict_Sex\": \"M\", \"Vict_Descent\": \"H\"}, {\"Unnamed:_0\": 72667, \"AREA_NAME\": \"N Hollywood\", \"TIME_OCC\": 800, \"Crm_Cd\": 331, \"Crm_Cd_Desc\": \"THEFT FROM MOTOR VEHICLE - GRAND ($400 AND OVER)\", \"Vict_Age\": 62, \"Vict_Sex\": \"M\", \"Vict_Descent\": \"W\"}, {\"Unnamed:_0\": 151496, \"AREA_NAME\": \"Central\", \"TIME_OCC\": 2200, \"Crm_Cd\": 624, \"Crm_Cd_Desc\": \"BATTERY - SIMPLE ASSAULT\", \"Vict_Age\": 65, \"Vict_Sex\": \"M\", \"Vict_Descent\": \"W\"}, {\"Unnamed:_0\": 205467, \"AREA_NAME\": \"Hollenbeck\", \"TIME_OCC\": 1730, \"Crm_Cd\": 740, \"Crm_Cd_Desc\": \"VANDALISM - FELONY ($400 & OVER, ALL CHURCH VANDALISMS)\", \"Vict_Age\": 30, \"Vict_Sex\": \"F\", \"Vict_Descent\": \"H\"}, {\"Unnamed:_0\": 159862, \"AREA_NAME\": \"Central\", \"TIME_OCC\": 1639, \"Crm_Cd\": 330, \"Crm_Cd_Desc\": \"BURGLARY FROM VEHICLE\", \"Vict_Age\": 36, \"Vict_Sex\": \"F\", \"Vict_Descent\": \"B\"}, {\"Unnamed:_0\": 182198, \"AREA_NAME\": \"Newton\", \"TIME_OCC\": 300, \"Crm_Cd\": 626, \"Crm_Cd_Desc\": \"INTIMATE PARTNER - SIMPLE ASSAULT\", \"Vict_Age\": 27, \"Vict_Sex\": \"F\", \"Vict_Descent\": \"H\"}, {\"Unnamed:_0\": 204590, \"AREA_NAME\": \"Pacific\", \"TIME_OCC\": 1800, \"Crm_Cd\": 341, \"Crm_Cd_Desc\": \"THEFT-GRAND ($950.01 & OVER)EXCPT,GUNS,FOWL,LIVESTK,PROD\", \"Vict_Age\": 56, \"Vict_Sex\": \"F\", \"Vict_Descent\": \"W\"}]}}, {\"mode\": \"vega-lite\"});\n",
       "</script>"
      ],
      "text/plain": [
       "alt.Chart(...)"
      ]
     },
     "execution_count": 8,
     "metadata": {},
     "output_type": "execute_result"
    }
   ],
   "source": [
    "#creating a sample plot \n",
    "import altair as alt\n",
    "\n",
    "sample_for_plotting = crime_data.sample(150)\n",
    "\n",
    "time_vs_age = alt.Chart(sample_for_plotting, title= \"Age of Victim versus time of Crime\").mark_point(opacity=0.5).encode(\n",
    "    x=alt.X(\"TIME_OCC\").title(\"Time Crime Occurred, in military hours\").scale(zero=False),\n",
    "    y=alt.Y(\"Vict_Age\").title(\"Age of Victim, in years\").scale(zero=False),\n",
    "    shape=alt.Shape(\"Vict_Sex\").title(\"Sex of Victim (male or female\"),\n",
    "    color=alt.Color(\"Vict_Descent\").title(\"Victim Descent (ethnicity)\")\n",
    ")\n",
    "time_vs_age"
   ]
  },
  {
   "cell_type": "markdown",
   "id": "113b8858-9496-452c-ad2d-95c778c2a0cf",
   "metadata": {},
   "source": [
    "#### **Methods**\n",
    "\n",
    "**Explain how you will conduct either your data analysis and which variables/columns you will use.**\n",
    "\n",
    "\n",
    "We will be utilizing victim-related variables like age and time of the crime to predict what forms of crime may occur. This will formulate a basis for us to explore patterns of crime in the area, and to analyze whether these respective attributes lead to an increased likelihood of crimes occurring. We will also be incorporating the time a crime occurred to specify which times of day crimes tend to occur.\n",
    "To conduct our analysis, we will be selecting a number of columns that provide a comprehensive overview of LA’s crime. The columns that we will use include: \n",
    "\n",
    "* “AREA NAME”: Area in which the crime occurred\n",
    "* “TIME OCC”: Time of day in which crime occurred.\n",
    "* “Crm Cd”: The crime code associated with the incident.\n",
    "* “Crm Cd Desc”: The description of a crime.\n",
    "* “Vict Age”: The age of the victim.\n",
    "* “Vict Sex”: Gender of the victim assigned at birth.\n",
    "* “Vict Descent”: The ethnicity of the victim.\n"
   ]
  },
  {
   "cell_type": "markdown",
   "id": "26058440-bb7f-4645-b7bf-f517b24f6cbf",
   "metadata": {},
   "source": [
    "**Describe at least one way that you will visualize the results**\n",
    "\n",
    "The results can be visualized using a bar graph where we have subplots \n",
    "for each ethnicity (using the facet function). Each type of crime would\n",
    "be present along the x-axis, and their respective frequencies of crime would \n",
    "be illustrated on the y-axis. The gender of victims can be depicted using different \n",
    "colors on the bars. A bar graph would be best integrated into our analysis, as we could \n",
    "draw comparisons between the frequencies of forms of crime within various ethnic groups. \n"
   ]
  },
  {
   "cell_type": "markdown",
   "id": "4e5836d4-ef95-427c-a411-3a8cb51ae195",
   "metadata": {},
   "source": [
    "#### **Expected Outcomes and Significance**\n",
    "\n",
    "**What do you expect to find?**\n",
    "\n",
    "It is difficult to decipher what crime-type will be predicted given the victim-related variables by simply viewing the dataset since the data set is very extensive. We do expect to find a higher crime rate at night (when it is dark), and the victims to skew female. We also believe the victims at night will most likely be younger since younger people tend to go out more at night. It is expected that the victims during the day will be older. \n",
    "\n",
    "**What impact could such findings have?**\n",
    "\n",
    "An impact the findings could have is deterring people from living in certain neighborhoods because of higher crime rates (certain on or general). It can also help with awareness of crimes during certain times of the day or to warn victims that fit a profile to be more careful in these areas (age, time of day, gender). \n",
    "\n",
    "**What future questions could this lead to?**\n",
    "\n",
    "Do neighborhoods that skew younger have a tendency to exhibit certain crime types?\n",
    "At which times of the day, do more violent forms of crime typically occur?\n",
    "Are certain ethnic groups statistically more susceptible to being victims of these crimes?\n"
   ]
  },
  {
   "cell_type": "code",
   "execution_count": null,
   "id": "b096366b-cf9c-4847-8900-5558a1092a0c",
   "metadata": {},
   "outputs": [],
   "source": []
  },
  {
   "cell_type": "code",
   "execution_count": null,
   "id": "bd7820f3-8bc4-451d-adaa-b19b107ae143",
   "metadata": {},
   "outputs": [],
   "source": []
  }
 ],
 "metadata": {
  "kernelspec": {
   "display_name": "Python 3 (ipykernel)",
   "language": "python",
   "name": "python3"
  },
  "language_info": {
   "codemirror_mode": {
    "name": "ipython",
    "version": 3
   },
   "file_extension": ".py",
   "mimetype": "text/x-python",
   "name": "python",
   "nbconvert_exporter": "python",
   "pygments_lexer": "ipython3",
   "version": "3.10.8"
  }
 },
 "nbformat": 4,
 "nbformat_minor": 5
}
