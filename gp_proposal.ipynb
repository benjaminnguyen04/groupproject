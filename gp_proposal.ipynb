{
 "cells": [
  {
   "cell_type": "markdown",
   "id": "d424319e-757e-4f56-a3b9-364681888e70",
   "metadata": {},
   "source": [
    "## Group 9 Project Proposal"
   ]
  },
  {
   "cell_type": "markdown",
   "id": "37a931cd-ba17-46fd-95ae-da81f4ca6efd",
   "metadata": {
    "tags": []
   },
   "source": [
    "#### Predicting Crime Type in the Greater LA Region \n",
    "A deep-dive into the types of crime occurring in LA neighborhoods, and using victim characteristics to predict crime type\n"
   ]
  },
  {
   "cell_type": "markdown",
   "id": "63bad948-0e49-4755-a865-0b86b921bb15",
   "metadata": {},
   "source": [
    "#### **Introduction**\n",
    "\n",
    "If you have ever been to Los Angeles, you may know that the region is grappling with increasing crime. The metropolitan area has seen a steady rise in property crime, for individuals of all ages. Crimes are no longer occurring solely at night, daytime crimes are also on the rise. Investigating recent crime data is crucial in determining potential trends and  to help create safer neighborhoods in the future. We have retrieved this data straight from the LAPD to use for analysis. \n",
    "\n",
    "In this analysis, we pose the question: **What crime type is more likely to occur to a victim of a certain age at a certain time?** By understanding the trends between victim traits and the crimes committed to them, we can better warn citizens and keep LA neighborhoods safe. "
   ]
  },
  {
   "cell_type": "markdown",
   "id": "b5fffe83-e178-4b4d-978d-ddf8e7b463de",
   "metadata": {},
   "source": [
    "#### **Preliminary exploratory data analysis**\n",
    "\n",
    "**Demonstrate that the dataset can be read from the web into Python**\n",
    "**Clean and wrangle your data into a tidy format**\n",
    "\n",
    "Using only training data, summarize the data in at least one table (this is exploratory data analysis).\n",
    "An example of a useful table could be one that reports the number of observations in each class, \n",
    "the means of the predictor variables you plan to use in your analysis and how many rows have missing data. \n",
    "Using only training data, visualize the data with at least one plot relevant to the analysis you plan to do\n",
    "(this is exploratory data analysis). An example of a useful visualization could be one that compares the \n",
    "distributions of each of the predictor variables you plan to use in your analysis.\n"
   ]
  },
  {
   "cell_type": "code",
   "execution_count": 45,
   "id": "5a273456-2ae7-45cf-93e3-3d6bbf1a9e07",
   "metadata": {
    "tags": []
   },
   "outputs": [
    {
     "data": {
      "text/html": [
       "<div>\n",
       "<style scoped>\n",
       "    .dataframe tbody tr th:only-of-type {\n",
       "        vertical-align: middle;\n",
       "    }\n",
       "\n",
       "    .dataframe tbody tr th {\n",
       "        vertical-align: top;\n",
       "    }\n",
       "\n",
       "    .dataframe thead th {\n",
       "        text-align: right;\n",
       "    }\n",
       "</style>\n",
       "<table border=\"1\" class=\"dataframe\">\n",
       "  <thead>\n",
       "    <tr style=\"text-align: right;\">\n",
       "      <th></th>\n",
       "      <th>Unnamed:_0</th>\n",
       "      <th>AREA_NAME</th>\n",
       "      <th>TIME_OCC</th>\n",
       "      <th>Crm_Cd</th>\n",
       "      <th>Crm_Cd_Desc</th>\n",
       "      <th>Vict_Age</th>\n",
       "      <th>Vict_Sex</th>\n",
       "      <th>Vict_Descent</th>\n",
       "    </tr>\n",
       "  </thead>\n",
       "  <tbody>\n",
       "    <tr>\n",
       "      <th>0</th>\n",
       "      <td>0</td>\n",
       "      <td>Southwest</td>\n",
       "      <td>2230</td>\n",
       "      <td>624</td>\n",
       "      <td>BATTERY - SIMPLE ASSAULT</td>\n",
       "      <td>36</td>\n",
       "      <td>F</td>\n",
       "      <td>B</td>\n",
       "    </tr>\n",
       "    <tr>\n",
       "      <th>1</th>\n",
       "      <td>1</td>\n",
       "      <td>Central</td>\n",
       "      <td>330</td>\n",
       "      <td>624</td>\n",
       "      <td>BATTERY - SIMPLE ASSAULT</td>\n",
       "      <td>25</td>\n",
       "      <td>M</td>\n",
       "      <td>H</td>\n",
       "    </tr>\n",
       "    <tr>\n",
       "      <th>2</th>\n",
       "      <td>2</td>\n",
       "      <td>77th Street</td>\n",
       "      <td>1230</td>\n",
       "      <td>745</td>\n",
       "      <td>VANDALISM - MISDEAMEANOR ($399 OR UNDER)</td>\n",
       "      <td>62</td>\n",
       "      <td>M</td>\n",
       "      <td>B</td>\n",
       "    </tr>\n",
       "    <tr>\n",
       "      <th>3</th>\n",
       "      <td>3</td>\n",
       "      <td>N Hollywood</td>\n",
       "      <td>1730</td>\n",
       "      <td>745</td>\n",
       "      <td>VANDALISM - MISDEAMEANOR ($399 OR UNDER)</td>\n",
       "      <td>76</td>\n",
       "      <td>F</td>\n",
       "      <td>W</td>\n",
       "    </tr>\n",
       "    <tr>\n",
       "      <th>5</th>\n",
       "      <td>5</td>\n",
       "      <td>Central</td>\n",
       "      <td>30</td>\n",
       "      <td>121</td>\n",
       "      <td>RAPE, FORCIBLE</td>\n",
       "      <td>25</td>\n",
       "      <td>F</td>\n",
       "      <td>H</td>\n",
       "    </tr>\n",
       "    <tr>\n",
       "      <th>...</th>\n",
       "      <td>...</td>\n",
       "      <td>...</td>\n",
       "      <td>...</td>\n",
       "      <td>...</td>\n",
       "      <td>...</td>\n",
       "      <td>...</td>\n",
       "      <td>...</td>\n",
       "      <td>...</td>\n",
       "    </tr>\n",
       "    <tr>\n",
       "      <th>276574</th>\n",
       "      <td>276574</td>\n",
       "      <td>Hollywood</td>\n",
       "      <td>813</td>\n",
       "      <td>624</td>\n",
       "      <td>BATTERY - SIMPLE ASSAULT</td>\n",
       "      <td>33</td>\n",
       "      <td>M</td>\n",
       "      <td>B</td>\n",
       "    </tr>\n",
       "    <tr>\n",
       "      <th>276575</th>\n",
       "      <td>276575</td>\n",
       "      <td>Rampart</td>\n",
       "      <td>1730</td>\n",
       "      <td>662</td>\n",
       "      <td>BUNCO, GRAND THEFT</td>\n",
       "      <td>39</td>\n",
       "      <td>M</td>\n",
       "      <td>W</td>\n",
       "    </tr>\n",
       "    <tr>\n",
       "      <th>276576</th>\n",
       "      <td>276576</td>\n",
       "      <td>West Valley</td>\n",
       "      <td>900</td>\n",
       "      <td>354</td>\n",
       "      <td>THEFT OF IDENTITY</td>\n",
       "      <td>38</td>\n",
       "      <td>M</td>\n",
       "      <td>H</td>\n",
       "    </tr>\n",
       "    <tr>\n",
       "      <th>276580</th>\n",
       "      <td>276580</td>\n",
       "      <td>Olympic</td>\n",
       "      <td>1930</td>\n",
       "      <td>888</td>\n",
       "      <td>TRESPASSING</td>\n",
       "      <td>29</td>\n",
       "      <td>M</td>\n",
       "      <td>H</td>\n",
       "    </tr>\n",
       "    <tr>\n",
       "      <th>276582</th>\n",
       "      <td>276582</td>\n",
       "      <td>Harbor</td>\n",
       "      <td>2210</td>\n",
       "      <td>434</td>\n",
       "      <td>FALSE IMPRISONMENT</td>\n",
       "      <td>41</td>\n",
       "      <td>F</td>\n",
       "      <td>B</td>\n",
       "    </tr>\n",
       "  </tbody>\n",
       "</table>\n",
       "<p>206525 rows × 8 columns</p>\n",
       "</div>"
      ],
      "text/plain": [
       "        Unnamed:_0    AREA_NAME  TIME_OCC  Crm_Cd  \\\n",
       "0                0    Southwest      2230     624   \n",
       "1                1      Central       330     624   \n",
       "2                2  77th Street      1230     745   \n",
       "3                3  N Hollywood      1730     745   \n",
       "5                5      Central        30     121   \n",
       "...            ...          ...       ...     ...   \n",
       "276574      276574    Hollywood       813     624   \n",
       "276575      276575      Rampart      1730     662   \n",
       "276576      276576  West Valley       900     354   \n",
       "276580      276580      Olympic      1930     888   \n",
       "276582      276582       Harbor      2210     434   \n",
       "\n",
       "                                     Crm_Cd_Desc  Vict_Age Vict_Sex  \\\n",
       "0                       BATTERY - SIMPLE ASSAULT        36        F   \n",
       "1                       BATTERY - SIMPLE ASSAULT        25        M   \n",
       "2       VANDALISM - MISDEAMEANOR ($399 OR UNDER)        62        M   \n",
       "3       VANDALISM - MISDEAMEANOR ($399 OR UNDER)        76        F   \n",
       "5                                 RAPE, FORCIBLE        25        F   \n",
       "...                                          ...       ...      ...   \n",
       "276574                  BATTERY - SIMPLE ASSAULT        33        M   \n",
       "276575                        BUNCO, GRAND THEFT        39        M   \n",
       "276576                         THEFT OF IDENTITY        38        M   \n",
       "276580                               TRESPASSING        29        M   \n",
       "276582                        FALSE IMPRISONMENT        41        F   \n",
       "\n",
       "       Vict_Descent  \n",
       "0                 B  \n",
       "1                 H  \n",
       "2                 B  \n",
       "3                 W  \n",
       "5                 H  \n",
       "...             ...  \n",
       "276574            B  \n",
       "276575            W  \n",
       "276576            H  \n",
       "276580            H  \n",
       "276582            B  \n",
       "\n",
       "[206525 rows x 8 columns]"
      ]
     },
     "execution_count": 45,
     "metadata": {},
     "output_type": "execute_result"
    }
   ],
   "source": [
    "import pandas as pd\n",
    "\n",
    "\n",
    "#loading the data from github (already tidy since we dropped the columns we do not need to make the file smaller)\n",
    "url = \"https://raw.githubusercontent.com/emmaw20/toy_ds_project/main/sample_crime_data.csv?token=GHSAT0AAAAAACJX4VM2AFZUCQJK5Q2CNDUEZKC2G4Q\" \n",
    "\n",
    "crime_data = pd.read_csv(url)\n",
    "\n",
    "#replacing spaces with \"_\" \n",
    "crime_data.columns = crime_data.columns.str.replace(' ', '_')\n",
    "\n",
    "\n",
    "crime_data = crime_data.drop_duplicates()\n",
    "crime_data = crime_data.dropna()\n",
    "crime_data = crime_data[crime_data[\"Vict_Age\"] != 0]\n",
    "crime_data = crime_data[crime_data[\"Vict_Sex\"] != \"X\"]\n",
    "crime_data = crime_data[crime_data[\"Vict_Sex\"] != \"H\"]\n",
    " \n",
    "crime_data"
   ]
  },
  {
   "cell_type": "code",
   "execution_count": 46,
   "id": "d4698883-6997-488b-9c56-7ed4682b808b",
   "metadata": {
    "tags": []
   },
   "outputs": [],
   "source": [
    "#creating training and testing data \n",
    "from sklearn.model_selection import train_test_split\n",
    "\n",
    "#dividing the data into training and test set \n",
    "crime_train, crime_test = train_test_split(\n",
    "    crime_data, train_size=0.75\n",
    ")\n"
   ]
  },
  {
   "cell_type": "code",
   "execution_count": 47,
   "id": "4e16ab5c-143a-4fb8-b273-f9053ef93b96",
   "metadata": {
    "tags": []
   },
   "outputs": [],
   "source": [
    "X_train = crime_train[[\"TIME_OCC\"]]\n",
    "y_train = crime_train[\"Vict_Age\"]\n",
    "\n",
    "X_test = crime_test[[\"TIME_OCC\"]]\n",
    "y_test = crime_test[\"Vict_Age\"]"
   ]
  },
  {
   "cell_type": "code",
   "execution_count": 48,
   "id": "ba160bba-e45e-4809-96fd-b7a71e6a0079",
   "metadata": {
    "tags": []
   },
   "outputs": [
    {
     "data": {
      "text/plain": [
       "M    81336\n",
       "F    73557\n",
       "Name: Vict_Sex, dtype: int64"
      ]
     },
     "execution_count": 48,
     "metadata": {},
     "output_type": "execute_result"
    }
   ],
   "source": [
    "#exploratory data analysis with the training data\n",
    "crime_train[\"Vict_Sex\"].value_counts()                                    "
   ]
  },
  {
   "cell_type": "code",
   "execution_count": 49,
   "id": "d234f7d0-913e-4c75-a665-bca5223605e3",
   "metadata": {
    "tags": []
   },
   "outputs": [
    {
     "data": {
      "text/plain": [
       "77th Street    10372\n",
       "Central         9325\n",
       "Pacific         8867\n",
       "Southwest       8786\n",
       "Southeast       8337\n",
       "Hollywood       7986\n",
       "Wilshire        7958\n",
       "N Hollywood     7843\n",
       "West LA         7721\n",
       "Olympic         7304\n",
       "Van Nuys        7244\n",
       "Topanga         7210\n",
       "Newton          6886\n",
       "Rampart         6870\n",
       "Mission         6606\n",
       "Harbor          6469\n",
       "Northeast       6302\n",
       "West Valley     6035\n",
       "Devonshire      5725\n",
       "Hollenbeck      5531\n",
       "Foothill        5516\n",
       "Name: AREA_NAME, dtype: int64"
      ]
     },
     "execution_count": 49,
     "metadata": {},
     "output_type": "execute_result"
    }
   ],
   "source": [
    "crime_train[\"AREA_NAME\"].value_counts() "
   ]
  },
  {
   "cell_type": "code",
   "execution_count": 60,
   "id": "93e1a94c-0e38-43c5-b3ca-607b1690f101",
   "metadata": {
    "tags": []
   },
   "outputs": [
    {
     "data": {
      "text/plain": [
       "DOCUMENT WORTHLESS ($200 & UNDER)                           3\n",
       "PURSE SNATCHING - ATTEMPT                                   3\n",
       "DISHONEST EMPLOYEE - PETTY THEFT                            3\n",
       "MANSLAUGHTER, NEGLIGENT                                     3\n",
       "REPLICA FIREARMS(SALE,DISPLAY,MANUFACTURE OR DISTRIBUTE)    3\n",
       "BIKE - ATTEMPTED STOLEN                                     2\n",
       "INCEST (SEXUAL ACTS BETWEEN BLOOD RELATIVES)                2\n",
       "CHILD ABANDONMENT                                           2\n",
       "PICKPOCKET, ATTEMPT                                         2\n",
       "THEFT, COIN MACHINE - ATTEMPT                               2\n",
       "DRUGS, TO A MINOR                                           1\n",
       "FIREARMS RESTRAINING ORDER (FIREARMS RO)                    1\n",
       "WEAPONS POSSESSION/BOMBING                                  1\n",
       "THEFT, COIN MACHINE - GRAND ($950.01 & OVER)                1\n",
       "LYNCHING                                                    1\n",
       "FIREARMS EMERGENCY PROTECTIVE ORDER (FIREARMS EPO)          1\n",
       "TILL TAP - PETTY ($950 & UNDER)                             1\n",
       "THEFT, COIN MACHINE - PETTY ($950 & UNDER)                  1\n",
       "PETTY THEFT - AUTO REPAIR                                   1\n",
       "LYNCHING - ATTEMPTED                                        1\n",
       "Name: Crm_Cd_Desc, dtype: int64"
      ]
     },
     "execution_count": 60,
     "metadata": {},
     "output_type": "execute_result"
    }
   ],
   "source": [
    "crime_desc = crime_train[\"Crm_Cd_Desc\"].value_counts(ascending=False) \n",
    "crime_desc.tail(20)"
   ]
  },
  {
   "cell_type": "code",
   "execution_count": 51,
   "id": "935e4685-0131-4ca7-8862-655abe81e493",
   "metadata": {
    "tags": []
   },
   "outputs": [
    {
     "data": {
      "text/plain": [
       " 30    4780\n",
       " 29    4566\n",
       " 35    4488\n",
       " 28    4462\n",
       " 31    4426\n",
       "       ... \n",
       " 93      20\n",
       " 98      18\n",
       " 96      16\n",
       " 97      13\n",
       "-1        1\n",
       "Name: Vict_Age, Length: 99, dtype: int64"
      ]
     },
     "execution_count": 51,
     "metadata": {},
     "output_type": "execute_result"
    }
   ],
   "source": [
    "crime_train[\"Vict_Age\"].value_counts(ascending=False) "
   ]
  },
  {
   "cell_type": "code",
   "execution_count": 58,
   "id": "ced77fa4-f38d-4a5d-817b-3ebd8789cef8",
   "metadata": {
    "tags": []
   },
   "outputs": [
    {
     "data": {
      "text/html": [
       "\n",
       "<div id=\"altair-viz-674290b0fff240cda4972ea503052e06\"></div>\n",
       "<script type=\"text/javascript\">\n",
       "  var VEGA_DEBUG = (typeof VEGA_DEBUG == \"undefined\") ? {} : VEGA_DEBUG;\n",
       "  (function(spec, embedOpt){\n",
       "    let outputDiv = document.currentScript.previousElementSibling;\n",
       "    if (outputDiv.id !== \"altair-viz-674290b0fff240cda4972ea503052e06\") {\n",
       "      outputDiv = document.getElementById(\"altair-viz-674290b0fff240cda4972ea503052e06\");\n",
       "    }\n",
       "    const paths = {\n",
       "      \"vega\": \"https://cdn.jsdelivr.net/npm//vega@5?noext\",\n",
       "      \"vega-lib\": \"https://cdn.jsdelivr.net/npm//vega-lib?noext\",\n",
       "      \"vega-lite\": \"https://cdn.jsdelivr.net/npm//vega-lite@4.17.0?noext\",\n",
       "      \"vega-embed\": \"https://cdn.jsdelivr.net/npm//vega-embed@6?noext\",\n",
       "    };\n",
       "\n",
       "    function maybeLoadScript(lib, version) {\n",
       "      var key = `${lib.replace(\"-\", \"\")}_version`;\n",
       "      return (VEGA_DEBUG[key] == version) ?\n",
       "        Promise.resolve(paths[lib]) :\n",
       "        new Promise(function(resolve, reject) {\n",
       "          var s = document.createElement('script');\n",
       "          document.getElementsByTagName(\"head\")[0].appendChild(s);\n",
       "          s.async = true;\n",
       "          s.onload = () => {\n",
       "            VEGA_DEBUG[key] = version;\n",
       "            return resolve(paths[lib]);\n",
       "          };\n",
       "          s.onerror = () => reject(`Error loading script: ${paths[lib]}`);\n",
       "          s.src = paths[lib];\n",
       "        });\n",
       "    }\n",
       "\n",
       "    function showError(err) {\n",
       "      outputDiv.innerHTML = `<div class=\"error\" style=\"color:red;\">${err}</div>`;\n",
       "      throw err;\n",
       "    }\n",
       "\n",
       "    function displayChart(vegaEmbed) {\n",
       "      vegaEmbed(outputDiv, spec, embedOpt)\n",
       "        .catch(err => showError(`Javascript Error: ${err.message}<br>This usually means there's a typo in your chart specification. See the javascript console for the full traceback.`));\n",
       "    }\n",
       "\n",
       "    if(typeof define === \"function\" && define.amd) {\n",
       "      requirejs.config({paths});\n",
       "      require([\"vega-embed\"], displayChart, err => showError(`Error loading script: ${err.message}`));\n",
       "    } else {\n",
       "      maybeLoadScript(\"vega\", \"5\")\n",
       "        .then(() => maybeLoadScript(\"vega-lite\", \"4.17.0\"))\n",
       "        .then(() => maybeLoadScript(\"vega-embed\", \"6\"))\n",
       "        .catch(showError)\n",
       "        .then(() => displayChart(vegaEmbed));\n",
       "    }\n",
       "  })({\"config\": {\"view\": {\"continuousWidth\": 400, \"continuousHeight\": 300}}, \"data\": {\"name\": \"data-2238b5b993e55943f73bcee36b6f853b\"}, \"mark\": {\"type\": \"point\", \"opacity\": 0.5}, \"encoding\": {\"color\": {\"field\": \"Vict_Descent\", \"title\": \"Victim Descent (ethnicity)\", \"type\": \"nominal\"}, \"shape\": {\"field\": \"Vict_Sex\", \"title\": \"Sex of Victim (male or female)\", \"type\": \"nominal\"}, \"x\": {\"field\": \"TIME_OCC\", \"title\": \"Time Crime Occurred, in military hours\", \"type\": \"temporal\"}, \"y\": {\"field\": \"Vict_Age\", \"title\": \"Age of Victim, in years\", \"type\": \"quantitative\"}}, \"title\": \"Age of Victim versus Time of Crime\", \"$schema\": \"https://vega.github.io/schema/vega-lite/v4.17.0.json\", \"datasets\": {\"data-2238b5b993e55943f73bcee36b6f853b\": [{\"Unnamed:_0\": 121091, \"AREA_NAME\": \"Central\", \"TIME_OCC\": 2230, \"Crm_Cd\": 626, \"Crm_Cd_Desc\": \"INTIMATE PARTNER - SIMPLE ASSAULT\", \"Vict_Age\": 54, \"Vict_Sex\": \"F\", \"Vict_Descent\": \"H\"}, {\"Unnamed:_0\": 243833, \"AREA_NAME\": \"Wilshire\", \"TIME_OCC\": 1000, \"Crm_Cd\": 330, \"Crm_Cd_Desc\": \"BURGLARY FROM VEHICLE\", \"Vict_Age\": 25, \"Vict_Sex\": \"F\", \"Vict_Descent\": \"W\"}, {\"Unnamed:_0\": 127204, \"AREA_NAME\": \"77th Street\", \"TIME_OCC\": 45, \"Crm_Cd\": 230, \"Crm_Cd_Desc\": \"ASSAULT WITH DEADLY WEAPON, AGGRAVATED ASSAULT\", \"Vict_Age\": 24, \"Vict_Sex\": \"F\", \"Vict_Descent\": \"B\"}, {\"Unnamed:_0\": 140449, \"AREA_NAME\": \"Mission\", \"TIME_OCC\": 1730, \"Crm_Cd\": 624, \"Crm_Cd_Desc\": \"BATTERY - SIMPLE ASSAULT\", \"Vict_Age\": 19, \"Vict_Sex\": \"F\", \"Vict_Descent\": \"H\"}, {\"Unnamed:_0\": 54256, \"AREA_NAME\": \"N Hollywood\", \"TIME_OCC\": 1715, \"Crm_Cd\": 310, \"Crm_Cd_Desc\": \"BURGLARY\", \"Vict_Age\": 38, \"Vict_Sex\": \"M\", \"Vict_Descent\": \"X\"}, {\"Unnamed:_0\": 156789, \"AREA_NAME\": \"Topanga\", \"TIME_OCC\": 1900, \"Crm_Cd\": 330, \"Crm_Cd_Desc\": \"BURGLARY FROM VEHICLE\", \"Vict_Age\": 35, \"Vict_Sex\": \"F\", \"Vict_Descent\": \"H\"}, {\"Unnamed:_0\": 110551, \"AREA_NAME\": \"Pacific\", \"TIME_OCC\": 15, \"Crm_Cd\": 350, \"Crm_Cd_Desc\": \"THEFT, PERSON\", \"Vict_Age\": 24, \"Vict_Sex\": \"M\", \"Vict_Descent\": \"O\"}, {\"Unnamed:_0\": 36755, \"AREA_NAME\": \"Topanga\", \"TIME_OCC\": 800, \"Crm_Cd\": 236, \"Crm_Cd_Desc\": \"INTIMATE PARTNER - AGGRAVATED ASSAULT\", \"Vict_Age\": 41, \"Vict_Sex\": \"F\", \"Vict_Descent\": \"O\"}, {\"Unnamed:_0\": 93647, \"AREA_NAME\": \"West Valley\", \"TIME_OCC\": 25, \"Crm_Cd\": 230, \"Crm_Cd_Desc\": \"ASSAULT WITH DEADLY WEAPON, AGGRAVATED ASSAULT\", \"Vict_Age\": 36, \"Vict_Sex\": \"M\", \"Vict_Descent\": \"H\"}, {\"Unnamed:_0\": 21538, \"AREA_NAME\": \"Northeast\", \"TIME_OCC\": 2330, \"Crm_Cd\": 480, \"Crm_Cd_Desc\": \"BIKE - STOLEN\", \"Vict_Age\": 60, \"Vict_Sex\": \"F\", \"Vict_Descent\": \"B\"}, {\"Unnamed:_0\": 113863, \"AREA_NAME\": \"77th Street\", \"TIME_OCC\": 1630, \"Crm_Cd\": 210, \"Crm_Cd_Desc\": \"ROBBERY\", \"Vict_Age\": 38, \"Vict_Sex\": \"F\", \"Vict_Descent\": \"B\"}, {\"Unnamed:_0\": 2459, \"AREA_NAME\": \"Southwest\", \"TIME_OCC\": 2310, \"Crm_Cd\": 930, \"Crm_Cd_Desc\": \"CRIMINAL THREATS - NO WEAPON DISPLAYED\", \"Vict_Age\": 28, \"Vict_Sex\": \"F\", \"Vict_Descent\": \"B\"}, {\"Unnamed:_0\": 204282, \"AREA_NAME\": \"West Valley\", \"TIME_OCC\": 1840, \"Crm_Cd\": 624, \"Crm_Cd_Desc\": \"BATTERY - SIMPLE ASSAULT\", \"Vict_Age\": 26, \"Vict_Sex\": \"M\", \"Vict_Descent\": \"H\"}, {\"Unnamed:_0\": 60627, \"AREA_NAME\": \"Topanga\", \"TIME_OCC\": 1730, \"Crm_Cd\": 310, \"Crm_Cd_Desc\": \"BURGLARY\", \"Vict_Age\": 40, \"Vict_Sex\": \"F\", \"Vict_Descent\": \"A\"}, {\"Unnamed:_0\": 251410, \"AREA_NAME\": \"Southeast\", \"TIME_OCC\": 700, \"Crm_Cd\": 420, \"Crm_Cd_Desc\": \"THEFT FROM MOTOR VEHICLE - PETTY ($950 & UNDER)\", \"Vict_Age\": 36, \"Vict_Sex\": \"F\", \"Vict_Descent\": \"W\"}, {\"Unnamed:_0\": 260358, \"AREA_NAME\": \"Olympic\", \"TIME_OCC\": 1700, \"Crm_Cd\": 940, \"Crm_Cd_Desc\": \"EXTORTION\", \"Vict_Age\": 51, \"Vict_Sex\": \"M\", \"Vict_Descent\": \"O\"}, {\"Unnamed:_0\": 101250, \"AREA_NAME\": \"Foothill\", \"TIME_OCC\": 2000, \"Crm_Cd\": 330, \"Crm_Cd_Desc\": \"BURGLARY FROM VEHICLE\", \"Vict_Age\": 53, \"Vict_Sex\": \"F\", \"Vict_Descent\": \"O\"}, {\"Unnamed:_0\": 69372, \"AREA_NAME\": \"Topanga\", \"TIME_OCC\": 200, \"Crm_Cd\": 440, \"Crm_Cd_Desc\": \"THEFT PLAIN - PETTY ($950 & UNDER)\", \"Vict_Age\": 36, \"Vict_Sex\": \"M\", \"Vict_Descent\": \"X\"}, {\"Unnamed:_0\": 84608, \"AREA_NAME\": \"Wilshire\", \"TIME_OCC\": 1805, \"Crm_Cd\": 624, \"Crm_Cd_Desc\": \"BATTERY - SIMPLE ASSAULT\", \"Vict_Age\": 27, \"Vict_Sex\": \"F\", \"Vict_Descent\": \"W\"}, {\"Unnamed:_0\": 204154, \"AREA_NAME\": \"Mission\", \"TIME_OCC\": 1515, \"Crm_Cd\": 930, \"Crm_Cd_Desc\": \"CRIMINAL THREATS - NO WEAPON DISPLAYED\", \"Vict_Age\": 31, \"Vict_Sex\": \"F\", \"Vict_Descent\": \"H\"}, {\"Unnamed:_0\": 171434, \"AREA_NAME\": \"Northeast\", \"TIME_OCC\": 1136, \"Crm_Cd\": 440, \"Crm_Cd_Desc\": \"THEFT PLAIN - PETTY ($950 & UNDER)\", \"Vict_Age\": 41, \"Vict_Sex\": \"F\", \"Vict_Descent\": \"A\"}, {\"Unnamed:_0\": 164528, \"AREA_NAME\": \"Northeast\", \"TIME_OCC\": 1820, \"Crm_Cd\": 624, \"Crm_Cd_Desc\": \"BATTERY - SIMPLE ASSAULT\", \"Vict_Age\": 29, \"Vict_Sex\": \"M\", \"Vict_Descent\": \"H\"}, {\"Unnamed:_0\": 10338, \"AREA_NAME\": \"Northeast\", \"TIME_OCC\": 1800, \"Crm_Cd\": 740, \"Crm_Cd_Desc\": \"VANDALISM - FELONY ($400 & OVER, ALL CHURCH VANDALISMS)\", \"Vict_Age\": 38, \"Vict_Sex\": \"M\", \"Vict_Descent\": \"W\"}, {\"Unnamed:_0\": 169552, \"AREA_NAME\": \"Topanga\", \"TIME_OCC\": 1500, \"Crm_Cd\": 662, \"Crm_Cd_Desc\": \"BUNCO, GRAND THEFT\", \"Vict_Age\": 35, \"Vict_Sex\": \"M\", \"Vict_Descent\": \"B\"}, {\"Unnamed:_0\": 210269, \"AREA_NAME\": \"Rampart\", \"TIME_OCC\": 1420, \"Crm_Cd\": 624, \"Crm_Cd_Desc\": \"BATTERY - SIMPLE ASSAULT\", \"Vict_Age\": 60, \"Vict_Sex\": \"F\", \"Vict_Descent\": \"B\"}, {\"Unnamed:_0\": 218806, \"AREA_NAME\": \"Newton\", \"TIME_OCC\": 100, \"Crm_Cd\": 110, \"Crm_Cd_Desc\": \"CRIMINAL HOMICIDE\", \"Vict_Age\": 57, \"Vict_Sex\": \"M\", \"Vict_Descent\": \"H\"}, {\"Unnamed:_0\": 229210, \"AREA_NAME\": \"Van Nuys\", \"TIME_OCC\": 2155, \"Crm_Cd\": 354, \"Crm_Cd_Desc\": \"THEFT OF IDENTITY\", \"Vict_Age\": 31, \"Vict_Sex\": \"M\", \"Vict_Descent\": \"B\"}, {\"Unnamed:_0\": 276472, \"AREA_NAME\": \"N Hollywood\", \"TIME_OCC\": 130, \"Crm_Cd\": 624, \"Crm_Cd_Desc\": \"BATTERY - SIMPLE ASSAULT\", \"Vict_Age\": 26, \"Vict_Sex\": \"M\", \"Vict_Descent\": \"H\"}, {\"Unnamed:_0\": 142866, \"AREA_NAME\": \"Hollenbeck\", \"TIME_OCC\": 500, \"Crm_Cd\": 626, \"Crm_Cd_Desc\": \"INTIMATE PARTNER - SIMPLE ASSAULT\", \"Vict_Age\": 27, \"Vict_Sex\": \"F\", \"Vict_Descent\": \"H\"}, {\"Unnamed:_0\": 80060, \"AREA_NAME\": \"Southwest\", \"TIME_OCC\": 1620, \"Crm_Cd\": 745, \"Crm_Cd_Desc\": \"VANDALISM - MISDEAMEANOR ($399 OR UNDER)\", \"Vict_Age\": 64, \"Vict_Sex\": \"M\", \"Vict_Descent\": \"B\"}, {\"Unnamed:_0\": 212201, \"AREA_NAME\": \"Pacific\", \"TIME_OCC\": 1800, \"Crm_Cd\": 310, \"Crm_Cd_Desc\": \"BURGLARY\", \"Vict_Age\": 58, \"Vict_Sex\": \"M\", \"Vict_Descent\": \"W\"}, {\"Unnamed:_0\": 15148, \"AREA_NAME\": \"Foothill\", \"TIME_OCC\": 1800, \"Crm_Cd\": 626, \"Crm_Cd_Desc\": \"INTIMATE PARTNER - SIMPLE ASSAULT\", \"Vict_Age\": 41, \"Vict_Sex\": \"F\", \"Vict_Descent\": \"H\"}, {\"Unnamed:_0\": 264910, \"AREA_NAME\": \"Olympic\", \"TIME_OCC\": 1500, \"Crm_Cd\": 330, \"Crm_Cd_Desc\": \"BURGLARY FROM VEHICLE\", \"Vict_Age\": 25, \"Vict_Sex\": \"F\", \"Vict_Descent\": \"W\"}, {\"Unnamed:_0\": 70767, \"AREA_NAME\": \"Central\", \"TIME_OCC\": 1530, \"Crm_Cd\": 330, \"Crm_Cd_Desc\": \"BURGLARY FROM VEHICLE\", \"Vict_Age\": 31, \"Vict_Sex\": \"F\", \"Vict_Descent\": \"O\"}, {\"Unnamed:_0\": 24656, \"AREA_NAME\": \"N Hollywood\", \"TIME_OCC\": 1200, \"Crm_Cd\": 330, \"Crm_Cd_Desc\": \"BURGLARY FROM VEHICLE\", \"Vict_Age\": 48, \"Vict_Sex\": \"F\", \"Vict_Descent\": \"O\"}, {\"Unnamed:_0\": 255649, \"AREA_NAME\": \"Rampart\", \"TIME_OCC\": 835, \"Crm_Cd\": 330, \"Crm_Cd_Desc\": \"BURGLARY FROM VEHICLE\", \"Vict_Age\": 27, \"Vict_Sex\": \"F\", \"Vict_Descent\": \"W\"}, {\"Unnamed:_0\": 194768, \"AREA_NAME\": \"West LA\", \"TIME_OCC\": 1258, \"Crm_Cd\": 440, \"Crm_Cd_Desc\": \"THEFT PLAIN - PETTY ($950 & UNDER)\", \"Vict_Age\": 40, \"Vict_Sex\": \"F\", \"Vict_Descent\": \"W\"}, {\"Unnamed:_0\": 259101, \"AREA_NAME\": \"Van Nuys\", \"TIME_OCC\": 1025, \"Crm_Cd\": 624, \"Crm_Cd_Desc\": \"BATTERY - SIMPLE ASSAULT\", \"Vict_Age\": 38, \"Vict_Sex\": \"M\", \"Vict_Descent\": \"W\"}, {\"Unnamed:_0\": 67883, \"AREA_NAME\": \"Hollywood\", \"TIME_OCC\": 1735, \"Crm_Cd\": 354, \"Crm_Cd_Desc\": \"THEFT OF IDENTITY\", \"Vict_Age\": 66, \"Vict_Sex\": \"F\", \"Vict_Descent\": \"W\"}, {\"Unnamed:_0\": 184883, \"AREA_NAME\": \"Pacific\", \"TIME_OCC\": 1400, \"Crm_Cd\": 330, \"Crm_Cd_Desc\": \"BURGLARY FROM VEHICLE\", \"Vict_Age\": 27, \"Vict_Sex\": \"F\", \"Vict_Descent\": \"W\"}, {\"Unnamed:_0\": 215731, \"AREA_NAME\": \"Topanga\", \"TIME_OCC\": 1800, \"Crm_Cd\": 310, \"Crm_Cd_Desc\": \"BURGLARY\", \"Vict_Age\": 68, \"Vict_Sex\": \"F\", \"Vict_Descent\": \"W\"}, {\"Unnamed:_0\": 155311, \"AREA_NAME\": \"Northeast\", \"TIME_OCC\": 1200, \"Crm_Cd\": 820, \"Crm_Cd_Desc\": \"ORAL COPULATION\", \"Vict_Age\": 14, \"Vict_Sex\": \"F\", \"Vict_Descent\": \"H\"}, {\"Unnamed:_0\": 197685, \"AREA_NAME\": \"Wilshire\", \"TIME_OCC\": 840, \"Crm_Cd\": 230, \"Crm_Cd_Desc\": \"ASSAULT WITH DEADLY WEAPON, AGGRAVATED ASSAULT\", \"Vict_Age\": 59, \"Vict_Sex\": \"M\", \"Vict_Descent\": \"O\"}, {\"Unnamed:_0\": 149070, \"AREA_NAME\": \"Southeast\", \"TIME_OCC\": 230, \"Crm_Cd\": 626, \"Crm_Cd_Desc\": \"INTIMATE PARTNER - SIMPLE ASSAULT\", \"Vict_Age\": 49, \"Vict_Sex\": \"F\", \"Vict_Descent\": \"B\"}, {\"Unnamed:_0\": 6586, \"AREA_NAME\": \"Wilshire\", \"TIME_OCC\": 1615, \"Crm_Cd\": 626, \"Crm_Cd_Desc\": \"INTIMATE PARTNER - SIMPLE ASSAULT\", \"Vict_Age\": 25, \"Vict_Sex\": \"M\", \"Vict_Descent\": \"H\"}, {\"Unnamed:_0\": 120121, \"AREA_NAME\": \"Hollywood\", \"TIME_OCC\": 1408, \"Crm_Cd\": 440, \"Crm_Cd_Desc\": \"THEFT PLAIN - PETTY ($950 & UNDER)\", \"Vict_Age\": 36, \"Vict_Sex\": \"M\", \"Vict_Descent\": \"O\"}, {\"Unnamed:_0\": 21018, \"AREA_NAME\": \"Southeast\", \"TIME_OCC\": 1145, \"Crm_Cd\": 626, \"Crm_Cd_Desc\": \"INTIMATE PARTNER - SIMPLE ASSAULT\", \"Vict_Age\": 34, \"Vict_Sex\": \"F\", \"Vict_Descent\": \"H\"}, {\"Unnamed:_0\": 263529, \"AREA_NAME\": \"Harbor\", \"TIME_OCC\": 1100, \"Crm_Cd\": 310, \"Crm_Cd_Desc\": \"BURGLARY\", \"Vict_Age\": 51, \"Vict_Sex\": \"M\", \"Vict_Descent\": \"B\"}, {\"Unnamed:_0\": 100747, \"AREA_NAME\": \"West LA\", \"TIME_OCC\": 1200, \"Crm_Cd\": 310, \"Crm_Cd_Desc\": \"BURGLARY\", \"Vict_Age\": 80, \"Vict_Sex\": \"M\", \"Vict_Descent\": \"W\"}, {\"Unnamed:_0\": 249130, \"AREA_NAME\": \"West LA\", \"TIME_OCC\": 2000, \"Crm_Cd\": 440, \"Crm_Cd_Desc\": \"THEFT PLAIN - PETTY ($950 & UNDER)\", \"Vict_Age\": 30, \"Vict_Sex\": \"M\", \"Vict_Descent\": \"W\"}, {\"Unnamed:_0\": 195756, \"AREA_NAME\": \"Harbor\", \"TIME_OCC\": 1745, \"Crm_Cd\": 900, \"Crm_Cd_Desc\": \"VIOLATION OF COURT ORDER\", \"Vict_Age\": 35, \"Vict_Sex\": \"M\", \"Vict_Descent\": \"H\"}, {\"Unnamed:_0\": 123676, \"AREA_NAME\": \"Hollywood\", \"TIME_OCC\": 2200, \"Crm_Cd\": 440, \"Crm_Cd_Desc\": \"THEFT PLAIN - PETTY ($950 & UNDER)\", \"Vict_Age\": 41, \"Vict_Sex\": \"F\", \"Vict_Descent\": \"H\"}, {\"Unnamed:_0\": 205397, \"AREA_NAME\": \"Southwest\", \"TIME_OCC\": 1000, \"Crm_Cd\": 626, \"Crm_Cd_Desc\": \"INTIMATE PARTNER - SIMPLE ASSAULT\", \"Vict_Age\": 27, \"Vict_Sex\": \"M\", \"Vict_Descent\": \"B\"}, {\"Unnamed:_0\": 13208, \"AREA_NAME\": \"Pacific\", \"TIME_OCC\": 944, \"Crm_Cd\": 662, \"Crm_Cd_Desc\": \"BUNCO, GRAND THEFT\", \"Vict_Age\": 27, \"Vict_Sex\": \"F\", \"Vict_Descent\": \"W\"}, {\"Unnamed:_0\": 55728, \"AREA_NAME\": \"77th Street\", \"TIME_OCC\": 2355, \"Crm_Cd\": 330, \"Crm_Cd_Desc\": \"BURGLARY FROM VEHICLE\", \"Vict_Age\": 53, \"Vict_Sex\": \"F\", \"Vict_Descent\": \"H\"}, {\"Unnamed:_0\": 49355, \"AREA_NAME\": \"Newton\", \"TIME_OCC\": 1015, \"Crm_Cd\": 626, \"Crm_Cd_Desc\": \"INTIMATE PARTNER - SIMPLE ASSAULT\", \"Vict_Age\": 47, \"Vict_Sex\": \"F\", \"Vict_Descent\": \"B\"}, {\"Unnamed:_0\": 159394, \"AREA_NAME\": \"Hollywood\", \"TIME_OCC\": 45, \"Crm_Cd\": 230, \"Crm_Cd_Desc\": \"ASSAULT WITH DEADLY WEAPON, AGGRAVATED ASSAULT\", \"Vict_Age\": 22, \"Vict_Sex\": \"M\", \"Vict_Descent\": \"W\"}, {\"Unnamed:_0\": 122673, \"AREA_NAME\": \"Harbor\", \"TIME_OCC\": 1900, \"Crm_Cd\": 230, \"Crm_Cd_Desc\": \"ASSAULT WITH DEADLY WEAPON, AGGRAVATED ASSAULT\", \"Vict_Age\": 39, \"Vict_Sex\": \"F\", \"Vict_Descent\": \"H\"}, {\"Unnamed:_0\": 28779, \"AREA_NAME\": \"Van Nuys\", \"TIME_OCC\": 1510, \"Crm_Cd\": 210, \"Crm_Cd_Desc\": \"ROBBERY\", \"Vict_Age\": 26, \"Vict_Sex\": \"M\", \"Vict_Descent\": \"H\"}, {\"Unnamed:_0\": 166736, \"AREA_NAME\": \"Newton\", \"TIME_OCC\": 1245, \"Crm_Cd\": 901, \"Crm_Cd_Desc\": \"VIOLATION OF RESTRAINING ORDER\", \"Vict_Age\": 28, \"Vict_Sex\": \"F\", \"Vict_Descent\": \"H\"}, {\"Unnamed:_0\": 22884, \"AREA_NAME\": \"Topanga\", \"TIME_OCC\": 1800, \"Crm_Cd\": 310, \"Crm_Cd_Desc\": \"BURGLARY\", \"Vict_Age\": 56, \"Vict_Sex\": \"F\", \"Vict_Descent\": \"H\"}, {\"Unnamed:_0\": 255644, \"AREA_NAME\": \"77th Street\", \"TIME_OCC\": 1612, \"Crm_Cd\": 230, \"Crm_Cd_Desc\": \"ASSAULT WITH DEADLY WEAPON, AGGRAVATED ASSAULT\", \"Vict_Age\": 23, \"Vict_Sex\": \"M\", \"Vict_Descent\": \"B\"}, {\"Unnamed:_0\": 263484, \"AREA_NAME\": \"West Valley\", \"TIME_OCC\": 1700, \"Crm_Cd\": 440, \"Crm_Cd_Desc\": \"THEFT PLAIN - PETTY ($950 & UNDER)\", \"Vict_Age\": 20, \"Vict_Sex\": \"M\", \"Vict_Descent\": \"A\"}, {\"Unnamed:_0\": 42529, \"AREA_NAME\": \"Southeast\", \"TIME_OCC\": 1000, \"Crm_Cd\": 901, \"Crm_Cd_Desc\": \"VIOLATION OF RESTRAINING ORDER\", \"Vict_Age\": 52, \"Vict_Sex\": \"F\", \"Vict_Descent\": \"H\"}, {\"Unnamed:_0\": 36227, \"AREA_NAME\": \"Central\", \"TIME_OCC\": 1950, \"Crm_Cd\": 745, \"Crm_Cd_Desc\": \"VANDALISM - MISDEAMEANOR ($399 OR UNDER)\", \"Vict_Age\": 25, \"Vict_Sex\": \"M\", \"Vict_Descent\": \"W\"}, {\"Unnamed:_0\": 102832, \"AREA_NAME\": \"West LA\", \"TIME_OCC\": 1330, \"Crm_Cd\": 354, \"Crm_Cd_Desc\": \"THEFT OF IDENTITY\", \"Vict_Age\": 74, \"Vict_Sex\": \"F\", \"Vict_Descent\": \"W\"}, {\"Unnamed:_0\": 57840, \"AREA_NAME\": \"Mission\", \"TIME_OCC\": 2100, \"Crm_Cd\": 745, \"Crm_Cd_Desc\": \"VANDALISM - MISDEAMEANOR ($399 OR UNDER)\", \"Vict_Age\": 54, \"Vict_Sex\": \"F\", \"Vict_Descent\": \"H\"}, {\"Unnamed:_0\": 179163, \"AREA_NAME\": \"Northeast\", \"TIME_OCC\": 1014, \"Crm_Cd\": 901, \"Crm_Cd_Desc\": \"VIOLATION OF RESTRAINING ORDER\", \"Vict_Age\": 33, \"Vict_Sex\": \"F\", \"Vict_Descent\": \"W\"}, {\"Unnamed:_0\": 262622, \"AREA_NAME\": \"Topanga\", \"TIME_OCC\": 615, \"Crm_Cd\": 330, \"Crm_Cd_Desc\": \"BURGLARY FROM VEHICLE\", \"Vict_Age\": 39, \"Vict_Sex\": \"F\", \"Vict_Descent\": \"O\"}, {\"Unnamed:_0\": 245357, \"AREA_NAME\": \"Olympic\", \"TIME_OCC\": 1550, \"Crm_Cd\": 626, \"Crm_Cd_Desc\": \"INTIMATE PARTNER - SIMPLE ASSAULT\", \"Vict_Age\": 32, \"Vict_Sex\": \"M\", \"Vict_Descent\": \"H\"}, {\"Unnamed:_0\": 181999, \"AREA_NAME\": \"Newton\", \"TIME_OCC\": 1730, \"Crm_Cd\": 740, \"Crm_Cd_Desc\": \"VANDALISM - FELONY ($400 & OVER, ALL CHURCH VANDALISMS)\", \"Vict_Age\": 26, \"Vict_Sex\": \"F\", \"Vict_Descent\": \"B\"}, {\"Unnamed:_0\": 125209, \"AREA_NAME\": \"Southwest\", \"TIME_OCC\": 1930, \"Crm_Cd\": 236, \"Crm_Cd_Desc\": \"INTIMATE PARTNER - AGGRAVATED ASSAULT\", \"Vict_Age\": 34, \"Vict_Sex\": \"M\", \"Vict_Descent\": \"B\"}, {\"Unnamed:_0\": 69025, \"AREA_NAME\": \"77th Street\", \"TIME_OCC\": 450, \"Crm_Cd\": 903, \"Crm_Cd_Desc\": \"CONTEMPT OF COURT\", \"Vict_Age\": 59, \"Vict_Sex\": \"F\", \"Vict_Descent\": \"B\"}, {\"Unnamed:_0\": 243681, \"AREA_NAME\": \"Hollenbeck\", \"TIME_OCC\": 1248, \"Crm_Cd\": 354, \"Crm_Cd_Desc\": \"THEFT OF IDENTITY\", \"Vict_Age\": 40, \"Vict_Sex\": \"M\", \"Vict_Descent\": \"H\"}, {\"Unnamed:_0\": 261331, \"AREA_NAME\": \"Foothill\", \"TIME_OCC\": 1200, \"Crm_Cd\": 331, \"Crm_Cd_Desc\": \"THEFT FROM MOTOR VEHICLE - GRAND ($400 AND OVER)\", \"Vict_Age\": 30, \"Vict_Sex\": \"M\", \"Vict_Descent\": \"H\"}, {\"Unnamed:_0\": 38946, \"AREA_NAME\": \"Mission\", \"TIME_OCC\": 1500, \"Crm_Cd\": 354, \"Crm_Cd_Desc\": \"THEFT OF IDENTITY\", \"Vict_Age\": 35, \"Vict_Sex\": \"M\", \"Vict_Descent\": \"B\"}, {\"Unnamed:_0\": 81404, \"AREA_NAME\": \"77th Street\", \"TIME_OCC\": 2359, \"Crm_Cd\": 110, \"Crm_Cd_Desc\": \"CRIMINAL HOMICIDE\", \"Vict_Age\": 52, \"Vict_Sex\": \"M\", \"Vict_Descent\": \"B\"}, {\"Unnamed:_0\": 90633, \"AREA_NAME\": \"West Valley\", \"TIME_OCC\": 2358, \"Crm_Cd\": 310, \"Crm_Cd_Desc\": \"BURGLARY\", \"Vict_Age\": 38, \"Vict_Sex\": \"F\", \"Vict_Descent\": \"W\"}, {\"Unnamed:_0\": 160596, \"AREA_NAME\": \"Hollywood\", \"TIME_OCC\": 2000, \"Crm_Cd\": 330, \"Crm_Cd_Desc\": \"BURGLARY FROM VEHICLE\", \"Vict_Age\": 67, \"Vict_Sex\": \"F\", \"Vict_Descent\": \"W\"}, {\"Unnamed:_0\": 248722, \"AREA_NAME\": \"Wilshire\", \"TIME_OCC\": 830, \"Crm_Cd\": 230, \"Crm_Cd_Desc\": \"ASSAULT WITH DEADLY WEAPON, AGGRAVATED ASSAULT\", \"Vict_Age\": 57, \"Vict_Sex\": \"F\", \"Vict_Descent\": \"H\"}, {\"Unnamed:_0\": 55274, \"AREA_NAME\": \"Olympic\", \"TIME_OCC\": 1800, \"Crm_Cd\": 330, \"Crm_Cd_Desc\": \"BURGLARY FROM VEHICLE\", \"Vict_Age\": 42, \"Vict_Sex\": \"M\", \"Vict_Descent\": \"H\"}, {\"Unnamed:_0\": 181655, \"AREA_NAME\": \"West Valley\", \"TIME_OCC\": 1800, \"Crm_Cd\": 813, \"Crm_Cd_Desc\": \"CHILD ANNOYING (17YRS & UNDER)\", \"Vict_Age\": 15, \"Vict_Sex\": \"F\", \"Vict_Descent\": \"H\"}, {\"Unnamed:_0\": 261080, \"AREA_NAME\": \"Van Nuys\", \"TIME_OCC\": 100, \"Crm_Cd\": 350, \"Crm_Cd_Desc\": \"THEFT, PERSON\", \"Vict_Age\": 54, \"Vict_Sex\": \"M\", \"Vict_Descent\": \"W\"}, {\"Unnamed:_0\": 56782, \"AREA_NAME\": \"Harbor\", \"TIME_OCC\": 1, \"Crm_Cd\": 230, \"Crm_Cd_Desc\": \"ASSAULT WITH DEADLY WEAPON, AGGRAVATED ASSAULT\", \"Vict_Age\": 31, \"Vict_Sex\": \"F\", \"Vict_Descent\": \"H\"}, {\"Unnamed:_0\": 128221, \"AREA_NAME\": \"Olympic\", \"TIME_OCC\": 1800, \"Crm_Cd\": 860, \"Crm_Cd_Desc\": \"BATTERY WITH SEXUAL CONTACT\", \"Vict_Age\": 32, \"Vict_Sex\": \"F\", \"Vict_Descent\": \"W\"}, {\"Unnamed:_0\": 822, \"AREA_NAME\": \"Central\", \"TIME_OCC\": 1200, \"Crm_Cd\": 440, \"Crm_Cd_Desc\": \"THEFT PLAIN - PETTY ($950 & UNDER)\", \"Vict_Age\": 48, \"Vict_Sex\": \"M\", \"Vict_Descent\": \"B\"}, {\"Unnamed:_0\": 272471, \"AREA_NAME\": \"Harbor\", \"TIME_OCC\": 910, \"Crm_Cd\": 331, \"Crm_Cd_Desc\": \"THEFT FROM MOTOR VEHICLE - GRAND ($400 AND OVER)\", \"Vict_Age\": 72, \"Vict_Sex\": \"F\", \"Vict_Descent\": \"W\"}, {\"Unnamed:_0\": 263446, \"AREA_NAME\": \"Pacific\", \"TIME_OCC\": 600, \"Crm_Cd\": 341, \"Crm_Cd_Desc\": \"THEFT-GRAND ($950.01 & OVER)EXCPT,GUNS,FOWL,LIVESTK,PROD\", \"Vict_Age\": 56, \"Vict_Sex\": \"M\", \"Vict_Descent\": \"W\"}, {\"Unnamed:_0\": 70988, \"AREA_NAME\": \"Wilshire\", \"TIME_OCC\": 1700, \"Crm_Cd\": 310, \"Crm_Cd_Desc\": \"BURGLARY\", \"Vict_Age\": 43, \"Vict_Sex\": \"M\", \"Vict_Descent\": \"W\"}, {\"Unnamed:_0\": 114181, \"AREA_NAME\": \"Devonshire\", \"TIME_OCC\": 1730, \"Crm_Cd\": 420, \"Crm_Cd_Desc\": \"THEFT FROM MOTOR VEHICLE - PETTY ($950 & UNDER)\", \"Vict_Age\": 55, \"Vict_Sex\": \"M\", \"Vict_Descent\": \"H\"}, {\"Unnamed:_0\": 244129, \"AREA_NAME\": \"Wilshire\", \"TIME_OCC\": 1800, \"Crm_Cd\": 343, \"Crm_Cd_Desc\": \"SHOPLIFTING-GRAND THEFT ($950.01 & OVER)\", \"Vict_Age\": 29, \"Vict_Sex\": \"F\", \"Vict_Descent\": \"W\"}, {\"Unnamed:_0\": 116725, \"AREA_NAME\": \"Van Nuys\", \"TIME_OCC\": 2020, \"Crm_Cd\": 440, \"Crm_Cd_Desc\": \"THEFT PLAIN - PETTY ($950 & UNDER)\", \"Vict_Age\": 53, \"Vict_Sex\": \"M\", \"Vict_Descent\": \"H\"}, {\"Unnamed:_0\": 115622, \"AREA_NAME\": \"Harbor\", \"TIME_OCC\": 1, \"Crm_Cd\": 626, \"Crm_Cd_Desc\": \"INTIMATE PARTNER - SIMPLE ASSAULT\", \"Vict_Age\": 34, \"Vict_Sex\": \"F\", \"Vict_Descent\": \"H\"}, {\"Unnamed:_0\": 41018, \"AREA_NAME\": \"West Valley\", \"TIME_OCC\": 2000, \"Crm_Cd\": 330, \"Crm_Cd_Desc\": \"BURGLARY FROM VEHICLE\", \"Vict_Age\": 59, \"Vict_Sex\": \"M\", \"Vict_Descent\": \"O\"}, {\"Unnamed:_0\": 114613, \"AREA_NAME\": \"Southeast\", \"TIME_OCC\": 300, \"Crm_Cd\": 626, \"Crm_Cd_Desc\": \"INTIMATE PARTNER - SIMPLE ASSAULT\", \"Vict_Age\": 30, \"Vict_Sex\": \"F\", \"Vict_Descent\": \"H\"}, {\"Unnamed:_0\": 69682, \"AREA_NAME\": \"N Hollywood\", \"TIME_OCC\": 1425, \"Crm_Cd\": 230, \"Crm_Cd_Desc\": \"ASSAULT WITH DEADLY WEAPON, AGGRAVATED ASSAULT\", \"Vict_Age\": 23, \"Vict_Sex\": \"M\", \"Vict_Descent\": \"O\"}, {\"Unnamed:_0\": 274559, \"AREA_NAME\": \"Southeast\", \"TIME_OCC\": 1900, \"Crm_Cd\": 740, \"Crm_Cd_Desc\": \"VANDALISM - FELONY ($400 & OVER, ALL CHURCH VANDALISMS)\", \"Vict_Age\": 36, \"Vict_Sex\": \"M\", \"Vict_Descent\": \"H\"}, {\"Unnamed:_0\": 76517, \"AREA_NAME\": \"Olympic\", \"TIME_OCC\": 1030, \"Crm_Cd\": 354, \"Crm_Cd_Desc\": \"THEFT OF IDENTITY\", \"Vict_Age\": 64, \"Vict_Sex\": \"M\", \"Vict_Descent\": \"W\"}, {\"Unnamed:_0\": 215133, \"AREA_NAME\": \"Van Nuys\", \"TIME_OCC\": 1755, \"Crm_Cd\": 354, \"Crm_Cd_Desc\": \"THEFT OF IDENTITY\", \"Vict_Age\": 27, \"Vict_Sex\": \"M\", \"Vict_Descent\": \"O\"}, {\"Unnamed:_0\": 128761, \"AREA_NAME\": \"77th Street\", \"TIME_OCC\": 1000, \"Crm_Cd\": 230, \"Crm_Cd_Desc\": \"ASSAULT WITH DEADLY WEAPON, AGGRAVATED ASSAULT\", \"Vict_Age\": 44, \"Vict_Sex\": \"M\", \"Vict_Descent\": \"B\"}, {\"Unnamed:_0\": 119052, \"AREA_NAME\": \"Pacific\", \"TIME_OCC\": 1700, \"Crm_Cd\": 624, \"Crm_Cd_Desc\": \"BATTERY - SIMPLE ASSAULT\", \"Vict_Age\": 38, \"Vict_Sex\": \"M\", \"Vict_Descent\": \"W\"}, {\"Unnamed:_0\": 118070, \"AREA_NAME\": \"Central\", \"TIME_OCC\": 1710, \"Crm_Cd\": 624, \"Crm_Cd_Desc\": \"BATTERY - SIMPLE ASSAULT\", \"Vict_Age\": 23, \"Vict_Sex\": \"M\", \"Vict_Descent\": \"W\"}, {\"Unnamed:_0\": 180456, \"AREA_NAME\": \"Wilshire\", \"TIME_OCC\": 500, \"Crm_Cd\": 810, \"Crm_Cd_Desc\": \"SEX,UNLAWFUL(INC MUTUAL CONSENT, PENETRATION W/ FRGN OBJ\", \"Vict_Age\": 27, \"Vict_Sex\": \"M\", \"Vict_Descent\": \"W\"}, {\"Unnamed:_0\": 212057, \"AREA_NAME\": \"Olympic\", \"TIME_OCC\": 1045, \"Crm_Cd\": 930, \"Crm_Cd_Desc\": \"CRIMINAL THREATS - NO WEAPON DISPLAYED\", \"Vict_Age\": 56, \"Vict_Sex\": \"M\", \"Vict_Descent\": \"A\"}, {\"Unnamed:_0\": 113304, \"AREA_NAME\": \"Central\", \"TIME_OCC\": 1255, \"Crm_Cd\": 624, \"Crm_Cd_Desc\": \"BATTERY - SIMPLE ASSAULT\", \"Vict_Age\": 26, \"Vict_Sex\": \"M\", \"Vict_Descent\": \"B\"}, {\"Unnamed:_0\": 124498, \"AREA_NAME\": \"Van Nuys\", \"TIME_OCC\": 2030, \"Crm_Cd\": 624, \"Crm_Cd_Desc\": \"BATTERY - SIMPLE ASSAULT\", \"Vict_Age\": 21, \"Vict_Sex\": \"M\", \"Vict_Descent\": \"H\"}, {\"Unnamed:_0\": 215454, \"AREA_NAME\": \"Hollenbeck\", \"TIME_OCC\": 1900, \"Crm_Cd\": 330, \"Crm_Cd_Desc\": \"BURGLARY FROM VEHICLE\", \"Vict_Age\": 44, \"Vict_Sex\": \"M\", \"Vict_Descent\": \"H\"}, {\"Unnamed:_0\": 16921, \"AREA_NAME\": \"Southeast\", \"TIME_OCC\": 945, \"Crm_Cd\": 230, \"Crm_Cd_Desc\": \"ASSAULT WITH DEADLY WEAPON, AGGRAVATED ASSAULT\", \"Vict_Age\": 45, \"Vict_Sex\": \"M\", \"Vict_Descent\": \"H\"}, {\"Unnamed:_0\": 128846, \"AREA_NAME\": \"Newton\", \"TIME_OCC\": 1500, \"Crm_Cd\": 310, \"Crm_Cd_Desc\": \"BURGLARY\", \"Vict_Age\": 37, \"Vict_Sex\": \"M\", \"Vict_Descent\": \"W\"}, {\"Unnamed:_0\": 264673, \"AREA_NAME\": \"Central\", \"TIME_OCC\": 1430, \"Crm_Cd\": 354, \"Crm_Cd_Desc\": \"THEFT OF IDENTITY\", \"Vict_Age\": 36, \"Vict_Sex\": \"M\", \"Vict_Descent\": \"W\"}, {\"Unnamed:_0\": 55488, \"AREA_NAME\": \"Van Nuys\", \"TIME_OCC\": 1830, \"Crm_Cd\": 626, \"Crm_Cd_Desc\": \"INTIMATE PARTNER - SIMPLE ASSAULT\", \"Vict_Age\": 45, \"Vict_Sex\": \"F\", \"Vict_Descent\": \"H\"}, {\"Unnamed:_0\": 55938, \"AREA_NAME\": \"Hollenbeck\", \"TIME_OCC\": 1630, \"Crm_Cd\": 330, \"Crm_Cd_Desc\": \"BURGLARY FROM VEHICLE\", \"Vict_Age\": 65, \"Vict_Sex\": \"F\", \"Vict_Descent\": \"H\"}, {\"Unnamed:_0\": 250169, \"AREA_NAME\": \"Pacific\", \"TIME_OCC\": 1200, \"Crm_Cd\": 956, \"Crm_Cd_Desc\": \"LETTERS, LEWD  -  TELEPHONE CALLS, LEWD\", \"Vict_Age\": 29, \"Vict_Sex\": \"M\", \"Vict_Descent\": \"W\"}, {\"Unnamed:_0\": 205074, \"AREA_NAME\": \"Northeast\", \"TIME_OCC\": 1800, \"Crm_Cd\": 420, \"Crm_Cd_Desc\": \"THEFT FROM MOTOR VEHICLE - PETTY ($950 & UNDER)\", \"Vict_Age\": 54, \"Vict_Sex\": \"M\", \"Vict_Descent\": \"H\"}, {\"Unnamed:_0\": 23535, \"AREA_NAME\": \"Van Nuys\", \"TIME_OCC\": 2030, \"Crm_Cd\": 341, \"Crm_Cd_Desc\": \"THEFT-GRAND ($950.01 & OVER)EXCPT,GUNS,FOWL,LIVESTK,PROD\", \"Vict_Age\": 47, \"Vict_Sex\": \"M\", \"Vict_Descent\": \"O\"}, {\"Unnamed:_0\": 210556, \"AREA_NAME\": \"Central\", \"TIME_OCC\": 100, \"Crm_Cd\": 440, \"Crm_Cd_Desc\": \"THEFT PLAIN - PETTY ($950 & UNDER)\", \"Vict_Age\": 40, \"Vict_Sex\": \"M\", \"Vict_Descent\": \"B\"}, {\"Unnamed:_0\": 202110, \"AREA_NAME\": \"Hollenbeck\", \"TIME_OCC\": 2200, \"Crm_Cd\": 761, \"Crm_Cd_Desc\": \"BRANDISH WEAPON\", \"Vict_Age\": 26, \"Vict_Sex\": \"M\", \"Vict_Descent\": \"H\"}, {\"Unnamed:_0\": 205018, \"AREA_NAME\": \"Wilshire\", \"TIME_OCC\": 830, \"Crm_Cd\": 901, \"Crm_Cd_Desc\": \"VIOLATION OF RESTRAINING ORDER\", \"Vict_Age\": 77, \"Vict_Sex\": \"M\", \"Vict_Descent\": \"B\"}, {\"Unnamed:_0\": 240890, \"AREA_NAME\": \"Rampart\", \"TIME_OCC\": 1400, \"Crm_Cd\": 624, \"Crm_Cd_Desc\": \"BATTERY - SIMPLE ASSAULT\", \"Vict_Age\": 15, \"Vict_Sex\": \"F\", \"Vict_Descent\": \"H\"}, {\"Unnamed:_0\": 105445, \"AREA_NAME\": \"Pacific\", \"TIME_OCC\": 2235, \"Crm_Cd\": 910, \"Crm_Cd_Desc\": \"KIDNAPPING\", \"Vict_Age\": 34, \"Vict_Sex\": \"F\", \"Vict_Descent\": \"A\"}, {\"Unnamed:_0\": 38467, \"AREA_NAME\": \"Pacific\", \"TIME_OCC\": 730, \"Crm_Cd\": 330, \"Crm_Cd_Desc\": \"BURGLARY FROM VEHICLE\", \"Vict_Age\": 39, \"Vict_Sex\": \"F\", \"Vict_Descent\": \"W\"}, {\"Unnamed:_0\": 86442, \"AREA_NAME\": \"Central\", \"TIME_OCC\": 940, \"Crm_Cd\": 888, \"Crm_Cd_Desc\": \"TRESPASSING\", \"Vict_Age\": 27, \"Vict_Sex\": \"F\", \"Vict_Descent\": \"H\"}, {\"Unnamed:_0\": 73926, \"AREA_NAME\": \"77th Street\", \"TIME_OCC\": 1530, \"Crm_Cd\": 900, \"Crm_Cd_Desc\": \"VIOLATION OF COURT ORDER\", \"Vict_Age\": 42, \"Vict_Sex\": \"F\", \"Vict_Descent\": \"H\"}, {\"Unnamed:_0\": 29491, \"AREA_NAME\": \"Devonshire\", \"TIME_OCC\": 1015, \"Crm_Cd\": 420, \"Crm_Cd_Desc\": \"THEFT FROM MOTOR VEHICLE - PETTY ($950 & UNDER)\", \"Vict_Age\": 59, \"Vict_Sex\": \"F\", \"Vict_Descent\": \"W\"}, {\"Unnamed:_0\": 32604, \"AREA_NAME\": \"Newton\", \"TIME_OCC\": 100, \"Crm_Cd\": 350, \"Crm_Cd_Desc\": \"THEFT, PERSON\", \"Vict_Age\": 28, \"Vict_Sex\": \"M\", \"Vict_Descent\": \"H\"}, {\"Unnamed:_0\": 135762, \"AREA_NAME\": \"Topanga\", \"TIME_OCC\": 1, \"Crm_Cd\": 626, \"Crm_Cd_Desc\": \"INTIMATE PARTNER - SIMPLE ASSAULT\", \"Vict_Age\": 20, \"Vict_Sex\": \"F\", \"Vict_Descent\": \"H\"}, {\"Unnamed:_0\": 2548, \"AREA_NAME\": \"Southwest\", \"TIME_OCC\": 2000, \"Crm_Cd\": 331, \"Crm_Cd_Desc\": \"THEFT FROM MOTOR VEHICLE - GRAND ($400 AND OVER)\", \"Vict_Age\": 54, \"Vict_Sex\": \"F\", \"Vict_Descent\": \"B\"}, {\"Unnamed:_0\": 23185, \"AREA_NAME\": \"Mission\", \"TIME_OCC\": 1130, \"Crm_Cd\": 624, \"Crm_Cd_Desc\": \"BATTERY - SIMPLE ASSAULT\", \"Vict_Age\": 42, \"Vict_Sex\": \"F\", \"Vict_Descent\": \"H\"}, {\"Unnamed:_0\": 205610, \"AREA_NAME\": \"Pacific\", \"TIME_OCC\": 330, \"Crm_Cd\": 626, \"Crm_Cd_Desc\": \"INTIMATE PARTNER - SIMPLE ASSAULT\", \"Vict_Age\": 39, \"Vict_Sex\": \"F\", \"Vict_Descent\": \"B\"}, {\"Unnamed:_0\": 267747, \"AREA_NAME\": \"West Valley\", \"TIME_OCC\": 1000, \"Crm_Cd\": 310, \"Crm_Cd_Desc\": \"BURGLARY\", \"Vict_Age\": 67, \"Vict_Sex\": \"M\", \"Vict_Descent\": \"O\"}, {\"Unnamed:_0\": 18882, \"AREA_NAME\": \"West LA\", \"TIME_OCC\": 2105, \"Crm_Cd\": 354, \"Crm_Cd_Desc\": \"THEFT OF IDENTITY\", \"Vict_Age\": 45, \"Vict_Sex\": \"M\", \"Vict_Descent\": \"W\"}, {\"Unnamed:_0\": 76373, \"AREA_NAME\": \"Wilshire\", \"TIME_OCC\": 1640, \"Crm_Cd\": 442, \"Crm_Cd_Desc\": \"SHOPLIFTING - PETTY THEFT ($950 & UNDER)\", \"Vict_Age\": 26, \"Vict_Sex\": \"M\", \"Vict_Descent\": \"H\"}, {\"Unnamed:_0\": 276556, \"AREA_NAME\": \"Topanga\", \"TIME_OCC\": 1630, \"Crm_Cd\": 420, \"Crm_Cd_Desc\": \"THEFT FROM MOTOR VEHICLE - PETTY ($950 & UNDER)\", \"Vict_Age\": 60, \"Vict_Sex\": \"M\", \"Vict_Descent\": \"W\"}, {\"Unnamed:_0\": 169432, \"AREA_NAME\": \"Mission\", \"TIME_OCC\": 2305, \"Crm_Cd\": 230, \"Crm_Cd_Desc\": \"ASSAULT WITH DEADLY WEAPON, AGGRAVATED ASSAULT\", \"Vict_Age\": 30, \"Vict_Sex\": \"M\", \"Vict_Descent\": \"H\"}, {\"Unnamed:_0\": 165689, \"AREA_NAME\": \"N Hollywood\", \"TIME_OCC\": 1900, \"Crm_Cd\": 440, \"Crm_Cd_Desc\": \"THEFT PLAIN - PETTY ($950 & UNDER)\", \"Vict_Age\": 33, \"Vict_Sex\": \"F\", \"Vict_Descent\": \"W\"}, {\"Unnamed:_0\": 153307, \"AREA_NAME\": \"Hollenbeck\", \"TIME_OCC\": 2030, \"Crm_Cd\": 330, \"Crm_Cd_Desc\": \"BURGLARY FROM VEHICLE\", \"Vict_Age\": 33, \"Vict_Sex\": \"M\", \"Vict_Descent\": \"H\"}, {\"Unnamed:_0\": 240482, \"AREA_NAME\": \"Wilshire\", \"TIME_OCC\": 845, \"Crm_Cd\": 354, \"Crm_Cd_Desc\": \"THEFT OF IDENTITY\", \"Vict_Age\": 61, \"Vict_Sex\": \"F\", \"Vict_Descent\": \"F\"}, {\"Unnamed:_0\": 79362, \"AREA_NAME\": \"Foothill\", \"TIME_OCC\": 2250, \"Crm_Cd\": 740, \"Crm_Cd_Desc\": \"VANDALISM - FELONY ($400 & OVER, ALL CHURCH VANDALISMS)\", \"Vict_Age\": 35, \"Vict_Sex\": \"F\", \"Vict_Descent\": \"H\"}, {\"Unnamed:_0\": 69169, \"AREA_NAME\": \"Hollywood\", \"TIME_OCC\": 2300, \"Crm_Cd\": 626, \"Crm_Cd_Desc\": \"INTIMATE PARTNER - SIMPLE ASSAULT\", \"Vict_Age\": 67, \"Vict_Sex\": \"F\", \"Vict_Descent\": \"W\"}, {\"Unnamed:_0\": 239069, \"AREA_NAME\": \"Olympic\", \"TIME_OCC\": 410, \"Crm_Cd\": 626, \"Crm_Cd_Desc\": \"INTIMATE PARTNER - SIMPLE ASSAULT\", \"Vict_Age\": 41, \"Vict_Sex\": \"F\", \"Vict_Descent\": \"H\"}, {\"Unnamed:_0\": 80565, \"AREA_NAME\": \"Wilshire\", \"TIME_OCC\": 2145, \"Crm_Cd\": 761, \"Crm_Cd_Desc\": \"BRANDISH WEAPON\", \"Vict_Age\": 55, \"Vict_Sex\": \"M\", \"Vict_Descent\": \"B\"}, {\"Unnamed:_0\": 174922, \"AREA_NAME\": \"Wilshire\", \"TIME_OCC\": 1430, \"Crm_Cd\": 341, \"Crm_Cd_Desc\": \"THEFT-GRAND ($950.01 & OVER)EXCPT,GUNS,FOWL,LIVESTK,PROD\", \"Vict_Age\": 20, \"Vict_Sex\": \"M\", \"Vict_Descent\": \"O\"}, {\"Unnamed:_0\": 47059, \"AREA_NAME\": \"77th Street\", \"TIME_OCC\": 2230, \"Crm_Cd\": 664, \"Crm_Cd_Desc\": \"BUNCO, PETTY THEFT\", \"Vict_Age\": 38, \"Vict_Sex\": \"M\", \"Vict_Descent\": \"B\"}, {\"Unnamed:_0\": 218830, \"AREA_NAME\": \"West LA\", \"TIME_OCC\": 1600, \"Crm_Cd\": 331, \"Crm_Cd_Desc\": \"THEFT FROM MOTOR VEHICLE - GRAND ($400 AND OVER)\", \"Vict_Age\": 39, \"Vict_Sex\": \"M\", \"Vict_Descent\": \"H\"}, {\"Unnamed:_0\": 272205, \"AREA_NAME\": \"Northeast\", \"TIME_OCC\": 1144, \"Crm_Cd\": 440, \"Crm_Cd_Desc\": \"THEFT PLAIN - PETTY ($950 & UNDER)\", \"Vict_Age\": 75, \"Vict_Sex\": \"M\", \"Vict_Descent\": \"O\"}, {\"Unnamed:_0\": 54659, \"AREA_NAME\": \"Rampart\", \"TIME_OCC\": 1540, \"Crm_Cd\": 210, \"Crm_Cd_Desc\": \"ROBBERY\", \"Vict_Age\": 25, \"Vict_Sex\": \"F\", \"Vict_Descent\": \"H\"}, {\"Unnamed:_0\": 124480, \"AREA_NAME\": \"Southeast\", \"TIME_OCC\": 920, \"Crm_Cd\": 624, \"Crm_Cd_Desc\": \"BATTERY - SIMPLE ASSAULT\", \"Vict_Age\": 31, \"Vict_Sex\": \"F\", \"Vict_Descent\": \"B\"}, {\"Unnamed:_0\": 120169, \"AREA_NAME\": \"Rampart\", \"TIME_OCC\": 1700, \"Crm_Cd\": 331, \"Crm_Cd_Desc\": \"THEFT FROM MOTOR VEHICLE - GRAND ($400 AND OVER)\", \"Vict_Age\": 30, \"Vict_Sex\": \"F\", \"Vict_Descent\": \"O\"}, {\"Unnamed:_0\": 199513, \"AREA_NAME\": \"West LA\", \"TIME_OCC\": 1030, \"Crm_Cd\": 354, \"Crm_Cd_Desc\": \"THEFT OF IDENTITY\", \"Vict_Age\": 52, \"Vict_Sex\": \"M\", \"Vict_Descent\": \"W\"}, {\"Unnamed:_0\": 114168, \"AREA_NAME\": \"Central\", \"TIME_OCC\": 2125, \"Crm_Cd\": 230, \"Crm_Cd_Desc\": \"ASSAULT WITH DEADLY WEAPON, AGGRAVATED ASSAULT\", \"Vict_Age\": 29, \"Vict_Sex\": \"F\", \"Vict_Descent\": \"W\"}]}}, {\"mode\": \"vega-lite\"});\n",
       "</script>"
      ],
      "text/plain": [
       "alt.Chart(...)"
      ]
     },
     "execution_count": 58,
     "metadata": {},
     "output_type": "execute_result"
    }
   ],
   "source": [
    "import altair as alt\n",
    "\n",
    "sample_for_plotting = crime_data.sample(150)\n",
    "\n",
    "time_vs_age = alt.Chart(sample_for_plotting, title= \"Age of Victim versus Time of Crime\").mark_point(opacity=0.5).encode(\n",
    "    x=alt.X(\"TIME_OCC:T\", title=\"Time Crime Occurred, in military hours\"),\n",
    "    y=alt.Y(\"Vict_Age\", title=\"Age of Victim, in years\"),\n",
    "    shape=alt.Shape(\"Vict_Sex\", title=\"Sex of Victim (male or female)\"),\n",
    "    color=alt.Color(\"Vict_Descent\", title=\"Victim Descent (ethnicity)\")\n",
    ")\n",
    "time_vs_age\n",
    "#this can be retrofitted into predicting types of crime (ex: the most common forms of crime) later on in our official analysis"
   ]
  },
  {
   "cell_type": "markdown",
   "id": "113b8858-9496-452c-ad2d-95c778c2a0cf",
   "metadata": {},
   "source": [
    "#### **Methods**\n",
    "\n",
    "**Explain how you will conduct either your data analysis and which variables/columns you will use.**\n",
    "\n",
    "\n",
    "We will be utilizing victim-related variables like age and time of the crime to predict what forms of crime may occur. This will formulate a basis for us to explore patterns of crime in the area, and to analyze whether these respective attributes lead to an increased likelihood of crimes occurring. We will also be incorporating the time a crime occurred to specify which times of day crimes tend to occur.\n",
    "To conduct our analysis, we will be selecting a number of columns that provide a comprehensive overview of LA’s crime. The columns that we will use include: \n",
    "\n",
    "* “AREA NAME”: Area in which the crime occurred\n",
    "* “TIME OCC”: Time of day in which crime occurred.\n",
    "* “Crm Cd”: The crime code associated with the incident.\n",
    "* “Crm Cd Desc”: The description of a crime.\n",
    "* “Vict Age”: The age of the victim.\n",
    "* “Vict Sex”: Gender of the victim assigned at birth.\n",
    "* “Vict Descent”: The ethnicity of the victim.\n"
   ]
  },
  {
   "cell_type": "markdown",
   "id": "26058440-bb7f-4645-b7bf-f517b24f6cbf",
   "metadata": {},
   "source": [
    "**Describe at least one way that you will visualize the results**\n",
    "\n",
    "The results can be visualized using a histogram where we have subplots \n",
    "for each ethnicity (using the facet function). Each type of crime would\n",
    "be present along the x-axis, and their respective frequencies of crime would \n",
    "be illustrated on the y-axis. The gender of victims can be depicted using different \n",
    "colors on the bars. A histogram would be best integrated into our analysis, as we could \n",
    "draw comparisons between the frequencies of forms of crime within various ethnic groups. \n"
   ]
  },
  {
   "cell_type": "markdown",
   "id": "4e5836d4-ef95-427c-a411-3a8cb51ae195",
   "metadata": {},
   "source": [
    "#### **Expected Outcomes and Significance**\n",
    "\n",
    "**What do you expect to find?**\n",
    "\n",
    "It is difficult to decipher what crime-type will be predicted given the victim-related variables by simply viewing the dataset since the data set is very extensive. We do expect to find a higher crime rate at night (when it is dark), and the victims to skew female. \n",
    "\n",
    "**What impact could such findings have?**\n",
    "\n",
    "An impact the findings could have is deterring people from living in certain neighborhoods because of higher crime rates (certain on or general). It can also help with awareness of crimes during certain times of the day or to warn victims that fit a profile to be more careful in these areas (age, time of day, gender). \n",
    "\n",
    "**What future questions could this lead to?**\n",
    "\n",
    "Do neighborhoods that skew younger have a tendency to exhibit certain crime types?\n",
    "At which times of the day, do more violent forms of crime typically occur?\n",
    "Are certain ethnic groups statistically more susceptible to being victims of these crimes?\n"
   ]
  },
  {
   "cell_type": "code",
   "execution_count": null,
   "id": "b096366b-cf9c-4847-8900-5558a1092a0c",
   "metadata": {},
   "outputs": [],
   "source": []
  },
  {
   "cell_type": "code",
   "execution_count": null,
   "id": "bd7820f3-8bc4-451d-adaa-b19b107ae143",
   "metadata": {},
   "outputs": [],
   "source": []
  }
 ],
 "metadata": {
  "kernelspec": {
   "display_name": "Python 3 (ipykernel)",
   "language": "python",
   "name": "python3"
  },
  "language_info": {
   "codemirror_mode": {
    "name": "ipython",
    "version": 3
   },
   "file_extension": ".py",
   "mimetype": "text/x-python",
   "name": "python",
   "nbconvert_exporter": "python",
   "pygments_lexer": "ipython3",
   "version": "3.10.8"
  }
 },
 "nbformat": 4,
 "nbformat_minor": 5
}
